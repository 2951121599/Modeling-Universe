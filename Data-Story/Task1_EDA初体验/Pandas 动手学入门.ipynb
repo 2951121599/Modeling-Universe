{
 "cells": [
  {
   "cell_type": "markdown",
   "id": "f28bf08a",
   "metadata": {},
   "source": [
    "# Pandas 动手学入门\n",
    "本课程基于[DataWhale开源教程《Joyful-Pandas》](http://joyfulpandas.datawhale.club/index.html)与[开源项目 ajcr/100-pandas-puzzles](https://github.com/ajcr/100-pandas-puzzles)其[中译版](https://github.com/VXenomac/100-pandas-puzzles-cn)开发. 在数据分析的实践中，Pandas是一个非常重要的库，它集成了非常多的统计分析功能，[《Joyful-Pandas》](http://joyfulpandas.datawhale.club/index.html)是一份非常详尽，并且适合新手的Pandas中文教程，同时它也是Pandas官方认证的中文教程！但笔者学习过程中，始终觉得编程学习“纸上得来终觉浅”，对于刚接触一个新的库的“躬行”笔者认为最好的方式就是对照着官方文档以及QuickStart吧例子自己尝试一遍，并且在实践中学会如何查文档，这是一个开发者必备的技能.因此本教程就是基于这样的思想，给出对应的操作以及对应的文档地址，学习者需要自行查阅文档，完成下面的实践."
   ]
  },
  {
   "cell_type": "markdown",
   "id": "65651134",
   "metadata": {
    "ExecuteTime": {
     "end_time": "2022-07-04T02:13:00.577686Z",
     "start_time": "2022-07-04T02:13:00.565707Z"
    }
   },
   "source": [
    "## 餐前准备\n",
    "在这部分中，我们主要学习如何导入Pandas以及查看版本信息，难度是比较简单的.\n",
    "> 请你阅读Joyful-Pandas第二章，完成下方练习.\n",
    "http://joyfulpandas.datawhale.club/Content/ch2.html"
   ]
  },
  {
   "cell_type": "markdown",
   "id": "a7b19b9c",
   "metadata": {},
   "source": [
    "**1.** 以 `pd` 别名导入 pandas 库"
   ]
  },
  {
   "cell_type": "code",
   "execution_count": null,
   "id": "04703136",
   "metadata": {},
   "outputs": [],
   "source": []
  },
  {
   "cell_type": "markdown",
   "id": "45f8afb1",
   "metadata": {},
   "source": [
    "**2.** 打印出pandas 库的版本信息"
   ]
  },
  {
   "cell_type": "code",
   "execution_count": null,
   "id": "9add1264",
   "metadata": {},
   "outputs": [],
   "source": []
  },
  {
   "cell_type": "markdown",
   "id": "dcc1b82a",
   "metadata": {},
   "source": [
    "**3.** 打印 pandas 依赖包及其版本信息"
   ]
  },
  {
   "cell_type": "code",
   "execution_count": null,
   "id": "2dbd4977",
   "metadata": {},
   "outputs": [],
   "source": []
  },
  {
   "cell_type": "markdown",
   "id": "20e638dc",
   "metadata": {},
   "source": [
    "## 备齐食材\n",
    "在这部分中，主要介绍了Pandas一个重要的数据结构```DataFrame```\n",
    "\n",
    "> 请你阅读Joyful-Pandas第二章，完成下方练习.\n",
    "http://joyfulpandas.datawhale.club/Content/ch2.html"
   ]
  },
  {
   "cell_type": "code",
   "execution_count": 2,
   "id": "5e1a5b47",
   "metadata": {
    "ExecuteTime": {
     "end_time": "2022-07-04T02:26:07.001361Z",
     "start_time": "2022-07-04T02:26:04.844331Z"
    }
   },
   "outputs": [],
   "source": [
    "import numpy as np"
   ]
  },
  {
   "cell_type": "markdown",
   "id": "c0e120d5",
   "metadata": {},
   "source": [
    "有下面这样的一个数据字典 `data` 以及列表格式的标签数据 `labels`:"
   ]
  },
  {
   "cell_type": "code",
   "execution_count": 3,
   "id": "b11325e2",
   "metadata": {
    "ExecuteTime": {
     "end_time": "2022-07-04T02:27:11.280507Z",
     "start_time": "2022-07-04T02:27:11.265997Z"
    }
   },
   "outputs": [],
   "source": [
    "data = {'animal': ['cat', 'cat', 'snake', 'dog', 'dog', 'cat', 'snake', 'cat', 'dog', 'dog'],\n",
    "        'age': [2.5, 3, 0.5, np.nan, 5, 2, 4.5, np.nan, 7, 3],\n",
    "        'visits': [1, 3, 2, 3, 2, 3, 1, 1, 2, 1],\n",
    "        'priority': ['yes', 'yes', 'no', 'yes', 'no', 'no', 'no', 'yes', 'no', 'no']}\n",
    "\n",
    "labels = ['a', 'b', 'c', 'd', 'e', 'f', 'g', 'h', 'i', 'j']"
   ]
  },
  {
   "cell_type": "markdown",
   "id": "97d3458d",
   "metadata": {},
   "source": [
    "**4.** 使用数据 `data` 和行索引 `labels` 创建一个 DataFrame `df` "
   ]
  },
  {
   "cell_type": "code",
   "execution_count": null,
   "id": "c483dec9",
   "metadata": {},
   "outputs": [],
   "source": []
  },
  {
   "cell_type": "markdown",
   "id": "8c8af260",
   "metadata": {
    "ExecuteTime": {
     "end_time": "2022-07-04T02:27:42.594136Z",
     "start_time": "2022-07-04T02:27:42.580166Z"
    }
   },
   "source": [
    "**5.** 显示该 DataFrame 及其数据相关的基本信息（*提示：DataFrame 直接调用的方法*）"
   ]
  },
  {
   "cell_type": "code",
   "execution_count": null,
   "id": "e38e961a",
   "metadata": {},
   "outputs": [],
   "source": []
  },
  {
   "cell_type": "markdown",
   "id": "408c64e5",
   "metadata": {},
   "source": [
    "**6.** 返回 DataFrame `df` 的前4行数据"
   ]
  },
  {
   "cell_type": "code",
   "execution_count": null,
   "id": "1c216d33",
   "metadata": {},
   "outputs": [],
   "source": []
  },
  {
   "cell_type": "markdown",
   "id": "b177dd6c",
   "metadata": {},
   "source": [
    "**7.** 从 DataFrame `df` 选择标签为 `animal` 和 `age` 的列"
   ]
  },
  {
   "cell_type": "code",
   "execution_count": null,
   "id": "e2a8cbac",
   "metadata": {},
   "outputs": [],
   "source": []
  },
  {
   "cell_type": "markdown",
   "id": "4a34f4ce",
   "metadata": {},
   "source": [
    "**8.** 在 `[3, 4, 8]` 行中，列为 `['animal', 'age']` 的数据"
   ]
  },
  {
   "cell_type": "code",
   "execution_count": null,
   "id": "ac73b9a4",
   "metadata": {},
   "outputs": [],
   "source": []
  },
  {
   "cell_type": "markdown",
   "id": "706b424a",
   "metadata": {
    "ExecuteTime": {
     "end_time": "2022-07-04T02:31:39.363220Z",
     "start_time": "2022-07-04T02:31:39.351331Z"
    }
   },
   "source": [
    "**9.** 选择列```visits``` 大于 3 的行"
   ]
  },
  {
   "cell_type": "code",
   "execution_count": null,
   "id": "4f75946c",
   "metadata": {},
   "outputs": [],
   "source": []
  },
  {
   "cell_type": "markdown",
   "id": "60d1d20f",
   "metadata": {},
   "source": [
    "**10.** 选择 `age` 为缺失值的行"
   ]
  },
  {
   "cell_type": "code",
   "execution_count": null,
   "id": "4d94b1c0",
   "metadata": {},
   "outputs": [],
   "source": []
  },
  {
   "cell_type": "markdown",
   "id": "96f3bc7c",
   "metadata": {},
   "source": [
    "**11.** 选择 `animal` 是cat且`age` 小于 3 的行"
   ]
  },
  {
   "cell_type": "code",
   "execution_count": null,
   "id": "a2adc900",
   "metadata": {},
   "outputs": [],
   "source": []
  },
  {
   "cell_type": "markdown",
   "id": "39c7939e",
   "metadata": {},
   "source": [
    "**12.** 选择 `age` 在 2 到 4 之间的数据（包含边界值）"
   ]
  },
  {
   "cell_type": "code",
   "execution_count": null,
   "id": "5dc70baf",
   "metadata": {},
   "outputs": [],
   "source": []
  },
  {
   "cell_type": "markdown",
   "id": "59a7e3b1",
   "metadata": {},
   "source": [
    "**13.** 将 'f' 行的 `age` 改为 1.5"
   ]
  },
  {
   "cell_type": "code",
   "execution_count": null,
   "id": "17ea3445",
   "metadata": {},
   "outputs": [],
   "source": []
  },
  {
   "cell_type": "markdown",
   "id": "88a13e7b",
   "metadata": {},
   "source": [
    "**14.** 对 `visits` 列的数据求和"
   ]
  },
  {
   "cell_type": "code",
   "execution_count": null,
   "id": "15525bb6",
   "metadata": {},
   "outputs": [],
   "source": []
  },
  {
   "cell_type": "markdown",
   "id": "147f224e",
   "metadata": {},
   "source": [
    "**15.** 计算每种 `animal` `age` 的平均值"
   ]
  },
  {
   "cell_type": "code",
   "execution_count": null,
   "id": "3b1dfc22",
   "metadata": {},
   "outputs": [],
   "source": []
  },
  {
   "cell_type": "markdown",
   "id": "4ecca615",
   "metadata": {
    "ExecuteTime": {
     "end_time": "2022-07-04T02:42:00.733762Z",
     "start_time": "2022-07-04T02:42:00.726808Z"
    }
   },
   "source": [
    "**16.** 新增一行数据 k，数据自定义，然后再删除新追加的 k 行"
   ]
  },
  {
   "cell_type": "code",
   "execution_count": null,
   "id": "729febdc",
   "metadata": {},
   "outputs": [],
   "source": []
  },
  {
   "cell_type": "markdown",
   "id": "8724480d",
   "metadata": {},
   "source": [
    "**17.** 统计每种 `animal` 的个数"
   ]
  },
  {
   "cell_type": "code",
   "execution_count": null,
   "id": "066b3247",
   "metadata": {},
   "outputs": [],
   "source": []
  },
  {
   "cell_type": "markdown",
   "id": "5f948fa7",
   "metadata": {},
   "source": [
    "**18.** 先根据 `age` 降序排列，再根据 `visits` 升序排列（结果 `i` 列在前面，`d` 列在最后面）"
   ]
  },
  {
   "cell_type": "code",
   "execution_count": null,
   "id": "e305cfb7",
   "metadata": {},
   "outputs": [],
   "source": []
  },
  {
   "cell_type": "markdown",
   "id": "84eb8df2",
   "metadata": {},
   "source": [
    "**19.** 将 `priority` 列的 `yes` 和 `no` 用 `True` 和 `False` 替换"
   ]
  },
  {
   "cell_type": "code",
   "execution_count": null,
   "id": "5b1c19a5",
   "metadata": {},
   "outputs": [],
   "source": []
  },
  {
   "cell_type": "markdown",
   "id": "7d3cb893",
   "metadata": {
    "ExecuteTime": {
     "end_time": "2022-07-04T02:44:08.561713Z",
     "start_time": "2022-07-04T02:44:08.549886Z"
    }
   },
   "source": [
    "**20.** 将 `animal` 列的 `snake` 用 `python` 替换"
   ]
  },
  {
   "cell_type": "code",
   "execution_count": null,
   "id": "501fd682",
   "metadata": {},
   "outputs": [],
   "source": []
  },
  {
   "cell_type": "markdown",
   "id": "7a128734",
   "metadata": {},
   "source": [
    "**21.** 对于每种 `animal` 和 `visit`，求出平均年龄。换句话说，每一行都是动物，每一列都是访问次数，其值是平均年龄（提示：使用数据透视表）"
   ]
  },
  {
   "cell_type": "code",
   "execution_count": null,
   "id": "a6a4621c",
   "metadata": {},
   "outputs": [],
   "source": []
  },
  {
   "cell_type": "markdown",
   "id": "a5537fc6",
   "metadata": {
    "ExecuteTime": {
     "end_time": "2022-07-04T02:50:22.270613Z",
     "start_time": "2022-07-04T02:50:22.256708Z"
    }
   },
   "source": [
    "**22.** 读取`data`文件夹下的`boston.csv`文件，并尝试利用上面的方法自行分析，得出一些简单的结论."
   ]
  },
  {
   "cell_type": "code",
   "execution_count": null,
   "id": "d05a3b3c",
   "metadata": {},
   "outputs": [],
   "source": []
  },
  {
   "cell_type": "markdown",
   "id": "0ccbd4de",
   "metadata": {},
   "source": [
    "至此，相信你已经可以通过阅读文档，掌握了pandas中`DataFrame`的一些基本操作，下面我们来讲点更进一步的操作，她是上述这些操作的一些巧妙结合"
   ]
  },
  {
   "cell_type": "code",
   "execution_count": 9,
   "id": "7b303cb6",
   "metadata": {
    "ExecuteTime": {
     "end_time": "2022-07-04T07:05:26.844231Z",
     "start_time": "2022-07-04T07:05:26.824243Z"
    }
   },
   "outputs": [
    {
     "ename": "SyntaxError",
     "evalue": "invalid character in identifier (Temp/ipykernel_13684/1980966956.py, line 2)",
     "output_type": "error",
     "traceback": [
      "\u001b[1;36m  File \u001b[1;32m\"C:\\Users\\melon\\AppData\\Local\\Temp/ipykernel_13684/1980966956.py\"\u001b[1;36m, line \u001b[1;32m2\u001b[0m\n\u001b[1;33m    在这个部分中，我们主要介绍\u001b[0m\n\u001b[1;37m                ^\u001b[0m\n\u001b[1;31mSyntaxError\u001b[0m\u001b[1;31m:\u001b[0m invalid character in identifier\n"
     ]
    }
   ],
   "source": [
    "## 食材搭配\n",
    "在这个部分中，我们主要介绍"
   ]
  },
  {
   "cell_type": "code",
   "execution_count": null,
   "id": "91fa7629",
   "metadata": {},
   "outputs": [],
   "source": []
  },
  {
   "cell_type": "code",
   "execution_count": null,
   "id": "ba65887a",
   "metadata": {},
   "outputs": [],
   "source": []
  },
  {
   "cell_type": "code",
   "execution_count": null,
   "id": "20967bea",
   "metadata": {},
   "outputs": [],
   "source": []
  },
  {
   "cell_type": "code",
   "execution_count": null,
   "id": "e6863f44",
   "metadata": {},
   "outputs": [],
   "source": []
  },
  {
   "cell_type": "code",
   "execution_count": null,
   "id": "3ae1c176",
   "metadata": {},
   "outputs": [],
   "source": []
  },
  {
   "cell_type": "code",
   "execution_count": null,
   "id": "6cb479f4",
   "metadata": {},
   "outputs": [],
   "source": []
  },
  {
   "cell_type": "code",
   "execution_count": null,
   "id": "add3ce99",
   "metadata": {},
   "outputs": [],
   "source": []
  },
  {
   "cell_type": "code",
   "execution_count": null,
   "id": "c01a1df3",
   "metadata": {},
   "outputs": [],
   "source": []
  }
 ],
 "metadata": {
  "kernelspec": {
   "display_name": "ML38",
   "language": "python",
   "name": "ml38"
  },
  "language_info": {
   "codemirror_mode": {
    "name": "ipython",
    "version": 3
   },
   "file_extension": ".py",
   "mimetype": "text/x-python",
   "name": "python",
   "nbconvert_exporter": "python",
   "pygments_lexer": "ipython3",
   "version": "3.8.12"
  },
  "latex_envs": {
   "LaTeX_envs_menu_present": true,
   "autoclose": false,
   "autocomplete": true,
   "bibliofile": "biblio.bib",
   "cite_by": "apalike",
   "current_citInitial": 1,
   "eqLabelWithNumbers": true,
   "eqNumInitial": 1,
   "hotkeys": {
    "equation": "Ctrl-E",
    "itemize": "Ctrl-I"
   },
   "labels_anchors": false,
   "latex_user_defs": false,
   "report_style_numbering": false,
   "user_envs_cfg": false
  }
 },
 "nbformat": 4,
 "nbformat_minor": 5
}
