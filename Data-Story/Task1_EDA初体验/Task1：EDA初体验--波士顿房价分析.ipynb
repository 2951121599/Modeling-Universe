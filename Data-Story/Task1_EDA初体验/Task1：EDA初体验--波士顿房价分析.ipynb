{
 "cells": [
  {
   "cell_type": "code",
   "execution_count": 1,
   "id": "c21476f3",
   "metadata": {
    "ExecuteTime": {
     "end_time": "2022-06-26T07:59:03.469051Z",
     "start_time": "2022-06-26T07:59:03.456415Z"
    },
    "jupyter": {
     "outputs_hidden": true
    },
    "tags": []
   },
   "outputs": [],
   "source": [
    "# !pip install jupyterlab \"ipywidgets>=7.5\" \n",
    "# !pip install npm\n",
    "# !conda install -c conda-forge nodejs\n",
    "# !pip install plotly"
   ]
  },
  {
   "cell_type": "code",
   "execution_count": 2,
   "id": "f20ac2b4",
   "metadata": {
    "ExecuteTime": {
     "end_time": "2022-06-26T07:59:26.141943Z",
     "start_time": "2022-06-26T07:59:03.470050Z"
    }
   },
   "outputs": [],
   "source": [
    "# 加载必要库\n",
    "import pandas as pd # 数据分析库\n",
    "import numpy as np # 矩阵计算\n",
    "import matplotlib.pyplot as plt # 画图\n",
    "\n",
    "import plotly.express as px # 画图\n",
    "from statsmodels.graphics.gofplots import qqplot # 统计模型\n",
    "import seaborn as sns # 统计绘图\n",
    "%matplotlib inline\n",
    "\n",
    "# 避免产生报警告\n",
    "import warnings \n",
    "warnings.filterwarnings('ignore')"
   ]
  },
  {
   "cell_type": "markdown",
   "id": "6b2c3295",
   "metadata": {},
   "source": [
    "## 数据加载"
   ]
  },
  {
   "cell_type": "code",
   "execution_count": 3,
   "id": "4872cd7c",
   "metadata": {
    "ExecuteTime": {
     "end_time": "2022-06-26T07:59:26.157203Z",
     "start_time": "2022-06-26T07:59:26.152396Z"
    }
   },
   "outputs": [],
   "source": [
    "# 加载数据\n",
    "## 参考链接：https://scikit-learn.org/stable/modules/generated/sklearn.datasets.load_boston.html#sklearn.datasets.load_boston\n",
    "# data_url = \"http://lib.stat.cmu.edu/datasets/boston\" # 数据来源\n",
    "# raw_df = pd.read_csv(data_url, sep=\"\\s+\", skiprows=22, header=None) # 用pandas读csv文件\n",
    "# data = np.hstack([raw_df.values[::2, :], raw_df.values[1::2, :2]])\n",
    "# target = raw_df.values[1::2, 2]"
   ]
  },
  {
   "cell_type": "code",
   "execution_count": 4,
   "id": "adca5cbe",
   "metadata": {
    "ExecuteTime": {
     "end_time": "2022-06-26T07:59:26.250180Z",
     "start_time": "2022-06-26T07:59:26.159197Z"
    }
   },
   "outputs": [
    {
     "data": {
      "text/html": [
       "<div>\n",
       "<style scoped>\n",
       "    .dataframe tbody tr th:only-of-type {\n",
       "        vertical-align: middle;\n",
       "    }\n",
       "\n",
       "    .dataframe tbody tr th {\n",
       "        vertical-align: top;\n",
       "    }\n",
       "\n",
       "    .dataframe thead th {\n",
       "        text-align: right;\n",
       "    }\n",
       "</style>\n",
       "<table border=\"1\" class=\"dataframe\">\n",
       "  <thead>\n",
       "    <tr style=\"text-align: right;\">\n",
       "      <th></th>\n",
       "      <th>CRIM</th>\n",
       "      <th>ZN</th>\n",
       "      <th>INDUS</th>\n",
       "      <th>CHAS</th>\n",
       "      <th>NOX</th>\n",
       "      <th>RM</th>\n",
       "      <th>AGE</th>\n",
       "      <th>DIS</th>\n",
       "      <th>RAD</th>\n",
       "      <th>TAX</th>\n",
       "      <th>PTRATIO</th>\n",
       "      <th>B</th>\n",
       "      <th>LSTAT</th>\n",
       "      <th>MEDV</th>\n",
       "    </tr>\n",
       "  </thead>\n",
       "  <tbody>\n",
       "    <tr>\n",
       "      <th>0</th>\n",
       "      <td>0.00632</td>\n",
       "      <td>18.0</td>\n",
       "      <td>2.31</td>\n",
       "      <td>0</td>\n",
       "      <td>0.538</td>\n",
       "      <td>6.575</td>\n",
       "      <td>65.2</td>\n",
       "      <td>4.0900</td>\n",
       "      <td>1</td>\n",
       "      <td>296.0</td>\n",
       "      <td>15.3</td>\n",
       "      <td>396.90</td>\n",
       "      <td>4.98</td>\n",
       "      <td>24.0</td>\n",
       "    </tr>\n",
       "    <tr>\n",
       "      <th>1</th>\n",
       "      <td>0.02731</td>\n",
       "      <td>0.0</td>\n",
       "      <td>7.07</td>\n",
       "      <td>0</td>\n",
       "      <td>0.469</td>\n",
       "      <td>6.421</td>\n",
       "      <td>78.9</td>\n",
       "      <td>4.9671</td>\n",
       "      <td>2</td>\n",
       "      <td>242.0</td>\n",
       "      <td>17.8</td>\n",
       "      <td>396.90</td>\n",
       "      <td>9.14</td>\n",
       "      <td>21.6</td>\n",
       "    </tr>\n",
       "    <tr>\n",
       "      <th>2</th>\n",
       "      <td>0.02729</td>\n",
       "      <td>0.0</td>\n",
       "      <td>7.07</td>\n",
       "      <td>0</td>\n",
       "      <td>0.469</td>\n",
       "      <td>7.185</td>\n",
       "      <td>61.1</td>\n",
       "      <td>4.9671</td>\n",
       "      <td>2</td>\n",
       "      <td>242.0</td>\n",
       "      <td>17.8</td>\n",
       "      <td>392.83</td>\n",
       "      <td>4.03</td>\n",
       "      <td>34.7</td>\n",
       "    </tr>\n",
       "    <tr>\n",
       "      <th>3</th>\n",
       "      <td>0.03237</td>\n",
       "      <td>0.0</td>\n",
       "      <td>2.18</td>\n",
       "      <td>0</td>\n",
       "      <td>0.458</td>\n",
       "      <td>6.998</td>\n",
       "      <td>45.8</td>\n",
       "      <td>6.0622</td>\n",
       "      <td>3</td>\n",
       "      <td>222.0</td>\n",
       "      <td>18.7</td>\n",
       "      <td>394.63</td>\n",
       "      <td>2.94</td>\n",
       "      <td>33.4</td>\n",
       "    </tr>\n",
       "    <tr>\n",
       "      <th>4</th>\n",
       "      <td>0.06905</td>\n",
       "      <td>0.0</td>\n",
       "      <td>2.18</td>\n",
       "      <td>0</td>\n",
       "      <td>0.458</td>\n",
       "      <td>7.147</td>\n",
       "      <td>54.2</td>\n",
       "      <td>6.0622</td>\n",
       "      <td>3</td>\n",
       "      <td>222.0</td>\n",
       "      <td>18.7</td>\n",
       "      <td>396.90</td>\n",
       "      <td>5.33</td>\n",
       "      <td>36.2</td>\n",
       "    </tr>\n",
       "  </tbody>\n",
       "</table>\n",
       "</div>"
      ],
      "text/plain": [
       "      CRIM    ZN  INDUS  CHAS    NOX     RM   AGE     DIS  RAD    TAX  \\\n",
       "0  0.00632  18.0   2.31     0  0.538  6.575  65.2  4.0900    1  296.0   \n",
       "1  0.02731   0.0   7.07     0  0.469  6.421  78.9  4.9671    2  242.0   \n",
       "2  0.02729   0.0   7.07     0  0.469  7.185  61.1  4.9671    2  242.0   \n",
       "3  0.03237   0.0   2.18     0  0.458  6.998  45.8  6.0622    3  222.0   \n",
       "4  0.06905   0.0   2.18     0  0.458  7.147  54.2  6.0622    3  222.0   \n",
       "\n",
       "   PTRATIO       B  LSTAT  MEDV  \n",
       "0     15.3  396.90   4.98  24.0  \n",
       "1     17.8  396.90   9.14  21.6  \n",
       "2     17.8  392.83   4.03  34.7  \n",
       "3     18.7  394.63   2.94  33.4  \n",
       "4     18.7  396.90   5.33  36.2  "
      ]
     },
     "execution_count": 4,
     "metadata": {},
     "output_type": "execute_result"
    }
   ],
   "source": [
    "house = pd.read_csv(\"./data/boston.csv\")\n",
    "house.head() # 读前五行"
   ]
  },
  {
   "cell_type": "markdown",
   "id": "ef04c9e3",
   "metadata": {},
   "source": [
    "特征：\n",
    "- CRIM：按城镇划分的人均犯罪率\n",
    "- ZN：划分为超过 25,000 平方英尺地块的住宅用地比例。\n",
    "- INDUS：每个城镇的非零售商业用地的比例\n",
    "- CHAS：Charles River 虚拟变量（如果区域以河流为界，则为 1；否则为 0）\n",
    "- NOX：一氧化氮浓度（每 1000 万分之一）[parts/10M]\n",
    "- RM：每户住宅的平均房间数\n",
    "- AGE：1940 年之前建造的自住单元的比例\n",
    "- DIS：到波士顿五个就业中心的加权距离\n",
    "- RAD：通往径向高速公路的指数\n",
    "- TAX：全每 10,000 美元的价值财产税率 [\\$/10k]\n",
    "- PTRATIO：按城镇划分的师生比例\n",
    "- B：等式 $B=1000(Bk - 0.63)^2$ 的结果，其中 $Bk$ 是城镇中黑人的比例\n",
    "- LSTAT：人口地位较低的百分比\n",
    "\n",
    "标签：\n",
    "\n",
    "MEDV：自住房屋的中位数价值 1000 美元 [k\\$]"
   ]
  },
  {
   "cell_type": "markdown",
   "id": "b820df8b",
   "metadata": {},
   "source": [
    "## 数据概况"
   ]
  },
  {
   "cell_type": "code",
   "execution_count": 5,
   "id": "5080d671",
   "metadata": {
    "ExecuteTime": {
     "end_time": "2022-06-26T07:59:26.266213Z",
     "start_time": "2022-06-26T07:59:26.250908Z"
    }
   },
   "outputs": [
    {
     "data": {
      "text/plain": [
       "(506, 14)"
      ]
     },
     "execution_count": 5,
     "metadata": {},
     "output_type": "execute_result"
    }
   ],
   "source": [
    "# 数据的规模\n",
    "house.shape"
   ]
  },
  {
   "cell_type": "markdown",
   "id": "09822cc9",
   "metadata": {},
   "source": [
    "可以看到，本次我们用到的数据集总共有506条样本(行)也就是有506套房子的数据；同时有14列，其中13列是特征，也就是每个房子会有13个属性特征，例如：住宅的房间数、交通方便度等信息，最后一列是房子的标签——房价. 这个数据集主要的一个想法是，利用房子的13个属性特征，对房子的价格进行预测. "
   ]
  },
  {
   "cell_type": "code",
   "execution_count": 20,
   "id": "8532a965",
   "metadata": {
    "ExecuteTime": {
     "end_time": "2022-06-26T08:14:14.705955Z",
     "start_time": "2022-06-26T08:14:14.687433Z"
    },
    "scrolled": true
   },
   "outputs": [
    {
     "data": {
      "text/plain": [
       "Index(['CRIM', 'ZN', 'INDUS', 'CHAS', 'NOX', 'RM', 'AGE', 'DIS', 'RAD', 'TAX',\n",
       "       'PTRATIO', 'B', 'LSTAT', 'MEDV'],\n",
       "      dtype='object')"
      ]
     },
     "execution_count": 20,
     "metadata": {},
     "output_type": "execute_result"
    }
   ],
   "source": [
    "# 数据集的每一列的列名\n",
    "house.columns"
   ]
  },
  {
   "cell_type": "code",
   "execution_count": 6,
   "id": "1bd7d9d7",
   "metadata": {
    "ExecuteTime": {
     "end_time": "2022-06-26T07:59:26.327835Z",
     "start_time": "2022-06-26T07:59:26.268182Z"
    },
    "scrolled": true
   },
   "outputs": [
    {
     "data": {
      "text/html": [
       "<div>\n",
       "<style scoped>\n",
       "    .dataframe tbody tr th:only-of-type {\n",
       "        vertical-align: middle;\n",
       "    }\n",
       "\n",
       "    .dataframe tbody tr th {\n",
       "        vertical-align: top;\n",
       "    }\n",
       "\n",
       "    .dataframe thead th {\n",
       "        text-align: right;\n",
       "    }\n",
       "</style>\n",
       "<table border=\"1\" class=\"dataframe\">\n",
       "  <thead>\n",
       "    <tr style=\"text-align: right;\">\n",
       "      <th></th>\n",
       "      <th>CRIM</th>\n",
       "      <th>ZN</th>\n",
       "      <th>INDUS</th>\n",
       "      <th>CHAS</th>\n",
       "      <th>NOX</th>\n",
       "      <th>RM</th>\n",
       "      <th>AGE</th>\n",
       "      <th>DIS</th>\n",
       "      <th>RAD</th>\n",
       "      <th>TAX</th>\n",
       "      <th>PTRATIO</th>\n",
       "      <th>B</th>\n",
       "      <th>LSTAT</th>\n",
       "      <th>MEDV</th>\n",
       "    </tr>\n",
       "  </thead>\n",
       "  <tbody>\n",
       "    <tr>\n",
       "      <th>count</th>\n",
       "      <td>506.000000</td>\n",
       "      <td>506.000000</td>\n",
       "      <td>506.000000</td>\n",
       "      <td>506.000000</td>\n",
       "      <td>506.000000</td>\n",
       "      <td>506.000000</td>\n",
       "      <td>506.000000</td>\n",
       "      <td>506.000000</td>\n",
       "      <td>506.000000</td>\n",
       "      <td>506.000000</td>\n",
       "      <td>506.000000</td>\n",
       "      <td>506.000000</td>\n",
       "      <td>506.000000</td>\n",
       "      <td>506.000000</td>\n",
       "    </tr>\n",
       "    <tr>\n",
       "      <th>mean</th>\n",
       "      <td>3.613524</td>\n",
       "      <td>11.363636</td>\n",
       "      <td>11.136779</td>\n",
       "      <td>0.069170</td>\n",
       "      <td>0.554695</td>\n",
       "      <td>6.284634</td>\n",
       "      <td>68.574901</td>\n",
       "      <td>3.795043</td>\n",
       "      <td>9.549407</td>\n",
       "      <td>408.237154</td>\n",
       "      <td>18.455534</td>\n",
       "      <td>356.674032</td>\n",
       "      <td>12.653063</td>\n",
       "      <td>22.532806</td>\n",
       "    </tr>\n",
       "    <tr>\n",
       "      <th>std</th>\n",
       "      <td>8.601545</td>\n",
       "      <td>23.322453</td>\n",
       "      <td>6.860353</td>\n",
       "      <td>0.253994</td>\n",
       "      <td>0.115878</td>\n",
       "      <td>0.702617</td>\n",
       "      <td>28.148861</td>\n",
       "      <td>2.105710</td>\n",
       "      <td>8.707259</td>\n",
       "      <td>168.537116</td>\n",
       "      <td>2.164946</td>\n",
       "      <td>91.294864</td>\n",
       "      <td>7.141062</td>\n",
       "      <td>9.197104</td>\n",
       "    </tr>\n",
       "    <tr>\n",
       "      <th>min</th>\n",
       "      <td>0.006320</td>\n",
       "      <td>0.000000</td>\n",
       "      <td>0.460000</td>\n",
       "      <td>0.000000</td>\n",
       "      <td>0.385000</td>\n",
       "      <td>3.561000</td>\n",
       "      <td>2.900000</td>\n",
       "      <td>1.129600</td>\n",
       "      <td>1.000000</td>\n",
       "      <td>187.000000</td>\n",
       "      <td>12.600000</td>\n",
       "      <td>0.320000</td>\n",
       "      <td>1.730000</td>\n",
       "      <td>5.000000</td>\n",
       "    </tr>\n",
       "    <tr>\n",
       "      <th>25%</th>\n",
       "      <td>0.082045</td>\n",
       "      <td>0.000000</td>\n",
       "      <td>5.190000</td>\n",
       "      <td>0.000000</td>\n",
       "      <td>0.449000</td>\n",
       "      <td>5.885500</td>\n",
       "      <td>45.025000</td>\n",
       "      <td>2.100175</td>\n",
       "      <td>4.000000</td>\n",
       "      <td>279.000000</td>\n",
       "      <td>17.400000</td>\n",
       "      <td>375.377500</td>\n",
       "      <td>6.950000</td>\n",
       "      <td>17.025000</td>\n",
       "    </tr>\n",
       "    <tr>\n",
       "      <th>50%</th>\n",
       "      <td>0.256510</td>\n",
       "      <td>0.000000</td>\n",
       "      <td>9.690000</td>\n",
       "      <td>0.000000</td>\n",
       "      <td>0.538000</td>\n",
       "      <td>6.208500</td>\n",
       "      <td>77.500000</td>\n",
       "      <td>3.207450</td>\n",
       "      <td>5.000000</td>\n",
       "      <td>330.000000</td>\n",
       "      <td>19.050000</td>\n",
       "      <td>391.440000</td>\n",
       "      <td>11.360000</td>\n",
       "      <td>21.200000</td>\n",
       "    </tr>\n",
       "    <tr>\n",
       "      <th>75%</th>\n",
       "      <td>3.677083</td>\n",
       "      <td>12.500000</td>\n",
       "      <td>18.100000</td>\n",
       "      <td>0.000000</td>\n",
       "      <td>0.624000</td>\n",
       "      <td>6.623500</td>\n",
       "      <td>94.075000</td>\n",
       "      <td>5.188425</td>\n",
       "      <td>24.000000</td>\n",
       "      <td>666.000000</td>\n",
       "      <td>20.200000</td>\n",
       "      <td>396.225000</td>\n",
       "      <td>16.955000</td>\n",
       "      <td>25.000000</td>\n",
       "    </tr>\n",
       "    <tr>\n",
       "      <th>max</th>\n",
       "      <td>88.976200</td>\n",
       "      <td>100.000000</td>\n",
       "      <td>27.740000</td>\n",
       "      <td>1.000000</td>\n",
       "      <td>0.871000</td>\n",
       "      <td>8.780000</td>\n",
       "      <td>100.000000</td>\n",
       "      <td>12.126500</td>\n",
       "      <td>24.000000</td>\n",
       "      <td>711.000000</td>\n",
       "      <td>22.000000</td>\n",
       "      <td>396.900000</td>\n",
       "      <td>37.970000</td>\n",
       "      <td>50.000000</td>\n",
       "    </tr>\n",
       "  </tbody>\n",
       "</table>\n",
       "</div>"
      ],
      "text/plain": [
       "             CRIM          ZN       INDUS        CHAS         NOX          RM  \\\n",
       "count  506.000000  506.000000  506.000000  506.000000  506.000000  506.000000   \n",
       "mean     3.613524   11.363636   11.136779    0.069170    0.554695    6.284634   \n",
       "std      8.601545   23.322453    6.860353    0.253994    0.115878    0.702617   \n",
       "min      0.006320    0.000000    0.460000    0.000000    0.385000    3.561000   \n",
       "25%      0.082045    0.000000    5.190000    0.000000    0.449000    5.885500   \n",
       "50%      0.256510    0.000000    9.690000    0.000000    0.538000    6.208500   \n",
       "75%      3.677083   12.500000   18.100000    0.000000    0.624000    6.623500   \n",
       "max     88.976200  100.000000   27.740000    1.000000    0.871000    8.780000   \n",
       "\n",
       "              AGE         DIS         RAD         TAX     PTRATIO           B  \\\n",
       "count  506.000000  506.000000  506.000000  506.000000  506.000000  506.000000   \n",
       "mean    68.574901    3.795043    9.549407  408.237154   18.455534  356.674032   \n",
       "std     28.148861    2.105710    8.707259  168.537116    2.164946   91.294864   \n",
       "min      2.900000    1.129600    1.000000  187.000000   12.600000    0.320000   \n",
       "25%     45.025000    2.100175    4.000000  279.000000   17.400000  375.377500   \n",
       "50%     77.500000    3.207450    5.000000  330.000000   19.050000  391.440000   \n",
       "75%     94.075000    5.188425   24.000000  666.000000   20.200000  396.225000   \n",
       "max    100.000000   12.126500   24.000000  711.000000   22.000000  396.900000   \n",
       "\n",
       "            LSTAT        MEDV  \n",
       "count  506.000000  506.000000  \n",
       "mean    12.653063   22.532806  \n",
       "std      7.141062    9.197104  \n",
       "min      1.730000    5.000000  \n",
       "25%      6.950000   17.025000  \n",
       "50%     11.360000   21.200000  \n",
       "75%     16.955000   25.000000  \n",
       "max     37.970000   50.000000  "
      ]
     },
     "execution_count": 6,
     "metadata": {},
     "output_type": "execute_result"
    }
   ],
   "source": [
    "# 对数据集数据的基本统计描述\n",
    "# 这个命令非常便捷，呈现了这个数据集的基本统计分布，这是对每一列而言的，统计量包括：最大值，最小值，\n",
    "house.describe()"
   ]
  },
  {
   "cell_type": "markdown",
   "id": "e6b18d32",
   "metadata": {},
   "source": [
    "> ```df.describe()```这个命令非常便捷，呈现了这个数据集的基本统计分布，这是对每一列数值型变量而言的，统计量包括：频数，均值，方差，最大值，最小值，中位数，25，75分位数.\n",
    "\n",
    "从这个表我们呢可以大致获得一些处理思路，如：\n",
    "- 从第一行我们可以看到所有的```count```也就是数目统计，所有特征都是506等于样本数的，说明这个数据集至少是没有缺失值的.\n",
    "- 第一列```CRIM```是一个犯罪率，是一个在$[0,1]$之间的实数，自然75%分位数，最大值都不可能超过1，所以显然这一列的数据是有异常的，后面我们需要进行一些处理.\n",
    "- 对于```TAX```，我们可以看到它的方差非常的大，因此在后续的处理过程中，我们可以采用一些降维的手段如：主成分分析（PCA）等."
   ]
  },
  {
   "cell_type": "markdown",
   "id": "7856d8e0",
   "metadata": {},
   "source": [
    "> 有时候我们也可以通过```df.info()```去对数据集作一个简单的概述，更多的是看确实情况，以及变量的类型，通过变量类型分析数据处理的方法."
   ]
  },
  {
   "cell_type": "code",
   "execution_count": 7,
   "id": "5bacb7f2",
   "metadata": {
    "ExecuteTime": {
     "end_time": "2022-06-26T07:59:26.358473Z",
     "start_time": "2022-06-26T07:59:26.329984Z"
    }
   },
   "outputs": [
    {
     "name": "stdout",
     "output_type": "stream",
     "text": [
      "<class 'pandas.core.frame.DataFrame'>\n",
      "RangeIndex: 506 entries, 0 to 505\n",
      "Data columns (total 14 columns):\n",
      " #   Column   Non-Null Count  Dtype  \n",
      "---  ------   --------------  -----  \n",
      " 0   CRIM     506 non-null    float64\n",
      " 1   ZN       506 non-null    float64\n",
      " 2   INDUS    506 non-null    float64\n",
      " 3   CHAS     506 non-null    int64  \n",
      " 4   NOX      506 non-null    float64\n",
      " 5   RM       506 non-null    float64\n",
      " 6   AGE      506 non-null    float64\n",
      " 7   DIS      506 non-null    float64\n",
      " 8   RAD      506 non-null    int64  \n",
      " 9   TAX      506 non-null    float64\n",
      " 10  PTRATIO  506 non-null    float64\n",
      " 11  B        506 non-null    float64\n",
      " 12  LSTAT    506 non-null    float64\n",
      " 13  MEDV     506 non-null    float64\n",
      "dtypes: float64(12), int64(2)\n",
      "memory usage: 55.5 KB\n"
     ]
    }
   ],
   "source": [
    "house.info()"
   ]
  },
  {
   "cell_type": "markdown",
   "id": "7dbd09bc",
   "metadata": {},
   "source": [
    "## 数据处理\n",
    "### 缺失值处理\n",
    "为了给大家演示缺失值的处理，我们在Boston房价数据集的基础上手动删除了一些数据，来模拟数据的缺失，存为以```boston_null.csv```文件，下面以该文件进行讲解.\n",
    "\n"
   ]
  },
  {
   "cell_type": "code",
   "execution_count": 8,
   "id": "3713fc92",
   "metadata": {
    "ExecuteTime": {
     "end_time": "2022-06-26T07:59:26.389698Z",
     "start_time": "2022-06-26T07:59:26.359471Z"
    }
   },
   "outputs": [
    {
     "data": {
      "text/html": [
       "<div>\n",
       "<style scoped>\n",
       "    .dataframe tbody tr th:only-of-type {\n",
       "        vertical-align: middle;\n",
       "    }\n",
       "\n",
       "    .dataframe tbody tr th {\n",
       "        vertical-align: top;\n",
       "    }\n",
       "\n",
       "    .dataframe thead th {\n",
       "        text-align: right;\n",
       "    }\n",
       "</style>\n",
       "<table border=\"1\" class=\"dataframe\">\n",
       "  <thead>\n",
       "    <tr style=\"text-align: right;\">\n",
       "      <th></th>\n",
       "      <th>CRIM</th>\n",
       "      <th>ZN</th>\n",
       "      <th>INDUS</th>\n",
       "      <th>CHAS</th>\n",
       "      <th>NOX</th>\n",
       "      <th>RM</th>\n",
       "      <th>AGE</th>\n",
       "      <th>DIS</th>\n",
       "      <th>RAD</th>\n",
       "      <th>TAX</th>\n",
       "      <th>PTRATIO</th>\n",
       "      <th>B</th>\n",
       "      <th>LSTAT</th>\n",
       "      <th>MEDV</th>\n",
       "    </tr>\n",
       "  </thead>\n",
       "  <tbody>\n",
       "    <tr>\n",
       "      <th>0</th>\n",
       "      <td>0.00632</td>\n",
       "      <td>18.0</td>\n",
       "      <td>2.31</td>\n",
       "      <td>0</td>\n",
       "      <td>0.538</td>\n",
       "      <td>6.575</td>\n",
       "      <td>65.2</td>\n",
       "      <td>4.0900</td>\n",
       "      <td>1</td>\n",
       "      <td>296</td>\n",
       "      <td>15.3</td>\n",
       "      <td>396.90</td>\n",
       "      <td>4.98</td>\n",
       "      <td>24.0</td>\n",
       "    </tr>\n",
       "    <tr>\n",
       "      <th>1</th>\n",
       "      <td>0.02731</td>\n",
       "      <td>0.0</td>\n",
       "      <td>7.07</td>\n",
       "      <td>0</td>\n",
       "      <td>0.469</td>\n",
       "      <td>6.421</td>\n",
       "      <td>78.9</td>\n",
       "      <td>4.9671</td>\n",
       "      <td>2</td>\n",
       "      <td>242</td>\n",
       "      <td>17.8</td>\n",
       "      <td>396.90</td>\n",
       "      <td>9.14</td>\n",
       "      <td>21.6</td>\n",
       "    </tr>\n",
       "    <tr>\n",
       "      <th>2</th>\n",
       "      <td>0.02729</td>\n",
       "      <td>0.0</td>\n",
       "      <td>7.07</td>\n",
       "      <td>0</td>\n",
       "      <td>0.469</td>\n",
       "      <td>7.185</td>\n",
       "      <td>61.1</td>\n",
       "      <td>4.9671</td>\n",
       "      <td>2</td>\n",
       "      <td>242</td>\n",
       "      <td>17.8</td>\n",
       "      <td>392.83</td>\n",
       "      <td>4.03</td>\n",
       "      <td>34.7</td>\n",
       "    </tr>\n",
       "    <tr>\n",
       "      <th>3</th>\n",
       "      <td>0.03237</td>\n",
       "      <td>0.0</td>\n",
       "      <td>2.18</td>\n",
       "      <td>0</td>\n",
       "      <td>0.458</td>\n",
       "      <td>6.998</td>\n",
       "      <td>45.8</td>\n",
       "      <td>6.0622</td>\n",
       "      <td>3</td>\n",
       "      <td>222</td>\n",
       "      <td>18.7</td>\n",
       "      <td>394.63</td>\n",
       "      <td>2.94</td>\n",
       "      <td>33.4</td>\n",
       "    </tr>\n",
       "    <tr>\n",
       "      <th>4</th>\n",
       "      <td>0.06905</td>\n",
       "      <td>0.0</td>\n",
       "      <td>2.18</td>\n",
       "      <td>0</td>\n",
       "      <td>NaN</td>\n",
       "      <td>7.147</td>\n",
       "      <td>54.2</td>\n",
       "      <td>6.0622</td>\n",
       "      <td>3</td>\n",
       "      <td>222</td>\n",
       "      <td>18.7</td>\n",
       "      <td>396.90</td>\n",
       "      <td>5.33</td>\n",
       "      <td>36.2</td>\n",
       "    </tr>\n",
       "  </tbody>\n",
       "</table>\n",
       "</div>"
      ],
      "text/plain": [
       "      CRIM    ZN  INDUS  CHAS    NOX     RM   AGE     DIS  RAD  TAX  PTRATIO  \\\n",
       "0  0.00632  18.0   2.31     0  0.538  6.575  65.2  4.0900    1  296     15.3   \n",
       "1  0.02731   0.0   7.07     0  0.469  6.421  78.9  4.9671    2  242     17.8   \n",
       "2  0.02729   0.0   7.07     0  0.469  7.185  61.1  4.9671    2  242     17.8   \n",
       "3  0.03237   0.0   2.18     0  0.458  6.998  45.8  6.0622    3  222     18.7   \n",
       "4  0.06905   0.0   2.18     0    NaN  7.147  54.2  6.0622    3  222     18.7   \n",
       "\n",
       "        B  LSTAT  MEDV  \n",
       "0  396.90   4.98  24.0  \n",
       "1  396.90   9.14  21.6  \n",
       "2  392.83   4.03  34.7  \n",
       "3  394.63   2.94  33.4  \n",
       "4  396.90   5.33  36.2  "
      ]
     },
     "execution_count": 8,
     "metadata": {},
     "output_type": "execute_result"
    }
   ],
   "source": [
    "null = pd.read_csv(\"./data/boston_null.csv\")\n",
    "null.head() # 读前五行"
   ]
  },
  {
   "cell_type": "code",
   "execution_count": 9,
   "id": "5e945cb5",
   "metadata": {
    "ExecuteTime": {
     "end_time": "2022-06-26T07:59:26.405493Z",
     "start_time": "2022-06-26T07:59:26.393490Z"
    },
    "scrolled": true
   },
   "outputs": [
    {
     "name": "stdout",
     "output_type": "stream",
     "text": [
      "<class 'pandas.core.frame.DataFrame'>\n",
      "RangeIndex: 506 entries, 0 to 505\n",
      "Data columns (total 14 columns):\n",
      " #   Column   Non-Null Count  Dtype  \n",
      "---  ------   --------------  -----  \n",
      " 0   CRIM     506 non-null    float64\n",
      " 1   ZN       506 non-null    float64\n",
      " 2   INDUS    506 non-null    float64\n",
      " 3   CHAS     506 non-null    int64  \n",
      " 4   NOX      504 non-null    float64\n",
      " 5   RM       504 non-null    float64\n",
      " 6   AGE      505 non-null    float64\n",
      " 7   DIS      491 non-null    float64\n",
      " 8   RAD      506 non-null    int64  \n",
      " 9   TAX      506 non-null    int64  \n",
      " 10  PTRATIO  506 non-null    float64\n",
      " 11  B        453 non-null    float64\n",
      " 12  LSTAT    506 non-null    float64\n",
      " 13  MEDV     506 non-null    float64\n",
      "dtypes: float64(11), int64(3)\n",
      "memory usage: 55.5 KB\n"
     ]
    }
   ],
   "source": [
    "null.info()"
   ]
  },
  {
   "cell_type": "markdown",
   "id": "675e94b9",
   "metadata": {},
   "source": [
    "显然可以看到样本总数为506，非空值不等于506的即为含有缺失值的特征.\n",
    "\n",
    "<img src=\"./figures/1_1.png\">\n",
    "\n",
    "对于发现缺失值有几种方式：\n",
    "1. 直接对```null```进行计数\n",
    "\n"
   ]
  },
  {
   "cell_type": "code",
   "execution_count": 10,
   "id": "e5a7ddbe",
   "metadata": {
    "ExecuteTime": {
     "end_time": "2022-06-26T07:59:26.421216Z",
     "start_time": "2022-06-26T07:59:26.406557Z"
    }
   },
   "outputs": [
    {
     "data": {
      "text/plain": [
       "CRIM        0\n",
       "ZN          0\n",
       "INDUS       0\n",
       "CHAS        0\n",
       "NOX         2\n",
       "RM          2\n",
       "AGE         1\n",
       "DIS        15\n",
       "RAD         0\n",
       "TAX         0\n",
       "PTRATIO     0\n",
       "B          53\n",
       "LSTAT       0\n",
       "MEDV        0\n",
       "dtype: int64"
      ]
     },
     "execution_count": 10,
     "metadata": {},
     "output_type": "execute_result"
    }
   ],
   "source": [
    "null.isnull().sum()"
   ]
  },
  {
   "cell_type": "markdown",
   "id": "4ffcf066",
   "metadata": {},
   "source": [
    "2. 缺失值可视化"
   ]
  },
  {
   "cell_type": "code",
   "execution_count": 11,
   "id": "55e459ef",
   "metadata": {
    "ExecuteTime": {
     "end_time": "2022-06-26T07:59:27.123428Z",
     "start_time": "2022-06-26T07:59:26.422998Z"
    }
   },
   "outputs": [
    {
     "data": {
      "text/plain": [
       "<AxesSubplot:>"
      ]
     },
     "execution_count": 11,
     "metadata": {},
     "output_type": "execute_result"
    },
    {
     "data": {
      "image/png": "[encoded data removed]",
      "text/plain": [
       "<Figure size 432x288 with 1 Axes>"
      ]
     },
     "metadata": {
      "needs_background": "light"
     },
     "output_type": "display_data"
    }
   ],
   "source": [
    "# 缺失值可视化\n",
    "missing = null.isnull().sum()\n",
    "missing = missing[missing > 0] # 筛选出有缺失值（大于0）的特征\n",
    "missing.sort_values(inplace = True) # 排序\n",
    "missing.plot.bar() # 调用pandas内置的条形图绘制"
   ]
  },
  {
   "cell_type": "markdown",
   "id": "a8b5bca1",
   "metadata": {},
   "source": [
    "对于缺失值我们还可以采用热力图进行可视化，"
   ]
  },
  {
   "cell_type": "code",
   "execution_count": 12,
   "id": "c81ed4a2",
   "metadata": {
    "ExecuteTime": {
     "end_time": "2022-06-26T07:59:27.400427Z",
     "start_time": "2022-06-26T07:59:27.125393Z"
    }
   },
   "outputs": [
    {
     "data": {
      "text/plain": [
       "<AxesSubplot:>"
      ]
     },
     "execution_count": 12,
     "metadata": {},
     "output_type": "execute_result"
    },
    {
     "data": {
      "image/png": "[encoded data removed]",
      "text/plain": [
       "<Figure size 432x288 with 2 Axes>"
      ]
     },
     "metadata": {
      "needs_background": "light"
     },
     "output_type": "display_data"
    }
   ],
   "source": [
    "sns.heatmap(null.isnull())"
   ]
  },
  {
   "cell_type": "markdown",
   "id": "cae63e8d",
   "metadata": {},
   "source": [
    "这种方式还可以帮助我们看出缺失的位置，如果有些样本出现大量特征缺失的情况，在样本足够大的情况下也可以考虑删除."
   ]
  },
  {
   "cell_type": "markdown",
   "id": "a1db38a1",
   "metadata": {},
   "source": [
    "3. 统计缺失比例"
   ]
  },
  {
   "cell_type": "code",
   "execution_count": 13,
   "id": "2492f686",
   "metadata": {
    "ExecuteTime": {
     "end_time": "2022-06-26T07:59:27.415465Z",
     "start_time": "2022-06-26T07:59:27.402430Z"
    }
   },
   "outputs": [
    {
     "data": {
      "text/html": [
       "<div>\n",
       "<style scoped>\n",
       "    .dataframe tbody tr th:only-of-type {\n",
       "        vertical-align: middle;\n",
       "    }\n",
       "\n",
       "    .dataframe tbody tr th {\n",
       "        vertical-align: top;\n",
       "    }\n",
       "\n",
       "    .dataframe thead th {\n",
       "        text-align: right;\n",
       "    }\n",
       "</style>\n",
       "<table border=\"1\" class=\"dataframe\">\n",
       "  <thead>\n",
       "    <tr style=\"text-align: right;\">\n",
       "      <th></th>\n",
       "      <th>Features</th>\n",
       "      <th>missing rate</th>\n",
       "    </tr>\n",
       "  </thead>\n",
       "  <tbody>\n",
       "    <tr>\n",
       "      <th>0</th>\n",
       "      <td>CRIM</td>\n",
       "      <td>0.000000</td>\n",
       "    </tr>\n",
       "    <tr>\n",
       "      <th>1</th>\n",
       "      <td>ZN</td>\n",
       "      <td>0.000000</td>\n",
       "    </tr>\n",
       "    <tr>\n",
       "      <th>2</th>\n",
       "      <td>INDUS</td>\n",
       "      <td>0.000000</td>\n",
       "    </tr>\n",
       "    <tr>\n",
       "      <th>3</th>\n",
       "      <td>CHAS</td>\n",
       "      <td>0.000000</td>\n",
       "    </tr>\n",
       "    <tr>\n",
       "      <th>4</th>\n",
       "      <td>NOX</td>\n",
       "      <td>0.395257</td>\n",
       "    </tr>\n",
       "    <tr>\n",
       "      <th>5</th>\n",
       "      <td>RM</td>\n",
       "      <td>0.395257</td>\n",
       "    </tr>\n",
       "    <tr>\n",
       "      <th>6</th>\n",
       "      <td>AGE</td>\n",
       "      <td>0.197628</td>\n",
       "    </tr>\n",
       "    <tr>\n",
       "      <th>7</th>\n",
       "      <td>DIS</td>\n",
       "      <td>2.964427</td>\n",
       "    </tr>\n",
       "    <tr>\n",
       "      <th>8</th>\n",
       "      <td>RAD</td>\n",
       "      <td>0.000000</td>\n",
       "    </tr>\n",
       "    <tr>\n",
       "      <th>9</th>\n",
       "      <td>TAX</td>\n",
       "      <td>0.000000</td>\n",
       "    </tr>\n",
       "    <tr>\n",
       "      <th>10</th>\n",
       "      <td>PTRATIO</td>\n",
       "      <td>0.000000</td>\n",
       "    </tr>\n",
       "    <tr>\n",
       "      <th>11</th>\n",
       "      <td>B</td>\n",
       "      <td>10.474308</td>\n",
       "    </tr>\n",
       "    <tr>\n",
       "      <th>12</th>\n",
       "      <td>LSTAT</td>\n",
       "      <td>0.000000</td>\n",
       "    </tr>\n",
       "    <tr>\n",
       "      <th>13</th>\n",
       "      <td>MEDV</td>\n",
       "      <td>0.000000</td>\n",
       "    </tr>\n",
       "  </tbody>\n",
       "</table>\n",
       "</div>"
      ],
      "text/plain": [
       "   Features  missing rate\n",
       "0      CRIM      0.000000\n",
       "1        ZN      0.000000\n",
       "2     INDUS      0.000000\n",
       "3      CHAS      0.000000\n",
       "4       NOX      0.395257\n",
       "5        RM      0.395257\n",
       "6       AGE      0.197628\n",
       "7       DIS      2.964427\n",
       "8       RAD      0.000000\n",
       "9       TAX      0.000000\n",
       "10  PTRATIO      0.000000\n",
       "11        B     10.474308\n",
       "12    LSTAT      0.000000\n",
       "13     MEDV      0.000000"
      ]
     },
     "execution_count": 13,
     "metadata": {},
     "output_type": "execute_result"
    }
   ],
   "source": [
    "A = [] \n",
    "for col in null.columns:\n",
    "    A.append((col,\n",
    "             null[col].isnull().sum() * 100 / null.shape[0]))\n",
    "pd.DataFrame(A, columns=['Features', 'missing rate'])"
   ]
  },
  {
   "cell_type": "markdown",
   "id": "83abe183",
   "metadata": {},
   "source": [
    "从上表，我们统计了每一个特征的缺失比例，一般来说，如果缺失值超过95%的特征，我们会考虑删除它，因为意义不大. 此外，另一类特征也可以考虑删除，那就是方差特别小，或者说取值唯一的特征是没有意义的. 举个例子，如果在一次考试中，大家的数学成绩都是100分，那么其实我们是没有办法通过数学成绩来区分每位同学的能力的，也就是说数学这门课没有区分性，所以不具有分析的意义，可以删掉.\n",
    "\n",
    "在Pandas中，我们可以采用```df.nunique()```来统计每个每个特征会有多少个不同取值."
   ]
  },
  {
   "cell_type": "code",
   "execution_count": 14,
   "id": "90a515e8",
   "metadata": {
    "ExecuteTime": {
     "end_time": "2022-06-26T07:59:27.446620Z",
     "start_time": "2022-06-26T07:59:27.415465Z"
    }
   },
   "outputs": [
    {
     "data": {
      "text/plain": [
       "CRIM       504\n",
       "ZN          26\n",
       "INDUS       76\n",
       "CHAS         2\n",
       "NOX         81\n",
       "RM         445\n",
       "AGE        356\n",
       "DIS        401\n",
       "RAD          9\n",
       "TAX         66\n",
       "PTRATIO     46\n",
       "B          326\n",
       "LSTAT      455\n",
       "MEDV       229\n",
       "dtype: int64"
      ]
     },
     "execution_count": 14,
     "metadata": {},
     "output_type": "execute_result"
    }
   ],
   "source": [
    "null.nunique()"
   ]
  },
  {
   "cell_type": "markdown",
   "id": "9153f80e",
   "metadata": {},
   "source": [
    "为了更完美的呈现，我们将特征的唯一值个数一并加入到上面的统计表中，并且封装成函数，方便后续直接使用."
   ]
  },
  {
   "cell_type": "code",
   "execution_count": 15,
   "id": "5c67dc7e",
   "metadata": {
    "ExecuteTime": {
     "end_time": "2022-06-26T07:59:27.461802Z",
     "start_time": "2022-06-26T07:59:27.448054Z"
    },
    "run_control": {
     "marked": true
    }
   },
   "outputs": [],
   "source": [
    "def df_stats(df):\n",
    "    '''\n",
    "    统计该df的缺失值，比例以及唯一值个数.\n",
    "    '''\n",
    "    L = []\n",
    "    for col in df.columns:\n",
    "        L.append((col, \n",
    "                  df[col].isnull().sum(),\n",
    "                  df[col].isnull().sum() * 100 / df.shape[0],\n",
    "                  df[col].nunique()))\n",
    "    res = pd.DataFrame(L, columns = ['Feature', \n",
    "                                     'missing num',\n",
    "                                     'missing rate',\n",
    "                                     'unique num']) \n",
    "    return res"
   ]
  },
  {
   "cell_type": "code",
   "execution_count": 16,
   "id": "f35ea23e",
   "metadata": {
    "ExecuteTime": {
     "end_time": "2022-06-26T07:59:27.493195Z",
     "start_time": "2022-06-26T07:59:27.462801Z"
    }
   },
   "outputs": [
    {
     "data": {
      "text/html": [
       "<div>\n",
       "<style scoped>\n",
       "    .dataframe tbody tr th:only-of-type {\n",
       "        vertical-align: middle;\n",
       "    }\n",
       "\n",
       "    .dataframe tbody tr th {\n",
       "        vertical-align: top;\n",
       "    }\n",
       "\n",
       "    .dataframe thead th {\n",
       "        text-align: right;\n",
       "    }\n",
       "</style>\n",
       "<table border=\"1\" class=\"dataframe\">\n",
       "  <thead>\n",
       "    <tr style=\"text-align: right;\">\n",
       "      <th></th>\n",
       "      <th>Feature</th>\n",
       "      <th>missing num</th>\n",
       "      <th>missing rate</th>\n",
       "      <th>unique num</th>\n",
       "    </tr>\n",
       "  </thead>\n",
       "  <tbody>\n",
       "    <tr>\n",
       "      <th>0</th>\n",
       "      <td>CRIM</td>\n",
       "      <td>0</td>\n",
       "      <td>0.000000</td>\n",
       "      <td>504</td>\n",
       "    </tr>\n",
       "    <tr>\n",
       "      <th>1</th>\n",
       "      <td>ZN</td>\n",
       "      <td>0</td>\n",
       "      <td>0.000000</td>\n",
       "      <td>26</td>\n",
       "    </tr>\n",
       "    <tr>\n",
       "      <th>2</th>\n",
       "      <td>INDUS</td>\n",
       "      <td>0</td>\n",
       "      <td>0.000000</td>\n",
       "      <td>76</td>\n",
       "    </tr>\n",
       "    <tr>\n",
       "      <th>3</th>\n",
       "      <td>CHAS</td>\n",
       "      <td>0</td>\n",
       "      <td>0.000000</td>\n",
       "      <td>2</td>\n",
       "    </tr>\n",
       "    <tr>\n",
       "      <th>4</th>\n",
       "      <td>NOX</td>\n",
       "      <td>2</td>\n",
       "      <td>0.395257</td>\n",
       "      <td>81</td>\n",
       "    </tr>\n",
       "    <tr>\n",
       "      <th>5</th>\n",
       "      <td>RM</td>\n",
       "      <td>2</td>\n",
       "      <td>0.395257</td>\n",
       "      <td>445</td>\n",
       "    </tr>\n",
       "    <tr>\n",
       "      <th>6</th>\n",
       "      <td>AGE</td>\n",
       "      <td>1</td>\n",
       "      <td>0.197628</td>\n",
       "      <td>356</td>\n",
       "    </tr>\n",
       "    <tr>\n",
       "      <th>7</th>\n",
       "      <td>DIS</td>\n",
       "      <td>15</td>\n",
       "      <td>2.964427</td>\n",
       "      <td>401</td>\n",
       "    </tr>\n",
       "    <tr>\n",
       "      <th>8</th>\n",
       "      <td>RAD</td>\n",
       "      <td>0</td>\n",
       "      <td>0.000000</td>\n",
       "      <td>9</td>\n",
       "    </tr>\n",
       "    <tr>\n",
       "      <th>9</th>\n",
       "      <td>TAX</td>\n",
       "      <td>0</td>\n",
       "      <td>0.000000</td>\n",
       "      <td>66</td>\n",
       "    </tr>\n",
       "    <tr>\n",
       "      <th>10</th>\n",
       "      <td>PTRATIO</td>\n",
       "      <td>0</td>\n",
       "      <td>0.000000</td>\n",
       "      <td>46</td>\n",
       "    </tr>\n",
       "    <tr>\n",
       "      <th>11</th>\n",
       "      <td>B</td>\n",
       "      <td>53</td>\n",
       "      <td>10.474308</td>\n",
       "      <td>326</td>\n",
       "    </tr>\n",
       "    <tr>\n",
       "      <th>12</th>\n",
       "      <td>LSTAT</td>\n",
       "      <td>0</td>\n",
       "      <td>0.000000</td>\n",
       "      <td>455</td>\n",
       "    </tr>\n",
       "    <tr>\n",
       "      <th>13</th>\n",
       "      <td>MEDV</td>\n",
       "      <td>0</td>\n",
       "      <td>0.000000</td>\n",
       "      <td>229</td>\n",
       "    </tr>\n",
       "  </tbody>\n",
       "</table>\n",
       "</div>"
      ],
      "text/plain": [
       "    Feature  missing num  missing rate  unique num\n",
       "0      CRIM            0      0.000000         504\n",
       "1        ZN            0      0.000000          26\n",
       "2     INDUS            0      0.000000          76\n",
       "3      CHAS            0      0.000000           2\n",
       "4       NOX            2      0.395257          81\n",
       "5        RM            2      0.395257         445\n",
       "6       AGE            1      0.197628         356\n",
       "7       DIS           15      2.964427         401\n",
       "8       RAD            0      0.000000           9\n",
       "9       TAX            0      0.000000          66\n",
       "10  PTRATIO            0      0.000000          46\n",
       "11        B           53     10.474308         326\n",
       "12    LSTAT            0      0.000000         455\n",
       "13     MEDV            0      0.000000         229"
      ]
     },
     "execution_count": 16,
     "metadata": {},
     "output_type": "execute_result"
    }
   ],
   "source": [
    "df_stats(null)"
   ]
  },
  {
   "cell_type": "markdown",
   "id": "fa6a47a7",
   "metadata": {},
   "source": [
    "这下一目了然了！在这里我们呢简单粗暴的用均值填充，后面有机会我们会总结一下缺失值的处理方式."
   ]
  },
  {
   "cell_type": "code",
   "execution_count": 17,
   "id": "d028ee72",
   "metadata": {
    "ExecuteTime": {
     "end_time": "2022-06-26T07:59:27.508236Z",
     "start_time": "2022-06-26T07:59:27.494191Z"
    }
   },
   "outputs": [],
   "source": [
    "null = null.fillna(null.mean()) # 用均值填充"
   ]
  },
  {
   "cell_type": "code",
   "execution_count": 18,
   "id": "4cb98078",
   "metadata": {
    "ExecuteTime": {
     "end_time": "2022-06-26T07:59:27.786189Z",
     "start_time": "2022-06-26T07:59:27.509961Z"
    }
   },
   "outputs": [
    {
     "data": {
      "text/plain": [
       "<AxesSubplot:>"
      ]
     },
     "execution_count": 18,
     "metadata": {},
     "output_type": "execute_result"
    },
    {
     "data": {
      "image/png": "[encoded data removed]",
      "text/plain": [
       "<Figure size 432x288 with 2 Axes>"
      ]
     },
     "metadata": {
      "needs_background": "light"
     },
     "output_type": "display_data"
    }
   ],
   "source": [
    "sns.heatmap(null.isnull())"
   ]
  },
  {
   "cell_type": "markdown",
   "id": "74246703",
   "metadata": {},
   "source": [
    "可见现在已经没有缺失值了."
   ]
  },
  {
   "cell_type": "markdown",
   "id": "d67557e5",
   "metadata": {},
   "source": [
    "### 变量分析\n",
    "\n",
    "<img src=\"./figures/1_2_特征分析思路.png\">\n",
    "\n",
    "在变量分析中，我们延续了在概率论与数理统计中的研究思想.在概率论与数理统计中，我们首先研究了单变量随机变量的性质与特征刻画，研究透了之后，我们转而研究随机变量之间的关系. 在数据分析中亦是如此，我们会先分析一个变量的情况，包括但不限于：数据类型、分布情况、是否有离群值······；研究完单变量之后，转而研究变量之间的关系：相关性分析、分组统计···"
   ]
  },
  {
   "cell_type": "markdown",
   "id": "6d9638d4",
   "metadata": {},
   "source": [
    "#### 单变量分析\n",
    "1. **分析标签**\n",
    "\n",
    "首先是对于数据集标签的分析，你要弄清楚所拿到的任务要求你做什么？说白了就是明白任务的需求，简单来说数据挖掘任务主要分为两类：**回归**与**分类**.回归是指标签值是连续值的任务，例如我们用到的这个数据集，要求预测房价信息，房价是一个连续的变量，因此这样的任务属于**回归问题(Regression)**.数据科学中另外一个经典的数据集是——鸢尾花(Iris)数据集，它收集了三种鸢尾花的萼片长度，宽度等信息，要求你根据这些信息预测鸢尾花属于哪种类别，因此它的标签就是1，2，3，代表三类鸢尾花. 像这种标签是离散的数据分析任务就属于**分类任务**."
   ]
  },
  {
   "cell_type": "code",
   "execution_count": 23,
   "id": "69ea6a3d",
   "metadata": {
    "ExecuteTime": {
     "end_time": "2022-06-26T08:18:53.194543Z",
     "start_time": "2022-06-26T08:18:53.183616Z"
    }
   },
   "outputs": [
    {
     "data": {
      "text/plain": [
       "229"
      ]
     },
     "execution_count": 23,
     "metadata": {},
     "output_type": "execute_result"
    }
   ],
   "source": [
    "house[\"MEDV\"].nunique()"
   ]
  },
  {
   "cell_type": "markdown",
   "id": "b8bd1542",
   "metadata": {},
   "source": [
    "从标签的取值上，我们可以大致判断出本次任务属于回归型任务，因为它的取值个数比较多. 但这不是判断的标准，只是一个判断的参考，主要还是要分析题目的任务需求."
   ]
  },
  {
   "cell_type": "code",
   "execution_count": 24,
   "id": "d072adf8",
   "metadata": {
    "ExecuteTime": {
     "end_time": "2022-06-26T08:19:56.645266Z",
     "start_time": "2022-06-26T08:19:56.628283Z"
    }
   },
   "outputs": [
    {
     "data": {
      "text/plain": [
       "count    506.000000\n",
       "mean      22.532806\n",
       "std        9.197104\n",
       "min        5.000000\n",
       "25%       17.025000\n",
       "50%       21.200000\n",
       "75%       25.000000\n",
       "max       50.000000\n",
       "Name: MEDV, dtype: float64"
      ]
     },
     "execution_count": 24,
     "metadata": {},
     "output_type": "execute_result"
    }
   ],
   "source": [
    "# 打印标签的统计信息\n",
    "house[\"MEDV\"].describe()"
   ]
  },
  {
   "cell_type": "markdown",
   "id": "67add830",
   "metadata": {},
   "source": [
    "从标签列的统计信息我们可以大致看出，其分布还算比较正常，没有太大的方差（方差太大说明数据不太可能是正态的，因为够不集中）. 也没有出现我们在前面提到的，在定义域之外的值出现（对于是否有离群值后面我们需要通过箱线图或者散点图等可视化分析后才能得知）. 接下来我们来画出其密度分布图，看看标签取值的总体分布情况："
   ]
  },
  {
   "cell_type": "code",
   "execution_count": 41,
   "id": "55d5829b",
   "metadata": {
    "ExecuteTime": {
     "end_time": "2022-06-26T08:32:54.049971Z",
     "start_time": "2022-06-26T08:32:53.678127Z"
    }
   },
   "outputs": [
    {
     "data": {
      "text/plain": [
       "<AxesSubplot:xlabel='MEDV', ylabel='Density'>"
      ]
     },
     "execution_count": 41,
     "metadata": {},
     "output_type": "execute_result"
    },
    {
     "data": {
      "image/png": "[encoded data removed]",
      "text/plain": [
       "<Figure size 432x288 with 1 Axes>"
      ]
     },
     "metadata": {
      "needs_background": "light"
     },
     "output_type": "display_data"
    }
   ],
   "source": [
    "plt.figure()\n",
    "sns.distplot(house[\"MEDV\"],\n",
    "            bins=100,#柱子的个数\n",
    "            hist=True,#是否绘制直方图\n",
    "            kde=True,#是否绘制密度图\n",
    "            rug=True,#数据分布标尺\n",
    "            color='r',#颜色\n",
    "#             vertical=False,#是否水平绘制\n",
    "#             norm_hist=False,#标准化，kde为True时自动标准化\n",
    "            axlabel=None,#x轴标注\n",
    "            label=None,#图例标签，通过plt.legend()显示\n",
    "            ax=None,\n",
    "            )"
   ]
  },
  {
   "cell_type": "markdown",
   "id": "c7dc4ee3",
   "metadata": {},
   "source": [
    "我们看到整个分布稍微有一点右偏，因此在实战中，我们可以采用**对数化**的方法，让标签分布接近正态."
   ]
  },
  {
   "cell_type": "code",
   "execution_count": 42,
   "id": "da3e924d",
   "metadata": {
    "ExecuteTime": {
     "end_time": "2022-06-26T08:39:05.076774Z",
     "start_time": "2022-06-26T08:39:04.811055Z"
    }
   },
   "outputs": [
    {
     "data": {
      "text/plain": [
       "<AxesSubplot:xlabel='MEDV', ylabel='Density'>"
      ]
     },
     "execution_count": 42,
     "metadata": {},
     "output_type": "execute_result"
    },
    {
     "data": {
      "image/png": "[encoded data removed]",
      "text/plain": [
       "<Figure size 432x288 with 1 Axes>"
      ]
     },
     "metadata": {
      "needs_background": "light"
     },
     "output_type": "display_data"
    }
   ],
   "source": [
    "plt.figure()\n",
    "sns.distplot(np.log(house[\"MEDV\"]),\n",
    "            bins=100,#柱子的个数\n",
    "            hist=True,#是否绘制直方图\n",
    "            kde=True,#是否绘制密度图\n",
    "            rug=True,#数据分布标尺\n",
    "            color='r',#颜色\n",
    "#             vertical=False,#是否水平绘制\n",
    "#             norm_hist=False,#标准化，kde为True时自动标准化\n",
    "            axlabel=None,#x轴标注\n",
    "            label=None,#图例标签，通过plt.legend()显示\n",
    "            ax=None,\n",
    "            )"
   ]
  },
  {
   "cell_type": "markdown",
   "id": "ab8441d1",
   "metadata": {
    "ExecuteTime": {
     "end_time": "2022-06-26T08:40:01.988734Z",
     "start_time": "2022-06-26T08:40:01.972770Z"
    }
   },
   "source": [
    "这样的变换之后，我们到时候可以将取值小于1.5的取值视为异常值，将其抛弃掉. \n",
    "\n",
    "这里多说一句，对于分类任务而言，我们也可以采用此法画出它的频率分布直方图，或者直接更直接的画图条形统计图.，如果分类的标签分布是相似的，那么我们可以直接建模. 但如果标签出现很明显的一高一低的情况，说明标签的分布不均衡，那再建模前需要做一些操作（例如：欠采样、调整损失函数），再进行建模. 否则会出现一个问题，模型会对出现频率低的样本非常不敏感. 这就好像数学考试前的复习题，大多数都是数列题，只有一个是立体几何题目，大家花了很多精力研究数列，结果一到考试，出现了很多立体几何的题目，这时候我们复习的效果其实会显得很差. 模型训练的过程就类似考前复习的过程，所以我们在建模前要尽量保证标签的均衡性."
   ]
  },
  {
   "cell_type": "markdown",
   "id": "aee8b848",
   "metadata": {},
   "source": [
    "2. **离散型变量**"
   ]
  },
  {
   "cell_type": "markdown",
   "id": "e98d495b",
   "metadata": {
    "ExecuteTime": {
     "end_time": "2022-06-26T09:05:47.641531Z",
     "start_time": "2022-06-26T09:05:47.637542Z"
    }
   },
   "source": [
    "对于类别型变量而言，一般观察其分布我们采用柱状图的方式."
   ]
  },
  {
   "cell_type": "code",
   "execution_count": 46,
   "id": "2f63717a",
   "metadata": {
    "ExecuteTime": {
     "end_time": "2022-06-26T09:06:23.245720Z",
     "start_time": "2022-06-26T09:06:23.226771Z"
    }
   },
   "outputs": [
    {
     "data": {
      "text/html": [
       "<div>\n",
       "<style scoped>\n",
       "    .dataframe tbody tr th:only-of-type {\n",
       "        vertical-align: middle;\n",
       "    }\n",
       "\n",
       "    .dataframe tbody tr th {\n",
       "        vertical-align: top;\n",
       "    }\n",
       "\n",
       "    .dataframe thead th {\n",
       "        text-align: right;\n",
       "    }\n",
       "</style>\n",
       "<table border=\"1\" class=\"dataframe\">\n",
       "  <thead>\n",
       "    <tr style=\"text-align: right;\">\n",
       "      <th></th>\n",
       "      <th>Feature</th>\n",
       "      <th>missing num</th>\n",
       "      <th>missing rate</th>\n",
       "      <th>unique num</th>\n",
       "    </tr>\n",
       "  </thead>\n",
       "  <tbody>\n",
       "    <tr>\n",
       "      <th>0</th>\n",
       "      <td>CRIM</td>\n",
       "      <td>0</td>\n",
       "      <td>0.0</td>\n",
       "      <td>504</td>\n",
       "    </tr>\n",
       "    <tr>\n",
       "      <th>1</th>\n",
       "      <td>ZN</td>\n",
       "      <td>0</td>\n",
       "      <td>0.0</td>\n",
       "      <td>26</td>\n",
       "    </tr>\n",
       "    <tr>\n",
       "      <th>2</th>\n",
       "      <td>INDUS</td>\n",
       "      <td>0</td>\n",
       "      <td>0.0</td>\n",
       "      <td>76</td>\n",
       "    </tr>\n",
       "    <tr>\n",
       "      <th>3</th>\n",
       "      <td>CHAS</td>\n",
       "      <td>0</td>\n",
       "      <td>0.0</td>\n",
       "      <td>2</td>\n",
       "    </tr>\n",
       "    <tr>\n",
       "      <th>4</th>\n",
       "      <td>NOX</td>\n",
       "      <td>0</td>\n",
       "      <td>0.0</td>\n",
       "      <td>82</td>\n",
       "    </tr>\n",
       "    <tr>\n",
       "      <th>5</th>\n",
       "      <td>RM</td>\n",
       "      <td>0</td>\n",
       "      <td>0.0</td>\n",
       "      <td>446</td>\n",
       "    </tr>\n",
       "    <tr>\n",
       "      <th>6</th>\n",
       "      <td>AGE</td>\n",
       "      <td>0</td>\n",
       "      <td>0.0</td>\n",
       "      <td>357</td>\n",
       "    </tr>\n",
       "    <tr>\n",
       "      <th>7</th>\n",
       "      <td>DIS</td>\n",
       "      <td>0</td>\n",
       "      <td>0.0</td>\n",
       "      <td>402</td>\n",
       "    </tr>\n",
       "    <tr>\n",
       "      <th>8</th>\n",
       "      <td>RAD</td>\n",
       "      <td>0</td>\n",
       "      <td>0.0</td>\n",
       "      <td>9</td>\n",
       "    </tr>\n",
       "    <tr>\n",
       "      <th>9</th>\n",
       "      <td>TAX</td>\n",
       "      <td>0</td>\n",
       "      <td>0.0</td>\n",
       "      <td>66</td>\n",
       "    </tr>\n",
       "    <tr>\n",
       "      <th>10</th>\n",
       "      <td>PTRATIO</td>\n",
       "      <td>0</td>\n",
       "      <td>0.0</td>\n",
       "      <td>46</td>\n",
       "    </tr>\n",
       "    <tr>\n",
       "      <th>11</th>\n",
       "      <td>B</td>\n",
       "      <td>0</td>\n",
       "      <td>0.0</td>\n",
       "      <td>327</td>\n",
       "    </tr>\n",
       "    <tr>\n",
       "      <th>12</th>\n",
       "      <td>LSTAT</td>\n",
       "      <td>0</td>\n",
       "      <td>0.0</td>\n",
       "      <td>455</td>\n",
       "    </tr>\n",
       "    <tr>\n",
       "      <th>13</th>\n",
       "      <td>MEDV</td>\n",
       "      <td>0</td>\n",
       "      <td>0.0</td>\n",
       "      <td>229</td>\n",
       "    </tr>\n",
       "  </tbody>\n",
       "</table>\n",
       "</div>"
      ],
      "text/plain": [
       "    Feature  missing num  missing rate  unique num\n",
       "0      CRIM            0           0.0         504\n",
       "1        ZN            0           0.0          26\n",
       "2     INDUS            0           0.0          76\n",
       "3      CHAS            0           0.0           2\n",
       "4       NOX            0           0.0          82\n",
       "5        RM            0           0.0         446\n",
       "6       AGE            0           0.0         357\n",
       "7       DIS            0           0.0         402\n",
       "8       RAD            0           0.0           9\n",
       "9       TAX            0           0.0          66\n",
       "10  PTRATIO            0           0.0          46\n",
       "11        B            0           0.0         327\n",
       "12    LSTAT            0           0.0         455\n",
       "13     MEDV            0           0.0         229"
      ]
     },
     "execution_count": 46,
     "metadata": {},
     "output_type": "execute_result"
    }
   ],
   "source": [
    "df_stats(null)"
   ]
  },
  {
   "cell_type": "markdown",
   "id": "0102f41b",
   "metadata": {},
   "source": [
    "从这个表的最后一列可以看出```CHAS```,```RAD```这样的变量的取值比较符合分类变量的特征，同时阅读特征说明亦可得以确认，我们将其柱状图进行刻画"
   ]
  },
  {
   "cell_type": "code",
   "execution_count": 51,
   "id": "4b655073",
   "metadata": {
    "ExecuteTime": {
     "end_time": "2022-06-26T09:12:43.909436Z",
     "start_time": "2022-06-26T09:12:43.609994Z"
    }
   },
   "outputs": [
    {
     "data": {
      "text/plain": [
       "array([[<AxesSubplot:title={'center':'CHAS'}>,\n",
       "        <AxesSubplot:title={'center':'RAD'}>]], dtype=object)"
      ]
     },
     "execution_count": 51,
     "metadata": {},
     "output_type": "execute_result"
    },
    {
     "data": {
      "image/png": "[encoded data removed]",
      "text/plain": [
       "<Figure size 432x288 with 2 Axes>"
      ]
     },
     "metadata": {
      "needs_background": "light"
     },
     "output_type": "display_data"
    }
   ],
   "source": [
    "house[['CHAS', 'RAD']].hist()"
   ]
  },
  {
   "cell_type": "markdown",
   "id": "4926aea4",
   "metadata": {
    "ExecuteTime": {
     "end_time": "2022-06-26T09:17:03.826927Z",
     "start_time": "2022-06-26T09:17:03.817951Z"
    }
   },
   "source": [
    "当然类别型变量更大的作用是用于后续在特征工程中，用于进行特征交叉，继续特征的增强，挖掘更深层次的潜在信息."
   ]
  },
  {
   "cell_type": "markdown",
   "id": "0feddb1d",
   "metadata": {
    "ExecuteTime": {
     "end_time": "2022-06-26T09:18:45.406026Z",
     "start_time": "2022-06-26T09:18:45.399044Z"
    }
   },
   "source": [
    "3. **连续型变量**\n",
    "\n",
    "同上，我们先绘制出连续型变量的分布情况."
   ]
  },
  {
   "cell_type": "code",
   "execution_count": 62,
   "id": "6f2f9a2f",
   "metadata": {
    "ExecuteTime": {
     "end_time": "2022-06-26T10:12:50.555473Z",
     "start_time": "2022-06-26T10:12:48.122105Z"
    }
   },
   "outputs": [
    {
     "data": {
      "text/plain": [
       "array([[<AxesSubplot:title={'center':'CRIM'}>,\n",
       "        <AxesSubplot:title={'center':'ZN'}>,\n",
       "        <AxesSubplot:title={'center':'INDUS'}>],\n",
       "       [<AxesSubplot:title={'center':'NOX'}>,\n",
       "        <AxesSubplot:title={'center':'RM'}>,\n",
       "        <AxesSubplot:title={'center':'AGE'}>],\n",
       "       [<AxesSubplot:title={'center':'DIS'}>,\n",
       "        <AxesSubplot:title={'center':'TAX'}>,\n",
       "        <AxesSubplot:title={'center':'PTRATIO'}>],\n",
       "       [<AxesSubplot:title={'center':'B'}>,\n",
       "        <AxesSubplot:title={'center':'LSTAT'}>, <AxesSubplot:>]],\n",
       "      dtype=object)"
      ]
     },
     "execution_count": 62,
     "metadata": {},
     "output_type": "execute_result"
    },
    {
     "data": {
      "image/png": "[encoded data removed]",
      "text/plain": [
       "<Figure size 720x1080 with 12 Axes>"
      ]
     },
     "metadata": {
      "needs_background": "light"
     },
     "output_type": "display_data"
    }
   ],
   "source": [
    "house[['CRIM', 'ZN', 'INDUS', 'NOX', 'RM', 'AGE', 'DIS', 'TAX', 'PTRATIO', 'B', 'LSTAT']].hist(figsize = (10, 15), bins = 100)"
   ]
  },
  {
   "cell_type": "markdown",
   "id": "bfd22367",
   "metadata": {
    "ExecuteTime": {
     "end_time": "2022-06-26T09:58:00.226554Z",
     "start_time": "2022-06-26T09:58:00.210944Z"
    }
   },
   "source": [
    "从上面的图像可以看出，有些变量实际上是有相似（A高B高）的分布情况的，或者相反的分布情况的（A高B低）,这样的性质称为**变量之间的相关性**. 相关性一般有两种情况：\n",
    "- **正相关**：如果特征A的增加（减少）会导致特征B增加（减少），即特征A与特征B变化趋势相同.\n",
    "- **负相关**：如果特征A的增加（减少）会导致特征B减少（增加），即特征A与特征B变化趋势相反.\n",
    "\n",
    "当两个变量呈正相关或者负相关时，我们称两个变量是相关的. 如果两个变量有较强的相关性时，如果将这些变量一起用的话，会有很多是冗余的. 因为这样变量之间有较强的相关性，那么变量与变量之间是可以相互表示的，所以在建模时，需要尽可能消除特征之间的**共线性**，也就是尽量使用相关性比较小的特征，这样可以减少训练时间，使得模型的学习效果更好.那么下面我们讲讲如何去刻画特征间的相关性.\n",
    "\n",
    "### 多变量分析\n",
    "#### 相关性"
   ]
  },
  {
   "cell_type": "code",
   "execution_count": null,
   "id": "e7940507",
   "metadata": {},
   "outputs": [],
   "source": []
  },
  {
   "cell_type": "code",
   "execution_count": null,
   "id": "f0719f0c",
   "metadata": {},
   "outputs": [],
   "source": []
  },
  {
   "cell_type": "code",
   "execution_count": null,
   "id": "9c7e4326",
   "metadata": {},
   "outputs": [],
   "source": []
  },
  {
   "cell_type": "code",
   "execution_count": null,
   "id": "82fcb11c",
   "metadata": {},
   "outputs": [],
   "source": []
  },
  {
   "cell_type": "markdown",
   "id": "5ece7496",
   "metadata": {
    "ExecuteTime": {
     "end_time": "2022-06-26T07:59:27.801973Z",
     "start_time": "2022-06-26T07:59:27.788044Z"
    }
   },
   "source": [
    "- [kaggle可视化](https://www.kaggle.com/code/weibbi/boston-housing-price-w-visual-eda-prediction)\n",
    "- [kaggle方案](https://www.kaggle.com/code/imakash3011/boston-house-prices-advanced-regression-technique)\n",
    "- [plotly安装](https://zhuanlan.zhihu.com/p/328972379)\n",
    "- [Kaggle高分方案](https://www.kaggle.com/code/pmarcelino/comprehensive-data-exploration-with-python/notebook)"
   ]
  },
  {
   "cell_type": "code",
   "execution_count": null,
   "id": "19f47508",
   "metadata": {},
   "outputs": [],
   "source": []
  }
 ],
 "metadata": {
  "kernelspec": {
   "display_name": "ML38",
   "language": "python",
   "name": "ml38"
  },
  "language_info": {
   "codemirror_mode": {
    "name": "ipython",
    "version": 3
   },
   "file_extension": ".py",
   "mimetype": "text/x-python",
   "name": "python",
   "nbconvert_exporter": "python",
   "pygments_lexer": "ipython3",
   "version": "3.8.12"
  },
  "latex_envs": {
   "LaTeX_envs_menu_present": true,
   "autoclose": false,
   "autocomplete": true,
   "bibliofile": "biblio.bib",
   "cite_by": "apalike",
   "current_citInitial": 1,
   "eqLabelWithNumbers": true,
   "eqNumInitial": 1,
   "hotkeys": {
    "equation": "Ctrl-E",
    "itemize": "Ctrl-I"
   },
   "labels_anchors": false,
   "latex_user_defs": false,
   "report_style_numbering": false,
   "user_envs_cfg": false
  },
  "widgets": {
   "application/vnd.jupyter.widget-state+json": {
    "state": {},
    "version_major": 2,
    "version_minor": 0
   }
  }
 },
 "nbformat": 4,
 "nbformat_minor": 5
}
