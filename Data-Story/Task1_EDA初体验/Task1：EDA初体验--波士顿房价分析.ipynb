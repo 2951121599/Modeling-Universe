{
 "cells": [
  {
   "cell_type": "code",
   "execution_count": 7,
   "id": "c21476f3",
   "metadata": {
    "ExecuteTime": {
     "end_time": "2022-06-20T08:14:33.052430Z",
     "start_time": "2022-06-20T08:07:42.404189Z"
    },
    "collapsed": true
   },
   "outputs": [
    {
     "name": "stdout",
     "output_type": "stream",
     "text": [
      "Requirement already satisfied: jupyterlab in d:\\conda3\\lib\\site-packages (3.0.14)\n",
      "Requirement already satisfied: ipywidgets>=7.5 in d:\\conda3\\lib\\site-packages (7.6.3)\n",
      "Requirement already satisfied: jupyterlab-widgets>=1.0.0 in d:\\conda3\\lib\\site-packages (from ipywidgets>=7.5) (1.0.0)\n",
      "Requirement already satisfied: traitlets>=4.3.1 in d:\\conda3\\lib\\site-packages (from ipywidgets>=7.5) (5.0.5)\n",
      "Requirement already satisfied: ipython>=4.0.0 in d:\\conda3\\lib\\site-packages (from ipywidgets>=7.5) (7.22.0)\n",
      "Requirement already satisfied: ipykernel>=4.5.1 in d:\\conda3\\lib\\site-packages (from ipywidgets>=7.5) (5.3.4)\n",
      "Requirement already satisfied: nbformat>=4.2.0 in d:\\conda3\\lib\\site-packages (from ipywidgets>=7.5) (5.1.3)\n",
      "Requirement already satisfied: widgetsnbextension~=3.5.0 in d:\\conda3\\lib\\site-packages (from ipywidgets>=7.5) (3.5.1)\n",
      "Requirement already satisfied: jupyter-client in d:\\conda3\\lib\\site-packages (from ipykernel>=4.5.1->ipywidgets>=7.5) (6.1.12)\n",
      "Requirement already satisfied: tornado>=4.2 in d:\\conda3\\lib\\site-packages (from ipykernel>=4.5.1->ipywidgets>=7.5) (6.1)\n",
      "Requirement already satisfied: pickleshare in d:\\conda3\\lib\\site-packages (from ipython>=4.0.0->ipywidgets>=7.5) (0.7.5)\n",
      "Requirement already satisfied: decorator in d:\\conda3\\lib\\site-packages (from ipython>=4.0.0->ipywidgets>=7.5) (5.0.6)\n",
      "Requirement already satisfied: colorama in d:\\conda3\\lib\\site-packages (from ipython>=4.0.0->ipywidgets>=7.5) (0.4.4)\n",
      "Requirement already satisfied: backcall in d:\\conda3\\lib\\site-packages (from ipython>=4.0.0->ipywidgets>=7.5) (0.2.0)\n",
      "Requirement already satisfied: jedi>=0.16 in d:\\conda3\\lib\\site-packages (from ipython>=4.0.0->ipywidgets>=7.5) (0.17.2)\n",
      "Requirement already satisfied: pygments in d:\\conda3\\lib\\site-packages (from ipython>=4.0.0->ipywidgets>=7.5) (2.8.1)\n",
      "Requirement already satisfied: prompt-toolkit!=3.0.0,!=3.0.1,<3.1.0,>=2.0.0 in d:\\conda3\\lib\\site-packages (from ipython>=4.0.0->ipywidgets>=7.5) (3.0.17)\n",
      "Requirement already satisfied: setuptools>=18.5 in d:\\conda3\\lib\\site-packages (from ipython>=4.0.0->ipywidgets>=7.5) (52.0.0.post20210125)\n",
      "Requirement already satisfied: parso<0.8.0,>=0.7.0 in d:\\conda3\\lib\\site-packages (from jedi>=0.16->ipython>=4.0.0->ipywidgets>=7.5) (0.7.0)\n",
      "Requirement already satisfied: ipython-genutils in d:\\conda3\\lib\\site-packages (from nbformat>=4.2.0->ipywidgets>=7.5) (0.2.0)\n",
      "Requirement already satisfied: jsonschema!=2.5.0,>=2.4 in d:\\conda3\\lib\\site-packages (from nbformat>=4.2.0->ipywidgets>=7.5) (3.2.0)\n",
      "Requirement already satisfied: jupyter-core in d:\\conda3\\lib\\site-packages (from nbformat>=4.2.0->ipywidgets>=7.5) (4.7.1)\n",
      "Requirement already satisfied: pyrsistent>=0.14.0 in d:\\conda3\\lib\\site-packages (from jsonschema!=2.5.0,>=2.4->nbformat>=4.2.0->ipywidgets>=7.5) (0.17.3)\n",
      "Requirement already satisfied: six>=1.11.0 in d:\\conda3\\lib\\site-packages (from jsonschema!=2.5.0,>=2.4->nbformat>=4.2.0->ipywidgets>=7.5) (1.15.0)\n",
      "Requirement already satisfied: attrs>=17.4.0 in d:\\conda3\\lib\\site-packages (from jsonschema!=2.5.0,>=2.4->nbformat>=4.2.0->ipywidgets>=7.5) (20.3.0)\n",
      "Requirement already satisfied: wcwidth in d:\\conda3\\lib\\site-packages (from prompt-toolkit!=3.0.0,!=3.0.1,<3.1.0,>=2.0.0->ipython>=4.0.0->ipywidgets>=7.5) (0.2.5)\n",
      "Requirement already satisfied: notebook>=4.4.1 in d:\\conda3\\lib\\site-packages (from widgetsnbextension~=3.5.0->ipywidgets>=7.5) (6.3.0)\n",
      "Requirement already satisfied: jinja2 in d:\\conda3\\lib\\site-packages (from notebook>=4.4.1->widgetsnbextension~=3.5.0->ipywidgets>=7.5) (2.11.3)\n",
      "Requirement already satisfied: pyzmq>=17 in d:\\conda3\\lib\\site-packages (from notebook>=4.4.1->widgetsnbextension~=3.5.0->ipywidgets>=7.5) (20.0.0)\n",
      "Requirement already satisfied: Send2Trash>=1.5.0 in d:\\conda3\\lib\\site-packages (from notebook>=4.4.1->widgetsnbextension~=3.5.0->ipywidgets>=7.5) (1.5.0)\n",
      "Requirement already satisfied: terminado>=0.8.3 in d:\\conda3\\lib\\site-packages (from notebook>=4.4.1->widgetsnbextension~=3.5.0->ipywidgets>=7.5) (0.9.4)\n",
      "Requirement already satisfied: argon2-cffi in d:\\conda3\\lib\\site-packages (from notebook>=4.4.1->widgetsnbextension~=3.5.0->ipywidgets>=7.5) (20.1.0)\n",
      "Requirement already satisfied: nbconvert in d:\\conda3\\lib\\site-packages (from notebook>=4.4.1->widgetsnbextension~=3.5.0->ipywidgets>=7.5) (6.0.0)\n",
      "Requirement already satisfied: prometheus-client in d:\\conda3\\lib\\site-packages (from notebook>=4.4.1->widgetsnbextension~=3.5.0->ipywidgets>=7.5) (0.10.1)\n",
      "Requirement already satisfied: python-dateutil>=2.1 in d:\\conda3\\lib\\site-packages (from jupyter-client->ipykernel>=4.5.1->ipywidgets>=7.5) (2.8.1)\n",
      "Requirement already satisfied: pywin32>=1.0 in d:\\conda3\\lib\\site-packages (from jupyter-core->nbformat>=4.2.0->ipywidgets>=7.5) (227)\n",
      "Requirement already satisfied: pywinpty>=0.5 in d:\\conda3\\lib\\site-packages (from terminado>=0.8.3->notebook>=4.4.1->widgetsnbextension~=3.5.0->ipywidgets>=7.5) (0.5.7)\n",
      "Requirement already satisfied: nbclassic~=0.2 in d:\\conda3\\lib\\site-packages (from jupyterlab) (0.2.6)\n",
      "Requirement already satisfied: jupyterlab-server~=2.3 in d:\\conda3\\lib\\site-packages (from jupyterlab) (2.4.0)\n",
      "Requirement already satisfied: packaging in d:\\conda3\\lib\\site-packages (from jupyterlab) (20.9)\n",
      "Requirement already satisfied: jupyter-server~=1.4 in d:\\conda3\\lib\\site-packages (from jupyterlab) (1.4.1)\n",
      "Requirement already satisfied: jupyter-packaging~=0.7 in d:\\conda3\\lib\\site-packages (from jupyterlab) (0.7.12)\n",
      "Requirement already satisfied: MarkupSafe>=0.23 in d:\\conda3\\lib\\site-packages (from jinja2->notebook>=4.4.1->widgetsnbextension~=3.5.0->ipywidgets>=7.5) (1.1.1)\n",
      "Requirement already satisfied: anyio>=2.0.2 in d:\\conda3\\lib\\site-packages (from jupyter-server~=1.4->jupyterlab) (2.2.0)\n",
      "Requirement already satisfied: sniffio>=1.1 in d:\\conda3\\lib\\site-packages (from anyio>=2.0.2->jupyter-server~=1.4->jupyterlab) (1.2.0)\n",
      "Requirement already satisfied: idna>=2.8 in d:\\conda3\\lib\\site-packages (from anyio>=2.0.2->jupyter-server~=1.4->jupyterlab) (2.10)\n",
      "Requirement already satisfied: requests in d:\\conda3\\lib\\site-packages (from jupyterlab-server~=2.3->jupyterlab) (2.25.1)\n",
      "Requirement already satisfied: json5 in d:\\conda3\\lib\\site-packages (from jupyterlab-server~=2.3->jupyterlab) (0.9.5)\n",
      "Requirement already satisfied: babel in d:\\conda3\\lib\\site-packages (from jupyterlab-server~=2.3->jupyterlab) (2.9.0)\n",
      "Requirement already satisfied: cffi>=1.0.0 in d:\\conda3\\lib\\site-packages (from argon2-cffi->notebook>=4.4.1->widgetsnbextension~=3.5.0->ipywidgets>=7.5) (1.14.5)\n",
      "Requirement already satisfied: pycparser in d:\\conda3\\lib\\site-packages (from cffi>=1.0.0->argon2-cffi->notebook>=4.4.1->widgetsnbextension~=3.5.0->ipywidgets>=7.5) (2.20)\n",
      "Requirement already satisfied: pytz>=2015.7 in d:\\conda3\\lib\\site-packages (from babel->jupyterlab-server~=2.3->jupyterlab) (2021.1)\n",
      "Requirement already satisfied: mistune<2,>=0.8.1 in d:\\conda3\\lib\\site-packages (from nbconvert->notebook>=4.4.1->widgetsnbextension~=3.5.0->ipywidgets>=7.5) (0.8.4)\n",
      "Requirement already satisfied: bleach in d:\\conda3\\lib\\site-packages (from nbconvert->notebook>=4.4.1->widgetsnbextension~=3.5.0->ipywidgets>=7.5) (3.3.0)\n",
      "Requirement already satisfied: entrypoints>=0.2.2 in d:\\conda3\\lib\\site-packages (from nbconvert->notebook>=4.4.1->widgetsnbextension~=3.5.0->ipywidgets>=7.5) (0.3)\n",
      "Requirement already satisfied: defusedxml in d:\\conda3\\lib\\site-packages (from nbconvert->notebook>=4.4.1->widgetsnbextension~=3.5.0->ipywidgets>=7.5) (0.7.1)\n",
      "Requirement already satisfied: pandocfilters>=1.4.1 in d:\\conda3\\lib\\site-packages (from nbconvert->notebook>=4.4.1->widgetsnbextension~=3.5.0->ipywidgets>=7.5) (1.4.3)\n",
      "Requirement already satisfied: nbclient<0.6.0,>=0.5.0 in d:\\conda3\\lib\\site-packages (from nbconvert->notebook>=4.4.1->widgetsnbextension~=3.5.0->ipywidgets>=7.5) (0.5.3)\n",
      "Requirement already satisfied: jupyterlab-pygments in d:\\conda3\\lib\\site-packages (from nbconvert->notebook>=4.4.1->widgetsnbextension~=3.5.0->ipywidgets>=7.5) (0.1.2)\n",
      "Requirement already satisfied: testpath in d:\\conda3\\lib\\site-packages (from nbconvert->notebook>=4.4.1->widgetsnbextension~=3.5.0->ipywidgets>=7.5) (0.4.4)\n",
      "Requirement already satisfied: async-generator in d:\\conda3\\lib\\site-packages (from nbclient<0.6.0,>=0.5.0->nbconvert->notebook>=4.4.1->widgetsnbextension~=3.5.0->ipywidgets>=7.5) (1.10)\n",
      "Requirement already satisfied: nest-asyncio in d:\\conda3\\lib\\site-packages (from nbclient<0.6.0,>=0.5.0->nbconvert->notebook>=4.4.1->widgetsnbextension~=3.5.0->ipywidgets>=7.5) (1.5.1)\n",
      "Requirement already satisfied: webencodings in d:\\conda3\\lib\\site-packages (from bleach->nbconvert->notebook>=4.4.1->widgetsnbextension~=3.5.0->ipywidgets>=7.5) (0.5.1)\n",
      "Requirement already satisfied: pyparsing>=2.0.2 in d:\\conda3\\lib\\site-packages (from packaging->jupyterlab) (2.4.7)\n",
      "Requirement already satisfied: certifi>=2017.4.17 in d:\\conda3\\lib\\site-packages (from requests->jupyterlab-server~=2.3->jupyterlab) (2020.12.5)\n",
      "Requirement already satisfied: urllib3<1.27,>=1.21.1 in c:\\users\\melon\\appdata\\roaming\\python\\python38\\site-packages (from requests->jupyterlab-server~=2.3->jupyterlab) (1.25.8)\n",
      "Requirement already satisfied: chardet<5,>=3.0.2 in d:\\conda3\\lib\\site-packages (from requests->jupyterlab-server~=2.3->jupyterlab) (4.0.0)\n"
     ]
    },
    {
     "name": "stdout",
     "output_type": "stream",
     "text": [
      "Requirement already satisfied: npm in d:\\conda3\\lib\\site-packages (0.1.1)\n",
      "Requirement already satisfied: optional-django==0.1.0 in d:\\conda3\\lib\\site-packages (from npm) (0.1.0)\n",
      "^C\n",
      "Requirement already satisfied: plotly in d:\\conda3\\lib\\site-packages (5.8.2)\n",
      "Requirement already satisfied: tenacity>=6.2.0 in d:\\conda3\\lib\\site-packages (from plotly) (8.0.1)\n"
     ]
    }
   ],
   "source": [
    "# !pip install jupyterlab \"ipywidgets>=7.5\" \n",
    "# !pip install npm\n",
    "# !conda install -c conda-forge nodejs\n",
    "# !pip install plotly"
   ]
  },
  {
   "cell_type": "code",
   "execution_count": 8,
   "id": "f20ac2b4",
   "metadata": {
    "ExecuteTime": {
     "end_time": "2022-06-20T08:14:50.985589Z",
     "start_time": "2022-06-20T08:14:49.794025Z"
    }
   },
   "outputs": [],
   "source": [
    "# 加载必要库\n",
    "import pandas as pd # 数据分析库\n",
    "import numpy as np # 矩阵计算\n",
    "import matplotlib.pyplot as plt # 画图\n",
    "\n",
    "import plotly.express as px # 画图\n",
    "from statsmodels.graphics.gofplots import qqplot # 统计模型\n",
    "import seaborn as sns # 统计绘图\n",
    "%matplotlib inline\n",
    "\n",
    "# 避免产生报警告\n",
    "import warnings \n",
    "warnings.filterwarnings('ignore')"
   ]
  },
  {
   "cell_type": "markdown",
   "id": "6b2c3295",
   "metadata": {},
   "source": [
    "## 数据加载"
   ]
  },
  {
   "cell_type": "code",
   "execution_count": 3,
   "id": "4872cd7c",
   "metadata": {},
   "outputs": [],
   "source": [
    "# 加载数据\n",
    "## 参考链接：https://scikit-learn.org/stable/modules/generated/sklearn.datasets.load_boston.html#sklearn.datasets.load_boston\n",
    "# data_url = \"http://lib.stat.cmu.edu/datasets/boston\" # 数据来源\n",
    "# raw_df = pd.read_csv(data_url, sep=\"\\s+\", skiprows=22, header=None) # 用pandas读csv文件\n",
    "# data = np.hstack([raw_df.values[::2, :], raw_df.values[1::2, :2]])\n",
    "# target = raw_df.values[1::2, 2]"
   ]
  },
  {
   "cell_type": "code",
   "execution_count": 9,
   "id": "adca5cbe",
   "metadata": {
    "ExecuteTime": {
     "end_time": "2022-06-20T08:17:59.980942Z",
     "start_time": "2022-06-20T08:17:59.396536Z"
    }
   },
   "outputs": [
    {
     "data": {
      "text/html": [
       "<div>\n",
       "<style scoped>\n",
       "    .dataframe tbody tr th:only-of-type {\n",
       "        vertical-align: middle;\n",
       "    }\n",
       "\n",
       "    .dataframe tbody tr th {\n",
       "        vertical-align: top;\n",
       "    }\n",
       "\n",
       "    .dataframe thead th {\n",
       "        text-align: right;\n",
       "    }\n",
       "</style>\n",
       "<table border=\"1\" class=\"dataframe\">\n",
       "  <thead>\n",
       "    <tr style=\"text-align: right;\">\n",
       "      <th></th>\n",
       "      <th>CRIM</th>\n",
       "      <th>ZN</th>\n",
       "      <th>INDUS</th>\n",
       "      <th>CHAS</th>\n",
       "      <th>NOX</th>\n",
       "      <th>RM</th>\n",
       "      <th>AGE</th>\n",
       "      <th>DIS</th>\n",
       "      <th>RAD</th>\n",
       "      <th>TAX</th>\n",
       "      <th>PTRATIO</th>\n",
       "      <th>B</th>\n",
       "      <th>LSTAT</th>\n",
       "      <th>MEDV</th>\n",
       "    </tr>\n",
       "  </thead>\n",
       "  <tbody>\n",
       "    <tr>\n",
       "      <th>0</th>\n",
       "      <td>0.00632</td>\n",
       "      <td>18.0</td>\n",
       "      <td>2.31</td>\n",
       "      <td>0</td>\n",
       "      <td>0.538</td>\n",
       "      <td>6.575</td>\n",
       "      <td>65.2</td>\n",
       "      <td>4.0900</td>\n",
       "      <td>1</td>\n",
       "      <td>296.0</td>\n",
       "      <td>15.3</td>\n",
       "      <td>396.90</td>\n",
       "      <td>4.98</td>\n",
       "      <td>24.0</td>\n",
       "    </tr>\n",
       "    <tr>\n",
       "      <th>1</th>\n",
       "      <td>0.02731</td>\n",
       "      <td>0.0</td>\n",
       "      <td>7.07</td>\n",
       "      <td>0</td>\n",
       "      <td>0.469</td>\n",
       "      <td>6.421</td>\n",
       "      <td>78.9</td>\n",
       "      <td>4.9671</td>\n",
       "      <td>2</td>\n",
       "      <td>242.0</td>\n",
       "      <td>17.8</td>\n",
       "      <td>396.90</td>\n",
       "      <td>9.14</td>\n",
       "      <td>21.6</td>\n",
       "    </tr>\n",
       "    <tr>\n",
       "      <th>2</th>\n",
       "      <td>0.02729</td>\n",
       "      <td>0.0</td>\n",
       "      <td>7.07</td>\n",
       "      <td>0</td>\n",
       "      <td>0.469</td>\n",
       "      <td>7.185</td>\n",
       "      <td>61.1</td>\n",
       "      <td>4.9671</td>\n",
       "      <td>2</td>\n",
       "      <td>242.0</td>\n",
       "      <td>17.8</td>\n",
       "      <td>392.83</td>\n",
       "      <td>4.03</td>\n",
       "      <td>34.7</td>\n",
       "    </tr>\n",
       "    <tr>\n",
       "      <th>3</th>\n",
       "      <td>0.03237</td>\n",
       "      <td>0.0</td>\n",
       "      <td>2.18</td>\n",
       "      <td>0</td>\n",
       "      <td>0.458</td>\n",
       "      <td>6.998</td>\n",
       "      <td>45.8</td>\n",
       "      <td>6.0622</td>\n",
       "      <td>3</td>\n",
       "      <td>222.0</td>\n",
       "      <td>18.7</td>\n",
       "      <td>394.63</td>\n",
       "      <td>2.94</td>\n",
       "      <td>33.4</td>\n",
       "    </tr>\n",
       "    <tr>\n",
       "      <th>4</th>\n",
       "      <td>0.06905</td>\n",
       "      <td>0.0</td>\n",
       "      <td>2.18</td>\n",
       "      <td>0</td>\n",
       "      <td>0.458</td>\n",
       "      <td>7.147</td>\n",
       "      <td>54.2</td>\n",
       "      <td>6.0622</td>\n",
       "      <td>3</td>\n",
       "      <td>222.0</td>\n",
       "      <td>18.7</td>\n",
       "      <td>396.90</td>\n",
       "      <td>5.33</td>\n",
       "      <td>36.2</td>\n",
       "    </tr>\n",
       "  </tbody>\n",
       "</table>\n",
       "</div>"
      ],
      "text/plain": [
       "      CRIM    ZN  INDUS  CHAS    NOX     RM   AGE     DIS  RAD    TAX  PTRATIO       B  LSTAT  MEDV\n",
       "0  0.00632  18.0   2.31     0  0.538  6.575  65.2  4.0900    1  296.0     15.3  396.90   4.98  24.0\n",
       "1  0.02731   0.0   7.07     0  0.469  6.421  78.9  4.9671    2  242.0     17.8  396.90   9.14  21.6\n",
       "2  0.02729   0.0   7.07     0  0.469  7.185  61.1  4.9671    2  242.0     17.8  392.83   4.03  34.7\n",
       "3  0.03237   0.0   2.18     0  0.458  6.998  45.8  6.0622    3  222.0     18.7  394.63   2.94  33.4\n",
       "4  0.06905   0.0   2.18     0  0.458  7.147  54.2  6.0622    3  222.0     18.7  396.90   5.33  36.2"
      ]
     },
     "execution_count": 9,
     "metadata": {},
     "output_type": "execute_result"
    }
   ],
   "source": [
    "house = pd.read_csv(\"boston.csv\")\n",
    "house.head() # 读前五行"
   ]
  },
  {
   "cell_type": "markdown",
   "id": "ef04c9e3",
   "metadata": {},
   "source": [
    "特征：\n",
    "- CRIM：按城镇划分的人均犯罪率\n",
    "- ZN：划分为超过 25,000 平方英尺地块的住宅用地比例。\n",
    "- INDUS：每个城镇的非零售商业用地的比例\n",
    "- CHAS：Charles River 虚拟变量（如果区域以河流为界，则为 1；否则为 0）\n",
    "- NOX：一氧化氮浓度（每 1000 万分之一）[parts/10M]\n",
    "- RM：每户住宅的平均房间数\n",
    "- AGE：1940 年之前建造的自住单元的比例\n",
    "- DIS：到波士顿五个就业中心的加权距离\n",
    "- RAD：通往径向高速公路的指数\n",
    "- TAX：全每 10,000 美元的价值财产税率 [\\$/10k]\n",
    "- PTRATIO：按城镇划分的师生比例\n",
    "- B：等式 $B=1000(Bk - 0.63)^2$ 的结果，其中 $Bk$ 是城镇中黑人的比例\n",
    "- LSTAT：人口地位较低的百分比\n",
    "\n",
    "标签：\n",
    "\n",
    "MEDV：自住房屋的中位数价值 1000 美元 [k\\$]"
   ]
  },
  {
   "cell_type": "markdown",
   "id": "b820df8b",
   "metadata": {},
   "source": [
    "## 数据概况"
   ]
  },
  {
   "cell_type": "code",
   "execution_count": 4,
   "id": "5080d671",
   "metadata": {},
   "outputs": [
    {
     "data": {
      "text/plain": [
       "(506, 14)"
      ]
     },
     "execution_count": 4,
     "metadata": {},
     "output_type": "execute_result"
    }
   ],
   "source": [
    "# 数据的规模\n",
    "house.shape"
   ]
  },
  {
   "cell_type": "markdown",
   "id": "09822cc9",
   "metadata": {},
   "source": [
    "可以看到，本次我们用到的数据集总共有506条样本(行)也就是有506套房子的数据；同时有14列，其中13列是特征，也就是每个房子会有13个属性特征，例如：住宅的房间数、交通方便度等信息，最后一列是房子的标签——房价. 这个数据集主要的一个想法是，利用房子的13个属性特征，对房子的价格进行预测. "
   ]
  },
  {
   "cell_type": "code",
   "execution_count": 5,
   "id": "1bd7d9d7",
   "metadata": {
    "scrolled": true
   },
   "outputs": [
    {
     "data": {
      "text/html": [
       "<div>\n",
       "<style scoped>\n",
       "    .dataframe tbody tr th:only-of-type {\n",
       "        vertical-align: middle;\n",
       "    }\n",
       "\n",
       "    .dataframe tbody tr th {\n",
       "        vertical-align: top;\n",
       "    }\n",
       "\n",
       "    .dataframe thead th {\n",
       "        text-align: right;\n",
       "    }\n",
       "</style>\n",
       "<table border=\"1\" class=\"dataframe\">\n",
       "  <thead>\n",
       "    <tr style=\"text-align: right;\">\n",
       "      <th></th>\n",
       "      <th>CRIM</th>\n",
       "      <th>ZN</th>\n",
       "      <th>INDUS</th>\n",
       "      <th>CHAS</th>\n",
       "      <th>NOX</th>\n",
       "      <th>RM</th>\n",
       "      <th>AGE</th>\n",
       "      <th>DIS</th>\n",
       "      <th>RAD</th>\n",
       "      <th>TAX</th>\n",
       "      <th>PTRATIO</th>\n",
       "      <th>B</th>\n",
       "      <th>LSTAT</th>\n",
       "      <th>MEDV</th>\n",
       "    </tr>\n",
       "  </thead>\n",
       "  <tbody>\n",
       "    <tr>\n",
       "      <th>count</th>\n",
       "      <td>506.000000</td>\n",
       "      <td>506.000000</td>\n",
       "      <td>506.000000</td>\n",
       "      <td>506.000000</td>\n",
       "      <td>506.000000</td>\n",
       "      <td>506.000000</td>\n",
       "      <td>506.000000</td>\n",
       "      <td>506.000000</td>\n",
       "      <td>506.000000</td>\n",
       "      <td>506.000000</td>\n",
       "      <td>506.000000</td>\n",
       "      <td>506.000000</td>\n",
       "      <td>506.000000</td>\n",
       "      <td>506.000000</td>\n",
       "    </tr>\n",
       "    <tr>\n",
       "      <th>mean</th>\n",
       "      <td>3.613524</td>\n",
       "      <td>11.363636</td>\n",
       "      <td>11.136779</td>\n",
       "      <td>0.069170</td>\n",
       "      <td>0.554695</td>\n",
       "      <td>6.284634</td>\n",
       "      <td>68.574901</td>\n",
       "      <td>3.795043</td>\n",
       "      <td>9.549407</td>\n",
       "      <td>408.237154</td>\n",
       "      <td>18.455534</td>\n",
       "      <td>356.674032</td>\n",
       "      <td>12.653063</td>\n",
       "      <td>22.532806</td>\n",
       "    </tr>\n",
       "    <tr>\n",
       "      <th>std</th>\n",
       "      <td>8.601545</td>\n",
       "      <td>23.322453</td>\n",
       "      <td>6.860353</td>\n",
       "      <td>0.253994</td>\n",
       "      <td>0.115878</td>\n",
       "      <td>0.702617</td>\n",
       "      <td>28.148861</td>\n",
       "      <td>2.105710</td>\n",
       "      <td>8.707259</td>\n",
       "      <td>168.537116</td>\n",
       "      <td>2.164946</td>\n",
       "      <td>91.294864</td>\n",
       "      <td>7.141062</td>\n",
       "      <td>9.197104</td>\n",
       "    </tr>\n",
       "    <tr>\n",
       "      <th>min</th>\n",
       "      <td>0.006320</td>\n",
       "      <td>0.000000</td>\n",
       "      <td>0.460000</td>\n",
       "      <td>0.000000</td>\n",
       "      <td>0.385000</td>\n",
       "      <td>3.561000</td>\n",
       "      <td>2.900000</td>\n",
       "      <td>1.129600</td>\n",
       "      <td>1.000000</td>\n",
       "      <td>187.000000</td>\n",
       "      <td>12.600000</td>\n",
       "      <td>0.320000</td>\n",
       "      <td>1.730000</td>\n",
       "      <td>5.000000</td>\n",
       "    </tr>\n",
       "    <tr>\n",
       "      <th>25%</th>\n",
       "      <td>0.082045</td>\n",
       "      <td>0.000000</td>\n",
       "      <td>5.190000</td>\n",
       "      <td>0.000000</td>\n",
       "      <td>0.449000</td>\n",
       "      <td>5.885500</td>\n",
       "      <td>45.025000</td>\n",
       "      <td>2.100175</td>\n",
       "      <td>4.000000</td>\n",
       "      <td>279.000000</td>\n",
       "      <td>17.400000</td>\n",
       "      <td>375.377500</td>\n",
       "      <td>6.950000</td>\n",
       "      <td>17.025000</td>\n",
       "    </tr>\n",
       "    <tr>\n",
       "      <th>50%</th>\n",
       "      <td>0.256510</td>\n",
       "      <td>0.000000</td>\n",
       "      <td>9.690000</td>\n",
       "      <td>0.000000</td>\n",
       "      <td>0.538000</td>\n",
       "      <td>6.208500</td>\n",
       "      <td>77.500000</td>\n",
       "      <td>3.207450</td>\n",
       "      <td>5.000000</td>\n",
       "      <td>330.000000</td>\n",
       "      <td>19.050000</td>\n",
       "      <td>391.440000</td>\n",
       "      <td>11.360000</td>\n",
       "      <td>21.200000</td>\n",
       "    </tr>\n",
       "    <tr>\n",
       "      <th>75%</th>\n",
       "      <td>3.677083</td>\n",
       "      <td>12.500000</td>\n",
       "      <td>18.100000</td>\n",
       "      <td>0.000000</td>\n",
       "      <td>0.624000</td>\n",
       "      <td>6.623500</td>\n",
       "      <td>94.075000</td>\n",
       "      <td>5.188425</td>\n",
       "      <td>24.000000</td>\n",
       "      <td>666.000000</td>\n",
       "      <td>20.200000</td>\n",
       "      <td>396.225000</td>\n",
       "      <td>16.955000</td>\n",
       "      <td>25.000000</td>\n",
       "    </tr>\n",
       "    <tr>\n",
       "      <th>max</th>\n",
       "      <td>88.976200</td>\n",
       "      <td>100.000000</td>\n",
       "      <td>27.740000</td>\n",
       "      <td>1.000000</td>\n",
       "      <td>0.871000</td>\n",
       "      <td>8.780000</td>\n",
       "      <td>100.000000</td>\n",
       "      <td>12.126500</td>\n",
       "      <td>24.000000</td>\n",
       "      <td>711.000000</td>\n",
       "      <td>22.000000</td>\n",
       "      <td>396.900000</td>\n",
       "      <td>37.970000</td>\n",
       "      <td>50.000000</td>\n",
       "    </tr>\n",
       "  </tbody>\n",
       "</table>\n",
       "</div>"
      ],
      "text/plain": [
       "             CRIM          ZN       INDUS        CHAS         NOX          RM  \\\n",
       "count  506.000000  506.000000  506.000000  506.000000  506.000000  506.000000   \n",
       "mean     3.613524   11.363636   11.136779    0.069170    0.554695    6.284634   \n",
       "std      8.601545   23.322453    6.860353    0.253994    0.115878    0.702617   \n",
       "min      0.006320    0.000000    0.460000    0.000000    0.385000    3.561000   \n",
       "25%      0.082045    0.000000    5.190000    0.000000    0.449000    5.885500   \n",
       "50%      0.256510    0.000000    9.690000    0.000000    0.538000    6.208500   \n",
       "75%      3.677083   12.500000   18.100000    0.000000    0.624000    6.623500   \n",
       "max     88.976200  100.000000   27.740000    1.000000    0.871000    8.780000   \n",
       "\n",
       "              AGE         DIS         RAD         TAX     PTRATIO           B  \\\n",
       "count  506.000000  506.000000  506.000000  506.000000  506.000000  506.000000   \n",
       "mean    68.574901    3.795043    9.549407  408.237154   18.455534  356.674032   \n",
       "std     28.148861    2.105710    8.707259  168.537116    2.164946   91.294864   \n",
       "min      2.900000    1.129600    1.000000  187.000000   12.600000    0.320000   \n",
       "25%     45.025000    2.100175    4.000000  279.000000   17.400000  375.377500   \n",
       "50%     77.500000    3.207450    5.000000  330.000000   19.050000  391.440000   \n",
       "75%     94.075000    5.188425   24.000000  666.000000   20.200000  396.225000   \n",
       "max    100.000000   12.126500   24.000000  711.000000   22.000000  396.900000   \n",
       "\n",
       "            LSTAT        MEDV  \n",
       "count  506.000000  506.000000  \n",
       "mean    12.653063   22.532806  \n",
       "std      7.141062    9.197104  \n",
       "min      1.730000    5.000000  \n",
       "25%      6.950000   17.025000  \n",
       "50%     11.360000   21.200000  \n",
       "75%     16.955000   25.000000  \n",
       "max     37.970000   50.000000  "
      ]
     },
     "execution_count": 5,
     "metadata": {},
     "output_type": "execute_result"
    }
   ],
   "source": [
    "# 对数据集数据的基本统计描述\n",
    "# 这个命令非常便捷，呈现了这个数据集的基本统计分布，这是对每一列而言的，统计量包括：最大值，最小值，\n",
    "house.describe()"
   ]
  },
  {
   "cell_type": "markdown",
   "id": "e6b18d32",
   "metadata": {},
   "source": [
    "> ```df.describe()```这个命令非常便捷，呈现了这个数据集的基本统计分布，这是对每一列数值型变量而言的，统计量包括：频数，均值，方差，最大值，最小值，中位数，25，75分位数.\n",
    "\n",
    "从这个表我们呢可以大致获得一些处理思路，如：\n",
    "- 从第一行我们可以看到所有的```count```也就是数目统计，所有特征都是506等于样本数的，说明这个数据集至少是没有缺失值的.\n",
    "- 第一列```CRIM```是一个犯罪率，是一个在$[0,1]$之间的实数，自然75%分位数，最大值都不可能超过1，所以显然这一列的数据是有异常的，后面我们需要进行一些处理.\n",
    "- 对于```TAX```，我们可以看到它的方差非常的大，因此在后续的处理过程中，我们可以采用一些降维的手段如：主成分分析（PCA）等."
   ]
  },
  {
   "cell_type": "markdown",
   "id": "7856d8e0",
   "metadata": {},
   "source": [
    "> 有时候我们也可以通过```df.info()```去对数据集作一个简单的概述，更多的是看确实情况，以及变量的类型，通过变量类型分析数据处理的方法."
   ]
  },
  {
   "cell_type": "code",
   "execution_count": 11,
   "id": "5bacb7f2",
   "metadata": {
    "ExecuteTime": {
     "end_time": "2022-06-20T11:24:12.615174Z",
     "start_time": "2022-06-20T11:24:12.432167Z"
    }
   },
   "outputs": [
    {
     "name": "stdout",
     "output_type": "stream",
     "text": [
      "<class 'pandas.core.frame.DataFrame'>\n",
      "RangeIndex: 506 entries, 0 to 505\n",
      "Data columns (total 14 columns):\n",
      " #   Column   Non-Null Count  Dtype  \n",
      "---  ------   --------------  -----  \n",
      " 0   CRIM     506 non-null    float64\n",
      " 1   ZN       506 non-null    float64\n",
      " 2   INDUS    506 non-null    float64\n",
      " 3   CHAS     506 non-null    int64  \n",
      " 4   NOX      506 non-null    float64\n",
      " 5   RM       506 non-null    float64\n",
      " 6   AGE      506 non-null    float64\n",
      " 7   DIS      506 non-null    float64\n",
      " 8   RAD      506 non-null    int64  \n",
      " 9   TAX      506 non-null    float64\n",
      " 10  PTRATIO  506 non-null    float64\n",
      " 11  B        506 non-null    float64\n",
      " 12  LSTAT    506 non-null    float64\n",
      " 13  MEDV     506 non-null    float64\n",
      "dtypes: float64(12), int64(2)\n",
      "memory usage: 55.5 KB\n"
     ]
    }
   ],
   "source": [
    "house.info()"
   ]
  },
  {
   "cell_type": "markdown",
   "id": "7dbd09bc",
   "metadata": {},
   "source": [
    "## 数据处理\n",
    "### 缺失值处理\n",
    "为了给大家演示缺失值的处理，我们在Boston房价数据集的基础上手动删除了一些数据，来模拟数据的缺失，存为以```boston_null.csv```文件，下面以该文件进行讲解.\n",
    "\n"
   ]
  },
  {
   "cell_type": "code",
   "execution_count": 12,
   "id": "3713fc92",
   "metadata": {
    "ExecuteTime": {
     "end_time": "2022-06-20T13:40:28.708031Z",
     "start_time": "2022-06-20T13:40:28.496523Z"
    }
   },
   "outputs": [
    {
     "data": {
      "text/html": [
       "<div>\n",
       "<style scoped>\n",
       "    .dataframe tbody tr th:only-of-type {\n",
       "        vertical-align: middle;\n",
       "    }\n",
       "\n",
       "    .dataframe tbody tr th {\n",
       "        vertical-align: top;\n",
       "    }\n",
       "\n",
       "    .dataframe thead th {\n",
       "        text-align: right;\n",
       "    }\n",
       "</style>\n",
       "<table border=\"1\" class=\"dataframe\">\n",
       "  <thead>\n",
       "    <tr style=\"text-align: right;\">\n",
       "      <th></th>\n",
       "      <th>CRIM</th>\n",
       "      <th>ZN</th>\n",
       "      <th>INDUS</th>\n",
       "      <th>CHAS</th>\n",
       "      <th>NOX</th>\n",
       "      <th>RM</th>\n",
       "      <th>AGE</th>\n",
       "      <th>DIS</th>\n",
       "      <th>RAD</th>\n",
       "      <th>TAX</th>\n",
       "      <th>PTRATIO</th>\n",
       "      <th>B</th>\n",
       "      <th>LSTAT</th>\n",
       "      <th>MEDV</th>\n",
       "    </tr>\n",
       "  </thead>\n",
       "  <tbody>\n",
       "    <tr>\n",
       "      <th>0</th>\n",
       "      <td>0.00632</td>\n",
       "      <td>18.0</td>\n",
       "      <td>2.31</td>\n",
       "      <td>0</td>\n",
       "      <td>0.538</td>\n",
       "      <td>6.575</td>\n",
       "      <td>65.2</td>\n",
       "      <td>4.0900</td>\n",
       "      <td>1</td>\n",
       "      <td>296</td>\n",
       "      <td>15.3</td>\n",
       "      <td>396.90</td>\n",
       "      <td>4.98</td>\n",
       "      <td>24.0</td>\n",
       "    </tr>\n",
       "    <tr>\n",
       "      <th>1</th>\n",
       "      <td>0.02731</td>\n",
       "      <td>0.0</td>\n",
       "      <td>7.07</td>\n",
       "      <td>0</td>\n",
       "      <td>0.469</td>\n",
       "      <td>6.421</td>\n",
       "      <td>78.9</td>\n",
       "      <td>4.9671</td>\n",
       "      <td>2</td>\n",
       "      <td>242</td>\n",
       "      <td>17.8</td>\n",
       "      <td>396.90</td>\n",
       "      <td>9.14</td>\n",
       "      <td>21.6</td>\n",
       "    </tr>\n",
       "    <tr>\n",
       "      <th>2</th>\n",
       "      <td>0.02729</td>\n",
       "      <td>0.0</td>\n",
       "      <td>7.07</td>\n",
       "      <td>0</td>\n",
       "      <td>0.469</td>\n",
       "      <td>7.185</td>\n",
       "      <td>61.1</td>\n",
       "      <td>4.9671</td>\n",
       "      <td>2</td>\n",
       "      <td>242</td>\n",
       "      <td>17.8</td>\n",
       "      <td>392.83</td>\n",
       "      <td>4.03</td>\n",
       "      <td>34.7</td>\n",
       "    </tr>\n",
       "    <tr>\n",
       "      <th>3</th>\n",
       "      <td>0.03237</td>\n",
       "      <td>0.0</td>\n",
       "      <td>2.18</td>\n",
       "      <td>0</td>\n",
       "      <td>0.458</td>\n",
       "      <td>6.998</td>\n",
       "      <td>45.8</td>\n",
       "      <td>6.0622</td>\n",
       "      <td>3</td>\n",
       "      <td>222</td>\n",
       "      <td>18.7</td>\n",
       "      <td>394.63</td>\n",
       "      <td>2.94</td>\n",
       "      <td>33.4</td>\n",
       "    </tr>\n",
       "    <tr>\n",
       "      <th>4</th>\n",
       "      <td>0.06905</td>\n",
       "      <td>0.0</td>\n",
       "      <td>2.18</td>\n",
       "      <td>0</td>\n",
       "      <td>NaN</td>\n",
       "      <td>7.147</td>\n",
       "      <td>54.2</td>\n",
       "      <td>6.0622</td>\n",
       "      <td>3</td>\n",
       "      <td>222</td>\n",
       "      <td>18.7</td>\n",
       "      <td>396.90</td>\n",
       "      <td>5.33</td>\n",
       "      <td>36.2</td>\n",
       "    </tr>\n",
       "  </tbody>\n",
       "</table>\n",
       "</div>"
      ],
      "text/plain": [
       "      CRIM    ZN  INDUS  CHAS    NOX     RM   AGE     DIS  RAD  TAX  PTRATIO       B  LSTAT  MEDV\n",
       "0  0.00632  18.0   2.31     0  0.538  6.575  65.2  4.0900    1  296     15.3  396.90   4.98  24.0\n",
       "1  0.02731   0.0   7.07     0  0.469  6.421  78.9  4.9671    2  242     17.8  396.90   9.14  21.6\n",
       "2  0.02729   0.0   7.07     0  0.469  7.185  61.1  4.9671    2  242     17.8  392.83   4.03  34.7\n",
       "3  0.03237   0.0   2.18     0  0.458  6.998  45.8  6.0622    3  222     18.7  394.63   2.94  33.4\n",
       "4  0.06905   0.0   2.18     0    NaN  7.147  54.2  6.0622    3  222     18.7  396.90   5.33  36.2"
      ]
     },
     "execution_count": 12,
     "metadata": {},
     "output_type": "execute_result"
    }
   ],
   "source": [
    "null = pd.read_csv(\"boston_null.csv\")\n",
    "null.head() # 读前五行"
   ]
  },
  {
   "cell_type": "code",
   "execution_count": 13,
   "id": "5e945cb5",
   "metadata": {
    "ExecuteTime": {
     "end_time": "2022-06-20T13:40:39.686407Z",
     "start_time": "2022-06-20T13:40:39.659315Z"
    },
    "scrolled": true
   },
   "outputs": [
    {
     "name": "stdout",
     "output_type": "stream",
     "text": [
      "<class 'pandas.core.frame.DataFrame'>\n",
      "RangeIndex: 506 entries, 0 to 505\n",
      "Data columns (total 14 columns):\n",
      " #   Column   Non-Null Count  Dtype  \n",
      "---  ------   --------------  -----  \n",
      " 0   CRIM     506 non-null    float64\n",
      " 1   ZN       506 non-null    float64\n",
      " 2   INDUS    506 non-null    float64\n",
      " 3   CHAS     506 non-null    int64  \n",
      " 4   NOX      504 non-null    float64\n",
      " 5   RM       504 non-null    float64\n",
      " 6   AGE      505 non-null    float64\n",
      " 7   DIS      491 non-null    float64\n",
      " 8   RAD      506 non-null    int64  \n",
      " 9   TAX      506 non-null    int64  \n",
      " 10  PTRATIO  506 non-null    float64\n",
      " 11  B        453 non-null    float64\n",
      " 12  LSTAT    506 non-null    float64\n",
      " 13  MEDV     506 non-null    float64\n",
      "dtypes: float64(11), int64(3)\n",
      "memory usage: 55.5 KB\n"
     ]
    }
   ],
   "source": [
    "null.info()"
   ]
  },
  {
   "cell_type": "markdown",
   "id": "675e94b9",
   "metadata": {},
   "source": [
    "显然可以看到样本总数为506，非空值不等于506的即为含有缺失值的特征.\n",
    "\n",
    "<img src=\"./figures/1_1.png\">\n",
    "\n",
    "对于发现缺失值有几种方式：\n",
    "1. 直接对```null```进行计数\n",
    "\n"
   ]
  },
  {
   "cell_type": "code",
   "execution_count": 14,
   "id": "e5a7ddbe",
   "metadata": {
    "ExecuteTime": {
     "end_time": "2022-06-20T14:01:26.525912Z",
     "start_time": "2022-06-20T14:01:26.509749Z"
    }
   },
   "outputs": [
    {
     "data": {
      "text/plain": [
       "CRIM        0\n",
       "ZN          0\n",
       "INDUS       0\n",
       "CHAS        0\n",
       "NOX         2\n",
       "RM          2\n",
       "AGE         1\n",
       "DIS        15\n",
       "RAD         0\n",
       "TAX         0\n",
       "PTRATIO     0\n",
       "B          53\n",
       "LSTAT       0\n",
       "MEDV        0\n",
       "dtype: int64"
      ]
     },
     "execution_count": 14,
     "metadata": {},
     "output_type": "execute_result"
    }
   ],
   "source": [
    "null.isnull().sum()"
   ]
  },
  {
   "cell_type": "markdown",
   "id": "4ffcf066",
   "metadata": {},
   "source": [
    "2. 缺失值可视化"
   ]
  },
  {
   "cell_type": "code",
   "execution_count": 15,
   "id": "55e459ef",
   "metadata": {
    "ExecuteTime": {
     "end_time": "2022-06-20T14:04:28.263075Z",
     "start_time": "2022-06-20T14:04:26.519949Z"
    }
   },
   "outputs": [
    {
     "data": {
      "text/plain": [
       "<AxesSubplot:>"
      ]
     },
     "execution_count": 15,
     "metadata": {},
     "output_type": "execute_result"
    },
    {
     "data": {
      "image/png": "[encoded data removed]",
      "text/plain": [
       "<Figure size 432x288 with 1 Axes>"
      ]
     },
     "metadata": {
      "needs_background": "light"
     },
     "output_type": "display_data"
    }
   ],
   "source": [
    "# 缺失值可视化\n",
    "missing = null.isnull().sum()\n",
    "missing = missing[missing > 0] # 筛选出有缺失值（大于0）的特征\n",
    "missing.sort_values(inplace = True) # 排序\n",
    "missing.plot.bar() # 调用pandas内置的条形图绘制"
   ]
  },
  {
   "cell_type": "markdown",
   "id": "a8b5bca1",
   "metadata": {},
   "source": [
    "对于缺失值我们还可以采用热力图进行可视化，"
   ]
  },
  {
   "cell_type": "code",
   "execution_count": 17,
   "id": "c81ed4a2",
   "metadata": {
    "ExecuteTime": {
     "end_time": "2022-06-20T14:05:44.639533Z",
     "start_time": "2022-06-20T14:05:43.931890Z"
    }
   },
   "outputs": [
    {
     "data": {
      "text/plain": [
       "<AxesSubplot:>"
      ]
     },
     "execution_count": 17,
     "metadata": {},
     "output_type": "execute_result"
    },
    {
     "data": {
      "image/png": "[encoded data removed]",
      "text/plain": [
       "<Figure size 432x288 with 2 Axes>"
      ]
     },
     "metadata": {
      "needs_background": "light"
     },
     "output_type": "display_data"
    }
   ],
   "source": [
    "sns.heatmap(null.isnull())"
   ]
  },
  {
   "cell_type": "markdown",
   "id": "cae63e8d",
   "metadata": {},
   "source": [
    "这种方式还可以帮助我们看出缺失的位置，如果有些样本出现大量特征缺失的情况，在样本足够大的情况下也可以考虑删除."
   ]
  },
  {
   "cell_type": "markdown",
   "id": "a1db38a1",
   "metadata": {},
   "source": [
    "3. 统计缺失比例"
   ]
  },
  {
   "cell_type": "code",
   "execution_count": 23,
   "id": "2492f686",
   "metadata": {
    "ExecuteTime": {
     "end_time": "2022-06-20T14:27:48.844162Z",
     "start_time": "2022-06-20T14:27:48.824984Z"
    }
   },
   "outputs": [
    {
     "data": {
      "text/html": [
       "<div>\n",
       "<style scoped>\n",
       "    .dataframe tbody tr th:only-of-type {\n",
       "        vertical-align: middle;\n",
       "    }\n",
       "\n",
       "    .dataframe tbody tr th {\n",
       "        vertical-align: top;\n",
       "    }\n",
       "\n",
       "    .dataframe thead th {\n",
       "        text-align: right;\n",
       "    }\n",
       "</style>\n",
       "<table border=\"1\" class=\"dataframe\">\n",
       "  <thead>\n",
       "    <tr style=\"text-align: right;\">\n",
       "      <th></th>\n",
       "      <th>Features</th>\n",
       "      <th>missing rate</th>\n",
       "    </tr>\n",
       "  </thead>\n",
       "  <tbody>\n",
       "    <tr>\n",
       "      <th>0</th>\n",
       "      <td>CRIM</td>\n",
       "      <td>0.000000</td>\n",
       "    </tr>\n",
       "    <tr>\n",
       "      <th>1</th>\n",
       "      <td>ZN</td>\n",
       "      <td>0.000000</td>\n",
       "    </tr>\n",
       "    <tr>\n",
       "      <th>2</th>\n",
       "      <td>INDUS</td>\n",
       "      <td>0.000000</td>\n",
       "    </tr>\n",
       "    <tr>\n",
       "      <th>3</th>\n",
       "      <td>CHAS</td>\n",
       "      <td>0.000000</td>\n",
       "    </tr>\n",
       "    <tr>\n",
       "      <th>4</th>\n",
       "      <td>NOX</td>\n",
       "      <td>0.395257</td>\n",
       "    </tr>\n",
       "    <tr>\n",
       "      <th>5</th>\n",
       "      <td>RM</td>\n",
       "      <td>0.395257</td>\n",
       "    </tr>\n",
       "    <tr>\n",
       "      <th>6</th>\n",
       "      <td>AGE</td>\n",
       "      <td>0.197628</td>\n",
       "    </tr>\n",
       "    <tr>\n",
       "      <th>7</th>\n",
       "      <td>DIS</td>\n",
       "      <td>2.964427</td>\n",
       "    </tr>\n",
       "    <tr>\n",
       "      <th>8</th>\n",
       "      <td>RAD</td>\n",
       "      <td>0.000000</td>\n",
       "    </tr>\n",
       "    <tr>\n",
       "      <th>9</th>\n",
       "      <td>TAX</td>\n",
       "      <td>0.000000</td>\n",
       "    </tr>\n",
       "    <tr>\n",
       "      <th>10</th>\n",
       "      <td>PTRATIO</td>\n",
       "      <td>0.000000</td>\n",
       "    </tr>\n",
       "    <tr>\n",
       "      <th>11</th>\n",
       "      <td>B</td>\n",
       "      <td>10.474308</td>\n",
       "    </tr>\n",
       "    <tr>\n",
       "      <th>12</th>\n",
       "      <td>LSTAT</td>\n",
       "      <td>0.000000</td>\n",
       "    </tr>\n",
       "    <tr>\n",
       "      <th>13</th>\n",
       "      <td>MEDV</td>\n",
       "      <td>0.000000</td>\n",
       "    </tr>\n",
       "  </tbody>\n",
       "</table>\n",
       "</div>"
      ],
      "text/plain": [
       "   Features  missing rate\n",
       "0      CRIM      0.000000\n",
       "1        ZN      0.000000\n",
       "2     INDUS      0.000000\n",
       "3      CHAS      0.000000\n",
       "4       NOX      0.395257\n",
       "5        RM      0.395257\n",
       "6       AGE      0.197628\n",
       "7       DIS      2.964427\n",
       "8       RAD      0.000000\n",
       "9       TAX      0.000000\n",
       "10  PTRATIO      0.000000\n",
       "11        B     10.474308\n",
       "12    LSTAT      0.000000\n",
       "13     MEDV      0.000000"
      ]
     },
     "execution_count": 23,
     "metadata": {},
     "output_type": "execute_result"
    }
   ],
   "source": [
    "A = [] \n",
    "for col in null.columns:\n",
    "    A.append((col,\n",
    "             null[col].isnull().sum() * 100 / null.shape[0]))\n",
    "pd.DataFrame(A, columns=['Features', 'missing rate'])"
   ]
  },
  {
   "cell_type": "markdown",
   "id": "83abe183",
   "metadata": {},
   "source": [
    "从上表，我们统计了每一个特征的缺失比例，一般来说，如果缺失值超过95%的特征，我们会考虑删除它，因为意义不大. 此外，另一类特征也可以考虑删除，那就是方差特别小，或者说取值唯一的特征是没有意义的. 举个例子，如果在一次考试中，大家的数学成绩都是100分，那么其实我们是没有办法通过数学成绩来区分每位同学的能力的，也就是说数学这门课没有区分性，所以不具有分析的意义，可以删掉.\n",
    "\n",
    "在Pandas中，我们可以采用```df.nunique()```来统计每个每个特征会有多少个不同取值."
   ]
  },
  {
   "cell_type": "code",
   "execution_count": 29,
   "id": "90a515e8",
   "metadata": {
    "ExecuteTime": {
     "end_time": "2022-06-20T14:57:33.576021Z",
     "start_time": "2022-06-20T14:57:33.555059Z"
    }
   },
   "outputs": [
    {
     "data": {
      "text/plain": [
       "CRIM       504\n",
       "ZN          26\n",
       "INDUS       76\n",
       "CHAS         2\n",
       "NOX         81\n",
       "RM         445\n",
       "AGE        356\n",
       "DIS        401\n",
       "RAD          9\n",
       "TAX         66\n",
       "PTRATIO     46\n",
       "B          326\n",
       "LSTAT      455\n",
       "MEDV       229\n",
       "dtype: int64"
      ]
     },
     "execution_count": 29,
     "metadata": {},
     "output_type": "execute_result"
    }
   ],
   "source": [
    "null.nunique()"
   ]
  },
  {
   "cell_type": "markdown",
   "id": "9153f80e",
   "metadata": {},
   "source": [
    "为了更完美的呈现，我们将特征的唯一值个数一并加入到上面的统计表中，并且封装成函数，方便后续直接使用."
   ]
  },
  {
   "cell_type": "code",
   "execution_count": 37,
   "id": "5c67dc7e",
   "metadata": {
    "ExecuteTime": {
     "end_time": "2022-06-20T14:58:31.180838Z",
     "start_time": "2022-06-20T14:58:31.166885Z"
    },
    "run_control": {
     "marked": true
    }
   },
   "outputs": [],
   "source": [
    "def df_stats(df):\n",
    "    '''\n",
    "    统计该df的缺失值，比例以及唯一值个数.\n",
    "    '''\n",
    "    L = []\n",
    "    for col in df.columns:\n",
    "        L.append((col, \n",
    "                  df[col].isnull().sum(),\n",
    "                  df[col].isnull().sum() * 100 / df.shape[0],\n",
    "                  df[col].nunique()))\n",
    "    res = pd.DataFrame(L, columns = ['Feature', \n",
    "                                     'missing num',\n",
    "                                     'missing rate',\n",
    "                                     'unique num']) \n",
    "    return res"
   ]
  },
  {
   "cell_type": "code",
   "execution_count": 38,
   "id": "f35ea23e",
   "metadata": {
    "ExecuteTime": {
     "end_time": "2022-06-20T14:58:31.696537Z",
     "start_time": "2022-06-20T14:58:31.566652Z"
    }
   },
   "outputs": [
    {
     "data": {
      "text/html": [
       "<div>\n",
       "<style scoped>\n",
       "    .dataframe tbody tr th:only-of-type {\n",
       "        vertical-align: middle;\n",
       "    }\n",
       "\n",
       "    .dataframe tbody tr th {\n",
       "        vertical-align: top;\n",
       "    }\n",
       "\n",
       "    .dataframe thead th {\n",
       "        text-align: right;\n",
       "    }\n",
       "</style>\n",
       "<table border=\"1\" class=\"dataframe\">\n",
       "  <thead>\n",
       "    <tr style=\"text-align: right;\">\n",
       "      <th></th>\n",
       "      <th>Feature</th>\n",
       "      <th>missing num</th>\n",
       "      <th>missing rate</th>\n",
       "      <th>unique num</th>\n",
       "    </tr>\n",
       "  </thead>\n",
       "  <tbody>\n",
       "    <tr>\n",
       "      <th>0</th>\n",
       "      <td>CRIM</td>\n",
       "      <td>0</td>\n",
       "      <td>0.000000</td>\n",
       "      <td>504</td>\n",
       "    </tr>\n",
       "    <tr>\n",
       "      <th>1</th>\n",
       "      <td>ZN</td>\n",
       "      <td>0</td>\n",
       "      <td>0.000000</td>\n",
       "      <td>26</td>\n",
       "    </tr>\n",
       "    <tr>\n",
       "      <th>2</th>\n",
       "      <td>INDUS</td>\n",
       "      <td>0</td>\n",
       "      <td>0.000000</td>\n",
       "      <td>76</td>\n",
       "    </tr>\n",
       "    <tr>\n",
       "      <th>3</th>\n",
       "      <td>CHAS</td>\n",
       "      <td>0</td>\n",
       "      <td>0.000000</td>\n",
       "      <td>2</td>\n",
       "    </tr>\n",
       "    <tr>\n",
       "      <th>4</th>\n",
       "      <td>NOX</td>\n",
       "      <td>2</td>\n",
       "      <td>0.395257</td>\n",
       "      <td>81</td>\n",
       "    </tr>\n",
       "    <tr>\n",
       "      <th>5</th>\n",
       "      <td>RM</td>\n",
       "      <td>2</td>\n",
       "      <td>0.395257</td>\n",
       "      <td>445</td>\n",
       "    </tr>\n",
       "    <tr>\n",
       "      <th>6</th>\n",
       "      <td>AGE</td>\n",
       "      <td>1</td>\n",
       "      <td>0.197628</td>\n",
       "      <td>356</td>\n",
       "    </tr>\n",
       "    <tr>\n",
       "      <th>7</th>\n",
       "      <td>DIS</td>\n",
       "      <td>15</td>\n",
       "      <td>2.964427</td>\n",
       "      <td>401</td>\n",
       "    </tr>\n",
       "    <tr>\n",
       "      <th>8</th>\n",
       "      <td>RAD</td>\n",
       "      <td>0</td>\n",
       "      <td>0.000000</td>\n",
       "      <td>9</td>\n",
       "    </tr>\n",
       "    <tr>\n",
       "      <th>9</th>\n",
       "      <td>TAX</td>\n",
       "      <td>0</td>\n",
       "      <td>0.000000</td>\n",
       "      <td>66</td>\n",
       "    </tr>\n",
       "    <tr>\n",
       "      <th>10</th>\n",
       "      <td>PTRATIO</td>\n",
       "      <td>0</td>\n",
       "      <td>0.000000</td>\n",
       "      <td>46</td>\n",
       "    </tr>\n",
       "    <tr>\n",
       "      <th>11</th>\n",
       "      <td>B</td>\n",
       "      <td>53</td>\n",
       "      <td>10.474308</td>\n",
       "      <td>326</td>\n",
       "    </tr>\n",
       "    <tr>\n",
       "      <th>12</th>\n",
       "      <td>LSTAT</td>\n",
       "      <td>0</td>\n",
       "      <td>0.000000</td>\n",
       "      <td>455</td>\n",
       "    </tr>\n",
       "    <tr>\n",
       "      <th>13</th>\n",
       "      <td>MEDV</td>\n",
       "      <td>0</td>\n",
       "      <td>0.000000</td>\n",
       "      <td>229</td>\n",
       "    </tr>\n",
       "  </tbody>\n",
       "</table>\n",
       "</div>"
      ],
      "text/plain": [
       "    Feature  missing num  missing rate  unique num\n",
       "0      CRIM            0      0.000000         504\n",
       "1        ZN            0      0.000000          26\n",
       "2     INDUS            0      0.000000          76\n",
       "3      CHAS            0      0.000000           2\n",
       "4       NOX            2      0.395257          81\n",
       "5        RM            2      0.395257         445\n",
       "6       AGE            1      0.197628         356\n",
       "7       DIS           15      2.964427         401\n",
       "8       RAD            0      0.000000           9\n",
       "9       TAX            0      0.000000          66\n",
       "10  PTRATIO            0      0.000000          46\n",
       "11        B           53     10.474308         326\n",
       "12    LSTAT            0      0.000000         455\n",
       "13     MEDV            0      0.000000         229"
      ]
     },
     "execution_count": 38,
     "metadata": {},
     "output_type": "execute_result"
    }
   ],
   "source": [
    "df_stats(null)"
   ]
  },
  {
   "cell_type": "markdown",
   "id": "fa6a47a7",
   "metadata": {},
   "source": [
    "这下一目了然了！在这里我们呢简单粗暴的用均值填充，后面有机会我们会总结一下缺失值的处理方式."
   ]
  },
  {
   "cell_type": "markdown",
   "id": "d67557e5",
   "metadata": {},
   "source": [
    "### 变量分析\n",
    "\n",
    "<img src=\"./figures/1_2_特征分析思路.png\">\n",
    "\n",
    "在变量分析中，我们延续了在概率论与数理统计中的研究思想.在概率论与数理统计中，我们首先研究了单变量随机变量的性质与特征刻画，研究透了之后，我们转而研究随机变量之间的关系. 在数据分析中亦是如此，我们会先分析一个变量的情况，包括但不限于：数据类型、分布情况、是否有离群值······；研究完单变量之后，转而研究变量之间的关系：相关性分析、分组统计···"
   ]
  },
  {
   "cell_type": "code",
   "execution_count": null,
   "id": "6e511a0c",
   "metadata": {},
   "outputs": [],
   "source": []
  },
  {
   "cell_type": "code",
   "execution_count": null,
   "id": "d072adf8",
   "metadata": {},
   "outputs": [],
   "source": []
  },
  {
   "cell_type": "code",
   "execution_count": null,
   "id": "9c7e4326",
   "metadata": {},
   "outputs": [],
   "source": []
  },
  {
   "cell_type": "code",
   "execution_count": null,
   "id": "82fcb11c",
   "metadata": {},
   "outputs": [],
   "source": []
  },
  {
   "cell_type": "code",
   "execution_count": null,
   "id": "b851e187",
   "metadata": {},
   "outputs": [],
   "source": [
    "# https://www.kaggle.com/code/weibbi/boston-housing-price-w-visual-eda-prediction\n",
    "# https://www.kaggle.com/code/imakash3011/boston-house-prices-advanced-regression-technique\n",
    "# plotly安装：https://zhuanlan.zhihu.com/p/328972379"
   ]
  }
 ],
 "metadata": {
  "kernelspec": {
   "display_name": "Python 3",
   "language": "python",
   "name": "python3"
  },
  "language_info": {
   "codemirror_mode": {
    "name": "ipython",
    "version": 3
   },
   "file_extension": ".py",
   "mimetype": "text/x-python",
   "name": "python",
   "nbconvert_exporter": "python",
   "pygments_lexer": "ipython3",
   "version": "3.8.8"
  },
  "latex_envs": {
   "LaTeX_envs_menu_present": true,
   "autoclose": false,
   "autocomplete": true,
   "bibliofile": "biblio.bib",
   "cite_by": "apalike",
   "current_citInitial": 1,
   "eqLabelWithNumbers": true,
   "eqNumInitial": 1,
   "hotkeys": {
    "equation": "Ctrl-E",
    "itemize": "Ctrl-I"
   },
   "labels_anchors": false,
   "latex_user_defs": false,
   "report_style_numbering": false,
   "user_envs_cfg": false
  }
 },
 "nbformat": 4,
 "nbformat_minor": 5
}
