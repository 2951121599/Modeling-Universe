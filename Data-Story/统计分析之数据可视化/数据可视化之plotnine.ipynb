{
 "cells": [
  {
   "cell_type": "markdown",
   "metadata": {},
   "source": [
    "# 数据可视化之Plotnine\n",
    "在前面的学习中，我们已经学习了如何使用统计知识解决相应的问题，包括：假设检验、方差分析、回归分析与分类分析等等。同时，我们也简单学习matplotlib的用法，并使用matplotlib做一些简单的描述性统计分析。现在，我们来到了统计分析的最后一个流程———表达分析结果。如何表达分析的结论是我们本节课程的核心关键，本节课程的主要内容包括：\n",
    "- 什么是数据可视化\n",
    "- python三大数据可视化工具库的简介：Matplotlib、Seaborn和Plotnine\n",
    "- Matplotlib绘图基础\n",
    "- Plotnine绘图基础\n",
    "- 基本图表的Quick Start\n",
    "- Plotnine和Matplotlib进阶画图\n",
    "- 如何选择合适的图表正确表达数据\n",
    "- 数据可视化案例：使用Plotnine绘制元素周期表"
   ]
  },
  {
   "cell_type": "markdown",
   "metadata": {},
   "source": [
    "## 1.什么是数据可视化\n",
    "\n",
    "使用文字表达结论往往显得过于单调与枯燥，所谓“一图抵千言”，适当使用图表会增加分析结论的有趣性与可读性，这里有一个关键词叫：数据可视化。\n",
    "\n",
    "首先，我们先来探讨下“可视化”与“数据可视化”的联系与区别。可视化和数据可视化其实都旨在使用图表去表达观点，而数据可视化更加强调使用可视化的图表去表达数据中的信息，如数据分析中的结论。可视化与数据可视化的差别其实类似于：时尚杂志封面与学术杂志封面的区别，一个注重视觉的观感，另一个在注重观感的同时表达数据结论；\n",
    "\n",
    "其次，数据可视化在一般情况下可以分为：在分析过程中的数据可视化与分析结果表达中的数据可视化。分析过程中的数据可视化强调辅助分析，即图表不是很在意观感如何，只要自己能看懂，自己从图表中得到有用的结论并辅助分析的流程其实就可以了。而分析结果表达中的数据可视化强调在阅读数据分析结论的人能更好地知道分析结论是什么，因此相对于分析过程中的数据可视化来说更加美观、表达的信息更全面；（在这里，我们主要探讨分析结果表达中的数据可视化）\n",
    "\n",
    "最后，什么才能称得上是一个好的数据可视化图表呢？\n",
    "   - 图表展示的信息全面且无歧义\n",
    "   - 图表表达的信息越多、越全面越好\n",
    "   - 通俗易懂，不能太专业\n",
    "\n",
    "下面，我们用一个例子来看看什么才算是一个好的数据可视化图表：（plotnine的官方例子）"
   ]
  },
  {
   "cell_type": "code",
   "execution_count": 1,
   "metadata": {},
   "outputs": [],
   "source": [
    "import numpy as np \n",
    "import pandas as pd \n",
    "import matplotlib.pyplot as plt \n",
    "%matplotlib inline \n",
    "plt.rcParams['font.sans-serif']=['SimHei','Songti SC','STFangsong']\n",
    "plt.rcParams['axes.unicode_minus'] = False  # 用来正常显示负号\n",
    "import seaborn as sns "
   ]
  },
  {
   "cell_type": "code",
   "execution_count": 2,
   "metadata": {},
   "outputs": [
    {
     "data": {
      "text/html": [
       "<div>\n",
       "<style scoped>\n",
       "    .dataframe tbody tr th:only-of-type {\n",
       "        vertical-align: middle;\n",
       "    }\n",
       "\n",
       "    .dataframe tbody tr th {\n",
       "        vertical-align: top;\n",
       "    }\n",
       "\n",
       "    .dataframe thead th {\n",
       "        text-align: right;\n",
       "    }\n",
       "</style>\n",
       "<table border=\"1\" class=\"dataframe\">\n",
       "  <thead>\n",
       "    <tr style=\"text-align: right;\">\n",
       "      <th></th>\n",
       "      <th>variable</th>\n",
       "      <th>category</th>\n",
       "      <th>value</th>\n",
       "    </tr>\n",
       "  </thead>\n",
       "  <tbody>\n",
       "    <tr>\n",
       "      <th>0</th>\n",
       "      <td>gender</td>\n",
       "      <td>Female</td>\n",
       "      <td>60</td>\n",
       "    </tr>\n",
       "    <tr>\n",
       "      <th>1</th>\n",
       "      <td>gender</td>\n",
       "      <td>Male</td>\n",
       "      <td>40</td>\n",
       "    </tr>\n",
       "    <tr>\n",
       "      <th>2</th>\n",
       "      <td>age</td>\n",
       "      <td>1-24</td>\n",
       "      <td>50</td>\n",
       "    </tr>\n",
       "    <tr>\n",
       "      <th>3</th>\n",
       "      <td>age</td>\n",
       "      <td>25-54</td>\n",
       "      <td>30</td>\n",
       "    </tr>\n",
       "    <tr>\n",
       "      <th>4</th>\n",
       "      <td>age</td>\n",
       "      <td>55+</td>\n",
       "      <td>20</td>\n",
       "    </tr>\n",
       "    <tr>\n",
       "      <th>5</th>\n",
       "      <td>income</td>\n",
       "      <td>Lo</td>\n",
       "      <td>10</td>\n",
       "    </tr>\n",
       "    <tr>\n",
       "      <th>6</th>\n",
       "      <td>income</td>\n",
       "      <td>Lo-Med</td>\n",
       "      <td>25</td>\n",
       "    </tr>\n",
       "    <tr>\n",
       "      <th>7</th>\n",
       "      <td>income</td>\n",
       "      <td>Med</td>\n",
       "      <td>25</td>\n",
       "    </tr>\n",
       "    <tr>\n",
       "      <th>8</th>\n",
       "      <td>income</td>\n",
       "      <td>High</td>\n",
       "      <td>40</td>\n",
       "    </tr>\n",
       "  </tbody>\n",
       "</table>\n",
       "</div>"
      ],
      "text/plain": [
       "  variable category  value\n",
       "0   gender   Female     60\n",
       "1   gender     Male     40\n",
       "2      age     1-24     50\n",
       "3      age    25-54     30\n",
       "4      age      55+     20\n",
       "5   income       Lo     10\n",
       "6   income   Lo-Med     25\n",
       "7   income      Med     25\n",
       "8   income     High     40"
      ]
     },
     "execution_count": 2,
     "metadata": {},
     "output_type": "execute_result"
    }
   ],
   "source": [
    "df = pd.DataFrame({\n",
    "    'variable': ['gender', 'gender', 'age', 'age', 'age', 'income', 'income', 'income', 'income'],\n",
    "    'category': ['Female', 'Male', '1-24', '25-54', '55+', 'Lo', 'Lo-Med', 'Med', 'High'],\n",
    "    'value': [60, 40, 50, 30, 20, 10, 25, 25, 40],\n",
    "})\n",
    "df['variable'] = pd.Categorical(df['variable'], categories=['gender', 'age', 'income'])\n",
    "df['category'] = pd.Categorical(df['category'], categories=df['category'])\n",
    "\n",
    "df"
   ]
  },
  {
   "cell_type": "code",
   "execution_count": 3,
   "metadata": {},
   "outputs": [
    {
     "data": {
      "image/png": "[encoded data removed]",
      "text/plain": [
       "<Figure size 640x480 with 1 Axes>"
      ]
     },
     "metadata": {},
     "output_type": "display_data"
    },
    {
     "data": {
      "text/plain": [
       "<ggplot: (344746376)>"
      ]
     },
     "execution_count": 3,
     "metadata": {},
     "output_type": "execute_result"
    }
   ],
   "source": [
    "# 堆叠柱状图\n",
    "from plotnine import *\n",
    "(\n",
    "    ggplot(df, aes(x='variable', y='value', fill='category'))+\n",
    "    geom_col()\n",
    ")"
   ]
  },
  {
   "cell_type": "code",
   "execution_count": 4,
   "metadata": {},
   "outputs": [
    {
     "data": {
      "image/png": "[encoded data removed]",
      "text/plain": [
       "<Figure size 640x480 with 1 Axes>"
      ]
     },
     "metadata": {},
     "output_type": "display_data"
    },
    {
     "data": {
      "text/plain": [
       "<ggplot: (344939367)>"
      ]
     },
     "execution_count": 4,
     "metadata": {},
     "output_type": "execute_result"
    }
   ],
   "source": [
    "# 柱状图\n",
    "from plotnine import *\n",
    "(\n",
    "    ggplot(df, aes(x='variable', y='value', fill='category'))+\n",
    "    geom_col(stat='identity', position='dodge')\n",
    ")"
   ]
  },
  {
   "cell_type": "markdown",
   "metadata": {},
   "source": [
    "大家现在可以先忽略可视化的代码部分，着重观察两个图表在表达信息上的差异。以上两个图其实都是表示：在gender、age和income上，不同类别的占比，但是第一个图明显比第二个图表达的信息更多，因为第一个图能表达每个类别的大致占比情况，而第二个图只能比较不同类别下的数量情况。"
   ]
  },
  {
   "cell_type": "markdown",
   "metadata": {},
   "source": [
    "## 2.Python三大数据可视化工具库的简介：Matplotlib、Seaborn和Plotnine"
   ]
  },
  {
   "cell_type": "markdown",
   "metadata": {},
   "source": [
    "（1）Matplotlib：\n",
    "\n",
    "Matplotlib正如其名，脱胎于著名的建模软件Matlab，因此它的设计与Matlab非常相似，提供了一整套和Matlab相似的命令API，适合交互式制图，还可以将它作为绘图控件，嵌入其它应用程序中。同时，Matplotlib是Python数据可视化工具库的开山鼻祖。\n",
    "\n",
    "Matplotlib是一个面向对象的绘图工具库，pyplot是Matplotlib最常用的一个绘图接口，调用方法如下：\n",
    "\n",
    "```{python}\n",
    "import matplotlib.pyplot as plt\n",
    "```\n",
    "\n",
    "在Matplotlib中，我们可以想像自己手里拿着一支画笔🖌️，每一句代码都是往纸上添加一个绘图特征，下面我们以最简单的方式绘制散点图为例：\n",
    "- 创建一个图形对象，并设置图形对象的大小（可以想象成在白纸中添加一个图，并设置图的大小）：plt.figure(figsize=(6,4))\n",
    "- 在纸上的坐标系中绘制散点：plt.scatter(x=x, y=y)\n",
    "- 设置x轴的标签label：plt.xlabel('x')\n",
    "- 设置y轴标签的label：plt.ylabel('y')\n",
    "- 设置图表的标题：plt.title('y = sin(x)')\n",
    "- 展示图标：plt.show()\n"
   ]
  },
  {
   "cell_type": "code",
   "execution_count": 5,
   "metadata": {},
   "outputs": [],
   "source": [
    "# 创建数据\n",
    "x = np.linspace(-2*np.pi, 2*np.pi, 100)\n",
    "y = np.sin(x)"
   ]
  },
  {
   "cell_type": "code",
   "execution_count": 6,
   "metadata": {},
   "outputs": [
    {
     "data": {
      "image/png": "[encoded data removed]",
      "text/plain": [
       "<Figure size 576x432 with 1 Axes>"
      ]
     },
     "metadata": {
      "needs_background": "light"
     },
     "output_type": "display_data"
    }
   ],
   "source": [
    "import matplotlib.pyplot as plt \n",
    "plt.figure(figsize=(8,6))\n",
    "plt.scatter(x=x, y=y)\n",
    "plt.xlabel('x')\n",
    "plt.ylabel('y')\n",
    "plt.title('y = sin(x)')\n",
    "plt.show()\n"
   ]
  },
  {
   "cell_type": "markdown",
   "metadata": {},
   "source": [
    "在上面的例子中，我们听过Matplotlib绘制了最简单的散点图，但是以上的方法没有体现Matplotlib的“面向对象”的特性。下面，我们使用一个例子体会Matplotlib的面向对象绘图的特性：\n",
    "\n",
    "【例子】绘制y = sin(x) 和 y=cos(x)的散点图：\n",
    "- 创建第一个绘图对象\n",
    "     - 在纸上的坐标系中绘制散点：plt.scatter(x=x, y=sin(x))\n",
    "     - 设置x轴的标签label：plt.xlabel('x')\n",
    "     - 设置y轴标签的label：plt.ylabel('y')\n",
    "     - 设置图表的标题：plt.title('y = sin(x)')\n",
    "- 创建第二个绘图对象：\n",
    "     - 在纸上的坐标系中绘制散点：plt.scatter(x=x, y=cos(x))\n",
    "     - 设置x轴的标签label：plt.xlabel('x')\n",
    "     - 设置y轴标签的label：plt.ylabel('y')\n",
    "     - 设置图表的标题：plt.title('y = cos(x)')"
   ]
  },
  {
   "cell_type": "code",
   "execution_count": 7,
   "metadata": {},
   "outputs": [],
   "source": [
    "# 准备数据\n",
    "x = np.linspace(-2*np.pi, 2*np.pi, 100)\n",
    "y1 = np.sin(x)\n",
    "y2 = np.cos(x)"
   ]
  },
  {
   "cell_type": "code",
   "execution_count": 8,
   "metadata": {},
   "outputs": [
    {
     "data": {
      "image/png": "[encoded data removed]",
      "text/plain": [
       "<Figure size 432x288 with 1 Axes>"
      ]
     },
     "metadata": {
      "needs_background": "light"
     },
     "output_type": "display_data"
    },
    {
     "data": {
      "image/png": "[encoded data removed]",
      "text/plain": [
       "<Figure size 432x288 with 1 Axes>"
      ]
     },
     "metadata": {
      "needs_background": "light"
     },
     "output_type": "display_data"
    }
   ],
   "source": [
    "# 绘制第一个图：\n",
    "fig1 = plt.figure(figsize=(6,4), num='first')\n",
    "fig1.suptitle('y = sin(x)')\n",
    "plt.scatter(x=x, y=y1)\n",
    "plt.xlabel('x')\n",
    "plt.ylabel('y')\n",
    "\n",
    "# 绘制第二个图：\n",
    "fig2 = plt.figure(figsize=(6,4), num='second')\n",
    "fig2.suptitle('y = cos(x)')\n",
    "plt.scatter(x=x, y=y2)\n",
    "plt.xlabel('x')\n",
    "plt.ylabel('y')\n",
    "\n",
    "plt.show()"
   ]
  },
  {
   "cell_type": "markdown",
   "metadata": {},
   "source": [
    "现在，大家应该能体会到“Matplotlib的每一句代码都是往纸上添加一个绘图特征”这句话的含义了吧。现在，我们来看看这样的Matplotlib有什么优点与缺点。优点是非常简单易懂，而且能绘制复杂图表；缺点也是十分明显的，如果绘制复杂图表的时候一步一步地绘制，代码量还是十分巨大的。Seaborn是在Matplotlib的基础上的再次封装，是对Matplotlib绘制统计图表的简化。下面，我们一起看看Seaborn的基本绘图逻辑。"
   ]
  },
  {
   "cell_type": "markdown",
   "metadata": {},
   "source": [
    "（2）Seaborn："
   ]
  },
  {
   "cell_type": "markdown",
   "metadata": {},
   "source": [
    "Seaborn主要用于统计分析绘图的，它是基于Matplotlib进行了更高级的API封装。Seaborn比matplotlib更加易用，尤其在统计图表的绘制上，因为它避免了matplotlib中多种参数的设置。Seaborn与matplotlib关系，可以把Seaborn视为matplotlib的补充。\n",
    "\n",
    "下面，我们使用一个简单的例子，来看看使用Seaborn绘图与使用Matplotlib绘图之间的代码有什么不一样："
   ]
  },
  {
   "cell_type": "code",
   "execution_count": 9,
   "metadata": {},
   "outputs": [],
   "source": [
    "# 准备数据\n",
    "x = np.linspace(-10, 10, 100)\n",
    "y = 2 * x + 1 + np.random.randn(100)\n",
    "df = pd.DataFrame({'x':x, 'y':y})"
   ]
  },
  {
   "cell_type": "code",
   "execution_count": 10,
   "metadata": {},
   "outputs": [
    {
     "data": {
      "image/png": "[encoded data removed]",
      "text/plain": [
       "<Figure size 432x288 with 1 Axes>"
      ]
     },
     "metadata": {
      "needs_background": "light"
     },
     "output_type": "display_data"
    }
   ],
   "source": [
    "# 使用matplotlib绘制带有拟合直线效果的散点图\n",
    "func = np.polyfit(x,y,1)  # 拟合直线\n",
    "poly = np.poly1d(func)  # 设置拟合函数\n",
    "y_pred = poly(x) # 预测\n",
    "plt.scatter(x, y)  # 绘制点图\n",
    "plt.plot(x, y_pred)  # 绘制拟合直线图\n",
    "plt.xlabel('x')\n",
    "plt.ylabel('y')\n",
    "plt.show()"
   ]
  },
  {
   "cell_type": "code",
   "execution_count": 11,
   "metadata": {},
   "outputs": [
    {
     "name": "stderr",
     "output_type": "stream",
     "text": [
      "/Users/leo/miniforge3/envs/pytorch_env/lib/python3.9/site-packages/seaborn/_decorators.py:36: FutureWarning: Pass the following variables as keyword args: x, y. From version 0.12, the only valid positional argument will be `data`, and passing other arguments without an explicit keyword will result in an error or misinterpretation.\n"
     ]
    },
    {
     "data": {
      "text/plain": [
       "<seaborn.axisgrid.FacetGrid at 0x1492081f0>"
      ]
     },
     "execution_count": 11,
     "metadata": {},
     "output_type": "execute_result"
    },
    {
     "data": {
      "image/png": "[encoded data removed]",
      "text/plain": [
       "<Figure size 360x360 with 1 Axes>"
      ]
     },
     "metadata": {
      "needs_background": "light"
     },
     "output_type": "display_data"
    }
   ],
   "source": [
    "# 使用Seaborn绘制带有拟合直线效果的散点图\n",
    "sns.lmplot(\"x\",\"y\",data=df) "
   ]
  },
  {
   "cell_type": "markdown",
   "metadata": {},
   "source": [
    "可以看到，Seaborn把数据拟合等**统计属性**高度集成在绘图函数中，绘图的功能还是构筑在Matplotlib之上。因此，Seaborn相当于是完善了统计图表的Matplotlib工具库，二者应该是相辅相成的。因此，在实际的可视化中，我们往往一起使用Matplotlib和Seaborn，两者的结合应该属于Python的数据可视化的一大流派吧。"
   ]
  },
  {
   "cell_type": "markdown",
   "metadata": {},
   "source": [
    "（3）Plotnine："
   ]
  },
  {
   "cell_type": "markdown",
   "metadata": {},
   "source": [
    "ggplot2奠定了R语言数据可视化在R语言数据科学的统治地位，R语言的数据可视化是大一统的，提到R语言数据可视化首先想到的就是ggplot2。数据可视化一直是Python的短板，即使有Matplotlib、Seaborn等数据可视化包，也无法与R语言的ggplot2相媲美，原因在于当绘制复杂图表时，Matplotlib和Seaborn由于“每一句代码都是往纸上添加一个绘图特征”的特性而需要大量代码语句。Plotnine可以说是ggplot2在Python上的移植版，使用的基本语法与R语言ggplot2语法“一模一样”，使得Python的数据可视化能力大幅度提升，为什么ggplot2和Plotnine会更适合数据可视化呢？原因可以类似于PhotoShop绘图和PPT绘图的区别，与PPT一笔一画的绘图方式不同的是，PhotoShop绘图采用了“图层”的概念，每一句代码都是相当于往图像中添加一个图层，一个图层就是一类绘图动作，这无疑给数据可视化工作大大减负，同时更符合绘图者的认知。\n",
    "\n",
    "下面，我们通过一个案例来看看Plotnine的图层概念以及Plotnine的基本绘图逻辑："
   ]
  },
  {
   "cell_type": "code",
   "execution_count": 12,
   "metadata": {},
   "outputs": [],
   "source": [
    "from plotnine import *     # 讲Plotnine所有模块引入\n",
    "from plotnine.data import *   # 引入PLotnine自带数据集"
   ]
  },
  {
   "cell_type": "code",
   "execution_count": 13,
   "metadata": {},
   "outputs": [
    {
     "data": {
      "text/html": [
       "<div>\n",
       "<style scoped>\n",
       "    .dataframe tbody tr th:only-of-type {\n",
       "        vertical-align: middle;\n",
       "    }\n",
       "\n",
       "    .dataframe tbody tr th {\n",
       "        vertical-align: top;\n",
       "    }\n",
       "\n",
       "    .dataframe thead th {\n",
       "        text-align: right;\n",
       "    }\n",
       "</style>\n",
       "<table border=\"1\" class=\"dataframe\">\n",
       "  <thead>\n",
       "    <tr style=\"text-align: right;\">\n",
       "      <th></th>\n",
       "      <th>manufacturer</th>\n",
       "      <th>model</th>\n",
       "      <th>displ</th>\n",
       "      <th>year</th>\n",
       "      <th>cyl</th>\n",
       "      <th>trans</th>\n",
       "      <th>drv</th>\n",
       "      <th>cty</th>\n",
       "      <th>hwy</th>\n",
       "      <th>fl</th>\n",
       "      <th>class</th>\n",
       "    </tr>\n",
       "  </thead>\n",
       "  <tbody>\n",
       "    <tr>\n",
       "      <th>0</th>\n",
       "      <td>audi</td>\n",
       "      <td>a4</td>\n",
       "      <td>1.8</td>\n",
       "      <td>1999</td>\n",
       "      <td>4</td>\n",
       "      <td>auto(l5)</td>\n",
       "      <td>f</td>\n",
       "      <td>18</td>\n",
       "      <td>29</td>\n",
       "      <td>p</td>\n",
       "      <td>compact</td>\n",
       "    </tr>\n",
       "    <tr>\n",
       "      <th>1</th>\n",
       "      <td>audi</td>\n",
       "      <td>a4</td>\n",
       "      <td>1.8</td>\n",
       "      <td>1999</td>\n",
       "      <td>4</td>\n",
       "      <td>manual(m5)</td>\n",
       "      <td>f</td>\n",
       "      <td>21</td>\n",
       "      <td>29</td>\n",
       "      <td>p</td>\n",
       "      <td>compact</td>\n",
       "    </tr>\n",
       "    <tr>\n",
       "      <th>2</th>\n",
       "      <td>audi</td>\n",
       "      <td>a4</td>\n",
       "      <td>2.0</td>\n",
       "      <td>2008</td>\n",
       "      <td>4</td>\n",
       "      <td>manual(m6)</td>\n",
       "      <td>f</td>\n",
       "      <td>20</td>\n",
       "      <td>31</td>\n",
       "      <td>p</td>\n",
       "      <td>compact</td>\n",
       "    </tr>\n",
       "    <tr>\n",
       "      <th>3</th>\n",
       "      <td>audi</td>\n",
       "      <td>a4</td>\n",
       "      <td>2.0</td>\n",
       "      <td>2008</td>\n",
       "      <td>4</td>\n",
       "      <td>auto(av)</td>\n",
       "      <td>f</td>\n",
       "      <td>21</td>\n",
       "      <td>30</td>\n",
       "      <td>p</td>\n",
       "      <td>compact</td>\n",
       "    </tr>\n",
       "    <tr>\n",
       "      <th>4</th>\n",
       "      <td>audi</td>\n",
       "      <td>a4</td>\n",
       "      <td>2.8</td>\n",
       "      <td>1999</td>\n",
       "      <td>6</td>\n",
       "      <td>auto(l5)</td>\n",
       "      <td>f</td>\n",
       "      <td>16</td>\n",
       "      <td>26</td>\n",
       "      <td>p</td>\n",
       "      <td>compact</td>\n",
       "    </tr>\n",
       "  </tbody>\n",
       "</table>\n",
       "</div>"
      ],
      "text/plain": [
       "  manufacturer model  displ  year  cyl       trans drv  cty  hwy fl    class\n",
       "0         audi    a4    1.8  1999    4    auto(l5)   f   18   29  p  compact\n",
       "1         audi    a4    1.8  1999    4  manual(m5)   f   21   29  p  compact\n",
       "2         audi    a4    2.0  2008    4  manual(m6)   f   20   31  p  compact\n",
       "3         audi    a4    2.0  2008    4    auto(av)   f   21   30  p  compact\n",
       "4         audi    a4    2.8  1999    6    auto(l5)   f   16   26  p  compact"
      ]
     },
     "execution_count": 13,
     "metadata": {},
     "output_type": "execute_result"
    }
   ],
   "source": [
    "mpg.head()"
   ]
  },
  {
   "cell_type": "markdown",
   "metadata": {},
   "source": [
    "mpg数据集记录了美国1999年和2008年部分汽车的制造厂商，型号，类别，驱动程序和耗油量。\n",
    "- manufacturer 生产厂家\n",
    "- model 型号类型\n",
    "- year 生产年份\n",
    "- cty 和 hwy分别记录城市和高速公路驾驶耗油量\n",
    "- cyl 气缸数\n",
    "- displ 表示发动机排量\n",
    "- drv 表示驱动系统：前轮驱动、(f),后轮驱动®和四轮驱动(4)\n",
    "- class 表示车辆类型，如双座汽车，suv，小型汽车\n",
    "- fl (fuel type)，燃料类型"
   ]
  },
  {
   "cell_type": "code",
   "execution_count": 14,
   "metadata": {},
   "outputs": [
    {
     "data": {
      "image/png": "[encoded data removed]",
      "text/plain": [
       "<Figure size 640x480 with 1 Axes>"
      ]
     },
     "metadata": {},
     "output_type": "display_data"
    },
    {
     "name": "stdout",
     "output_type": "stream",
     "text": [
      "\n"
     ]
    }
   ],
   "source": [
    "# 绘制汽车在不同驱动系统下，发动机排量与耗油量的关系\n",
    "p1 = (\n",
    "    ggplot(mpg, aes(x='displ', y='hwy', color='drv'))     # 设置数据映射图层，数据集使用mpg，x数据使用mpg['displ']，y数据使用mpg['hwy']，颜色映射使用mog['drv']\n",
    "    + geom_point()       # 绘制散点图图层\n",
    "    + geom_smooth(method='lm')        # 绘制平滑线图层\n",
    "    + labs(x='displacement', y='horsepower')     # 绘制x、y标签图层\n",
    ")\n",
    "print(p1)   # 展示p1图像"
   ]
  },
  {
   "cell_type": "markdown",
   "metadata": {},
   "source": [
    "从上面的案例，我们可以看到Plotnine的绘图逻辑是：一句话一个图层。因此，在Plotnine中少量的代码就能画图非常漂亮的图表，而且可以画出很多很复杂的图表，就类似于PhotoShp能轻松画出十分复杂的图但是PPT需要大量时间也不一定能达到同样的效果。"
   ]
  },
  {
   "cell_type": "markdown",
   "metadata": {},
   "source": [
    "那什么时候选择Matplotlib、Seaborn还是Plotnine？"
   ]
  },
  {
   "cell_type": "markdown",
   "metadata": {},
   "source": [
    "Plotnine具有ggplot2的图层特性，但是由于开发时间较晚，目前这个工具包还有一些缺陷，其中最大的缺陷就是：没有实现除了直角坐标以外的坐标体系，如：极坐标。因此，Plotnine无法绘制类似于饼图、环图等图表。为了解决这个问题，在绘制直角坐标系的图表时，我们可以使用Plotnine进行绘制，当涉及极坐标图表时，我们使用Matplotlib和Seaborn进行绘制。有趣的是，Matplotlib具有ggplot风格，可以通过设置ggplot风格绘制具有ggplot风格的图表。\n",
    "```{python}\n",
    "plt.style.use(\"ggplot\")   #风格使用ggplot\n",
    "```\n",
    "\n",
    "但是值得注意的是，这里所说的绘制ggplot风格，是看起来像ggplot表格，但是实际上Matplotlib还是不具备图层风格。一旦设置ggplot风格，在接下来的所有运行的notebook代码绘图的风格都是ggplot，除非我们重启环境，才会回复默认风格。\n",
    "\n",
    "我们使用一个案例说明这一点：\n"
   ]
  },
  {
   "cell_type": "code",
   "execution_count": 15,
   "metadata": {},
   "outputs": [
    {
     "data": {
      "image/png": "[encoded data removed]",
      "text/plain": [
       "<Figure size 432x288 with 1 Axes>"
      ]
     },
     "metadata": {},
     "output_type": "display_data"
    }
   ],
   "source": [
    "# 准备数据\n",
    "x = np.linspace(-10, 10, 100)\n",
    "y = 2 * x + 1 + np.random.randn(100)\n",
    "df = pd.DataFrame({'x':x, 'y':y})\n",
    "\n",
    "# 使用matplotlib绘制带有拟合直线效果的散点图\n",
    "plt.style.use(\"ggplot\")   #风格使用ggplot\n",
    "func = np.polyfit(x,y,1)  # 拟合直线\n",
    "poly = np.poly1d(func)  # 设置拟合函数\n",
    "y_pred = poly(x) # 预测\n",
    "plt.scatter(x, y)  # 绘制点图\n",
    "plt.plot(x, y_pred)  # 绘制拟合直线图\n",
    "plt.xlabel('x')\n",
    "plt.ylabel('y')\n",
    "plt.show()"
   ]
  },
  {
   "cell_type": "markdown",
   "metadata": {},
   "source": [
    "## 3.Matplotlib绘图基础"
   ]
  },
  {
   "cell_type": "markdown",
   "metadata": {},
   "source": [
    "我们知道Matplotlib的绘图特性是：一句代码相当于图上的一个笔画。因此，如果知道Matplotlib的图上包含什么元素至关重要。\n",
    "\n",
    "Matplotlib 图表的组成元素包括: 图形 (figure)、坐标图形 (axes)、图名 (title)、图例 (legend)、 主要刻度 (major tick)、次要刻度 (minor tick)、主要刻度标签(major tick label)、次要刻度标签 (minor tick label)、 Y轴名 (Y axis label)、X轴名 ( X axis label)、边框图 (line)、数据标记 (markers)、网格 (grid) 线等。具体如图所示。\n",
    "\n",
    "<div>\n",
    "<img src=\"./images/1.png\" width=\"600\"/>\n",
    "</div>\n",
    "\n",
    "看着上面的图表，图表元素非常多，记也记不住，不用担心，我们对以上的绘图元素进行分类。一般来说，Mayplotlib绘图元素包括：基本绘图类型与容器绘图类型。下面，我们逐一看看：\n",
    "\n",
    "（1）基本绘图类型（graphic primitives）：点 (marker)、线 (line)、文本 (text)、图例 (legend)、网格线 (grid)、 标题 (title)、图片 (image) 等；\n",
    "\n",
    "（2）容器绘图类型（containers）：\n",
    "- Figure：最重要的元素，代表整个图像，所有的其他元素都是绘制在其上（如果有多个子图，子图也绘制在figure上）。Figure 对象包含一些特殊的 artist 对象，如图名 (title)、图例 (legend)。\n",
    "- Axes：第二重要的元素，代表 subplot（子图），数据都是显示在这个区域。一个Figure至少含有一个Axes对象，当绘制多个子图时\n",
    "- Axis：代表坐标轴对象，本质是一种带装饰的 spines，一般分为 xaxis 和 yaxis，Axis对象主要用于控制数据轴上的刻度位置和显示数值。\n",
    "- Spines：表示数据显示区域的边界，可以显示或不显示。\n",
    "- Artist：表示任何显示在 Figure 上的元素，Artist 是很通用的概念，几乎任何需要绘制的元素都可以当成是 Artist，但是一个 Artist 只能存在于一个 Axes 之上。\n",
    "\n",
    "如图所示：\n",
    "<div>\n",
    "<img src=\"./images/2.png\" width=\"600\"/>\n",
    "</div>\n",
    "\n",
    "一般来说，要使用Matplotlib画出一副图表，需要设置一个容器绘图类型，再在容器内添加基本绘图对象，如数据元素：点 (marker)、线 (line)、文本 (text)、图例 (legend)、网格线 (grid)、 标题 (title)、图片 (image) 等。除了数据元素以外，还需要设置**图表元素**，包括图表尺寸、坐标轴的轴名及其标签、刻度、图例、网格线等。以下图表显示了除数据元素以外的图表元素的函数：\n",
    "| 函数                   | 函数功能                  | 核心参数设置举例                                                                                                                                                                                                                                    |\n",
    "| :------------------- | :-------------------- | :------------------------------------------------------------------------------------------------------------------------------------------------------------------------------------------------------------------------------------------ |\n",
    "| figure()             | 设置图表的大小figsize与分辨率dpi | plt.figure(figsize=(6,3), dpi=75)                                                                                                                                                                                                           |\n",
    "| title()              | 设置图表标题                | plt.title(\"这是一个标题\")                                                                                                                                                                                                                         |\n",
    "| xlabel()/ylabel()    | 设置x轴和y轴标签             | plt.xlabel(\"这是x轴标签\")/plt.ylabel(\"这是y轴标签\")                                                                                                                                                                                                   |\n",
    "| axis()/xlim()/ylim() | 设置x轴和y轴的显示范围          | plt.axis(xmin=0, xmax=1, ymin=0\\.5)/ plt.xlim(0,1)/plt.ylim(0,1)                                                                                                                                                                            |\n",
    "| xticks()/yticks()    | 设置x轴和y轴的刻度数值          | plt.xticks(labels=['A', 'B', 'C', 'D'])/plt.yticks(list(np.arange(11))                                                                                                                                                                      |\n",
    "| grid()               | 设置网格线                 | plt.grid(b=True, which='both', axis='y')  <br> \\# b: 是否显示网格线 True/None;  <br> \\# which: 网格线显示的尺度。字符串，可选参数，取值范围为{'major', 'minor', 'both'}，默认为'both'。'major'为主刻度、'minor'为次刻度。\\# axis: 选择网格线显示的轴。字符串，可选参数，取值范围为{'both', 'x', 'y'}，默认为'both'`。 |\n",
    "| legend()             | 设置图表的图例               | plt.legend(\"这是一个图例\", loc='best') <br> \\# loc表示图例的位置，可选：0-'best', 1-'upper right',2-'upper left',3-'lower left',4-'lower right',5-'right',6-'center left',7-'center right', <br> \\# 8-'lower center',9-'upper center',10-'center'            |\n",
    "\n",
    "下面，我们使用几个案例说明以上的概念：\n",
    "- 创建一个figure，figure的大小figsize为(12,10);\n",
    "- 在figure中创建两个Axes子图；\n",
    "- 在每个Axes子图中分别绘制y=sin(x)和y=cos(x)图像，并添加title、xlabel、ylabel、axis、grid、和legend"
   ]
  },
  {
   "cell_type": "code",
   "execution_count": 61,
   "metadata": {},
   "outputs": [
    {
     "data": {
      "image/png": "[encoded data removed]",
      "text/plain": [
       "<Figure size 1152x432 with 2 Axes>"
      ]
     },
     "metadata": {},
     "output_type": "display_data"
    }
   ],
   "source": [
    "# 准备数据\n",
    "x = np.linspace(-2*np.pi, 2*np.pi, 100)\n",
    "y1 = np.sin(x)\n",
    "y2 = np.cos(x)\n",
    "# 开始绘图\n",
    "fig = plt.figure(figsize=(16,6))\n",
    "ax1 = fig.add_axes([0.1,0.1,0.4,0.8])  # [left, bottom, width, height], 它表示添加到画布中的矩形区域的左下角坐标(x, y)，以及宽度和高度\n",
    "plt.scatter(x=x, y=y1, label=r\"$y=sin(x)$\")   # 在axes1中绘制y=sin(x)散点图, label是为了legend能够知道是哪个绘图的图例\n",
    "plt.title(\"y = sin(x)\")   # 在axes1设置标题\n",
    "plt.xlabel(\"x\")    # 在axes1中设置x标签\n",
    "plt.ylabel(\"y\")    # 在axes1中设置y标签\n",
    "plt.axis(xmin=-2*np.pi, xmax=2*np.pi, ymin=-1, ymax=1)  # 在axes1中设置x轴和y轴显示范围\n",
    "plt.xticks(\n",
    "    ticks=[-2*np.pi, -3/2*np.pi, -np.pi, -1/2*np.pi, 0, 1/2*np.pi, np.pi, 3/2*np.pi, 2*np.pi], \n",
    "    labels=[r'$-2 \\pi$', r'$-\\frac{3 \\pi}{2}$', r'$-\\pi$', r'$-\\frac{\\pi}{2}$', r'$0$', r'$\\frac{\\pi}{2}$', r'$\\pi$', r'$\\frac{3 \\pi}{2}$', r'$2\\pi$']\n",
    "    )   # 在axes1中设置x轴刻度的值，ticks代表在哪个位置修改，labels代表修改的具体值是多少\n",
    "plt.grid(b=True, which='both')  # 在axes1中设置设置网格线\n",
    "plt.legend(loc=1)   # 在axes1中设置图例\n",
    "\n",
    "ax2 = fig.add_axes([0.6,0.1,0.4,0.8])  # [left, bottom, width, height], 它表示添加到画布中的矩形区域的左下角坐标(x, y)，以及宽度和高度\n",
    "plt.scatter(x=x, y=y2, label=r\"$y=cos(x)$\")   # 在axes2中绘制y=cos(x)散点图，label是为了legend能够知道是哪个绘图的图例\n",
    "plt.title(\"y = cos(x)\")  # 在axes2设置标题\n",
    "plt.xlabel(\"x\")     # 在axes2中设置x轴标签\n",
    "plt.ylabel(\"y\")    # 在axes2中设置y标签\n",
    "plt.axis(xmin=-2*np.pi, xmax=2*np.pi, ymin=-1, ymax=1)   # 在axes2中设置x轴和y轴显示范围\n",
    "plt.xticks(\n",
    "    ticks=[-2*np.pi, -3/2*np.pi, -np.pi, -1/2*np.pi, 0, 1/2*np.pi, np.pi, 3/2*np.pi, 2*np.pi], \n",
    "    labels=[r'$-2 \\pi$', r'$-\\frac{3 \\pi}{2}$', r'$-\\pi$', r'$-\\frac{\\pi}{2}$', r'$0$', r'$\\frac{\\pi}{2}$', r'$\\pi$', r'$\\frac{3 \\pi}{2}$', r'$2\\pi$']\n",
    "    )  # 在axes2中设置x轴刻度的值，ticks代表在哪个位置修改，labels代表修改的具体值是多少\n",
    "plt.grid(b=True, which='both')   # 在axes2中设置设置网格线\n",
    "plt.legend(loc=1)   # 在axes2中设置图例\n",
    "\n",
    "plt.show()"
   ]
  },
  {
   "cell_type": "markdown",
   "metadata": {},
   "source": [
    "以上的基本元素是是构成一张图所必须的，但是我们能绘制什么类型的图表至今都没有给出，直至目前为止我们也只学了散点图scatter的绘制。接下来给大家总结一下maplotlib能够绘制什么类型的图表，详细的案例会在后面给出：\n",
    "<table style=\"border-collapse: collapse; border: none; border-spacing: 0px;\">\n",
    "\t<tr>\n",
    "\t\t<td style=\"padding-right: 3pt; padding-left: 3pt;\">\n",
    "\t\t\t绘图函数\n",
    "\t\t</td>\n",
    "\t\t<td style=\"padding-right: 3pt; padding-left: 3pt;\">\n",
    "\t\t\t图表类型\n",
    "\t\t</td>\n",
    "\t\t<td style=\"padding-right: 3pt; padding-left: 3pt;\">\n",
    "\t\t\t绘图函数参数\n",
    "\t\t</td>\n",
    "\t</tr>\n",
    "\t<tr>\n",
    "\t\t<td style=\"padding-right: 3pt; padding-left: 3pt;\">\n",
    "\t\t\tplt.plot()\n",
    "\t\t</td>\n",
    "\t\t<td style=\"padding-right: 3pt; padding-left: 3pt;\">\n",
    "\t\t\t折线图\n",
    "\t\t</td>\n",
    "\t\t<td style=\"padding-right: 3pt; padding-left: 3pt;\">\n",
    "\t\t\t<ul>\n",
    "\t\t\t\t<li>\n",
    "\t\t\t\t\tx&nbsp;\n",
    "\t\t\t\t</li>\n",
    "\t\t\t\t<li>\n",
    "\t\t\t\t\ty\n",
    "\t\t\t\t</li>\n",
    "\t\t\t\t<li>\n",
    "\t\t\t\t\tcolor 线条颜色\n",
    "\t\t\t\t</li>\n",
    "\t\t\t\t<li>\n",
    "\t\t\t\t\tlinestyle线条类型\n",
    "\t\t\t\t</li>\n",
    "\t\t\t\t<li>\n",
    "\t\t\t\t\tlinewidth 线条宽度\n",
    "\t\t\t\t</li>\n",
    "\t\t\t\t<li>\n",
    "\t\t\t\t\tmarker 点的形状\n",
    "\t\t\t\t</li>\n",
    "\t\t\t\t<li>\n",
    "\t\t\t\t\tmarkeredgecolor 点的边框颜色\n",
    "\t\t\t\t</li>\n",
    "\t\t\t\t<li>\n",
    "\t\t\t\t\tmarkeredgewidth 点的边框的宽度\n",
    "\t\t\t\t</li>\n",
    "\t\t\t\t<li>\n",
    "\t\t\t\t\tmarkerfacecolor 点的填充颜色\n",
    "\t\t\t\t</li>\n",
    "\t\t\t\t<li>\n",
    "\t\t\t\t\tmarkersize 点的大小\n",
    "\t\t\t\t</li>\n",
    "\t\t\t\t<li>\n",
    "\t\t\t\t\tlabel 线图的标签（常配合legend）\n",
    "\t\t\t\t</li>\n",
    "\t\t\t</ul>\n",
    "\t\t</td>\n",
    "\t</tr>\n",
    "\t<tr>\n",
    "\t\t<td style=\"padding-right: 3pt; padding-left: 3pt;\">\n",
    "\t\t\tplt.scatter()\n",
    "\t\t</td>\n",
    "\t\t<td style=\"padding-right: 3pt; padding-left: 3pt;\">\n",
    "\t\t\t散点图、气泡图\n",
    "\t\t</td>\n",
    "\t\t<td style=\"padding-right: 3pt; padding-left: 3pt;\">\n",
    "\t\t\t<ul>\n",
    "\t\t\t\t<li>\n",
    "\t\t\t\t\tx\n",
    "\t\t\t\t</li>\n",
    "\t\t\t\t<li>\n",
    "\t\t\t\t\ty\n",
    "\t\t\t\t</li>\n",
    "\t\t\t\t<li>\n",
    "\t\t\t\t\ts 散点的大小（size）\n",
    "\t\t\t\t</li>\n",
    "\t\t\t\t<li>\n",
    "\t\t\t\t\tc 散点的颜色（color）\n",
    "\t\t\t\t</li>\n",
    "\t\t\t\t<li>\n",
    "\t\t\t\t\tmarker 散点的形状类型\n",
    "\t\t\t\t</li>\n",
    "\t\t\t\t<li>\n",
    "\t\t\t\t\tlinewidths 散点的边框宽度&nbsp;\n",
    "\t\t\t\t</li>\n",
    "\t\t\t\t<li>\n",
    "\t\t\t\t\tedgecolors 散点的边框颜色\n",
    "\t\t\t\t</li>\n",
    "\t\t\t\t<li>\n",
    "\t\t\t\t\tlabel 点图的标签（常配合legend）\n",
    "\t\t\t\t</li>\n",
    "\t\t\t</ul>\n",
    "\t\t</td>\n",
    "\t</tr>\n",
    "\t<tr>\n",
    "\t\t<td style=\"padding-right: 3pt; padding-left: 3pt;\">\n",
    "\t\t\tplt.bar()\n",
    "\t\t</td>\n",
    "\t\t<td style=\"padding-right: 3pt; padding-left: 3pt;\">\n",
    "\t\t\t柱状图、堆叠柱状图\n",
    "\t\t</td>\n",
    "\t\t<td style=\"padding-right: 3pt; padding-left: 3pt;\">\n",
    "\t\t\t<ul>\n",
    "\t\t\t\t<li>\n",
    "\t\t\t\t\tx\n",
    "\t\t\t\t</li>\n",
    "\t\t\t\t<li>\n",
    "\t\t\t\t\theight 柱子的高度\n",
    "\t\t\t\t</li>\n",
    "\t\t\t\t<li>\n",
    "\t\t\t\t\twidth 柱子的宽度\n",
    "\t\t\t\t</li>\n",
    "\t\t\t\t<li>\n",
    "\t\t\t\t\talign 柱子与x的对齐方式，有：{'center'居中对齐, 'edge'左侧对齐}，默认为'center'\n",
    "\t\t\t\t</li>\n",
    "\t\t\t\t<li>\n",
    "\t\t\t\t\tcolor 柱子的填充颜色\n",
    "\t\t\t\t</li>\n",
    "\t\t\t\t<li>\n",
    "\t\t\t\t\tedgecolor 柱子边框的颜色\n",
    "\t\t\t\t</li>\n",
    "\t\t\t\t<li>\n",
    "\t\t\t\t\tlinewidth 柱子边框线的宽度\n",
    "\t\t\t\t</li>\n",
    "\t\t\t</ul>\n",
    "\t\t</td>\n",
    "\t</tr>\n",
    "\t<tr>\n",
    "\t\t<td style=\"padding-right: 3pt; padding-left: 3pt;\">\n",
    "\t\t\tplt.barh()\n",
    "\t\t</td>\n",
    "\t\t<td style=\"padding-right: 3pt; padding-left: 3pt;\">\n",
    "\t\t\t横向柱状图\n",
    "\t\t</td>\n",
    "\t\t<td style=\"padding-right: 3pt; padding-left: 3pt;\">\n",
    "\t\t\t<ul>\n",
    "\t\t\t\t<li>\n",
    "\t\t\t\t\ty\n",
    "\t\t\t\t</li>\n",
    "\t\t\t\t<li>\n",
    "\t\t\t\t\theight 柱子的高度\n",
    "\t\t\t\t</li>\n",
    "\t\t\t\t<li>\n",
    "\t\t\t\t\twidth 柱子的宽度\n",
    "\t\t\t\t</li>\n",
    "\t\t\t\t<li>\n",
    "\t\t\t\t\talign 柱子与x的对齐方式\n",
    "\t\t\t\t\t<br>\n",
    "\t\t\t\t</li>\n",
    "\t\t\t\t<li>\n",
    "\t\t\t\t\tcolor 柱子的填充颜色\n",
    "\t\t\t\t</li>\n",
    "\t\t\t\t<li>\n",
    "\t\t\t\t\tedgecolor 柱子边框的颜色\n",
    "\t\t\t\t</li>\n",
    "\t\t\t\t<li>\n",
    "\t\t\t\t\tlinewidth 柱子边框线的宽度\n",
    "\t\t\t\t</li>\n",
    "\t\t\t</ul>\n",
    "\t\t</td>\n",
    "\t</tr>\n",
    "\t<tr>\n",
    "\t\t<td style=\"padding-right: 3pt; padding-left: 3pt;\">\n",
    "\t\t\tplt.hist()\n",
    "\t\t</td>\n",
    "\t\t<td style=\"padding-right: 3pt; padding-left: 3pt;\">\n",
    "\t\t\t直方图\n",
    "\t\t</td>\n",
    "\t\t<td style=\"padding-right: 3pt; padding-left: 3pt;\">\n",
    "\t\t\t<ul>\n",
    "\t\t\t\t<li>\n",
    "\t\t\t\t\tx\n",
    "\t\t\t\t</li>\n",
    "\t\t\t\t<li>\n",
    "\t\t\t\t\tbins 划分组数\n",
    "\t\t\t\t</li>\n",
    "\t\t\t\t<li>\n",
    "\t\t\t\t\trange 统计的范围，默认为(x.min(), x.max())\n",
    "\t\t\t\t</li>\n",
    "\t\t\t\t<li>\n",
    "\t\t\t\t\tdensity 频数直方图还是频率直方图\n",
    "\t\t\t\t</li>\n",
    "\t\t\t\t<li>\n",
    "\t\t\t\t\talign&nbsp;柱子与x的对齐方式\n",
    "\t\t\t\t</li>\n",
    "\t\t\t\t<li>\n",
    "\t\t\t\t\tcolor 颜色\n",
    "\t\t\t\t</li>\n",
    "\t\t\t\t<li>\n",
    "\t\t\t\t\tlabel 直方图的标签（常配合legend）\n",
    "\t\t\t\t</li>\n",
    "\t\t\t</ul>\n",
    "\t\t</td>\n",
    "\t</tr>\n",
    "\t<tr>\n",
    "\t\t<td style=\"padding-right: 3pt; padding-left: 3pt;\">\n",
    "\t\t\tplt.boxplot()&nbsp;\n",
    "\t\t</td>\n",
    "\t\t<td style=\"padding-right: 3pt; padding-left: 3pt;\">\n",
    "\t\t\t箱线图\n",
    "\t\t</td>\n",
    "\t\t<td style=\"padding-right: 3pt; padding-left: 3pt;\">\n",
    "\t\t\t<ul>\n",
    "\t\t\t\t<li>\n",
    "\t\t\t\t\tx\n",
    "\t\t\t\t</li>\n",
    "\t\t\t\t<li>\n",
    "\t\t\t\t\tnotch 是否凹口展示\n",
    "\t\t\t\t</li>\n",
    "\t\t\t\t<li>\n",
    "\t\t\t\t\tsym 散点的形状\n",
    "\t\t\t\t</li>\n",
    "\t\t\t\t<li>\n",
    "\t\t\t\t\tvert 水平箱线图还是竖向箱线图\n",
    "\t\t\t\t</li>\n",
    "\t\t\t\t<li>\n",
    "\t\t\t\t\twidths 箱子的宽度\n",
    "\t\t\t\t</li>\n",
    "\t\t\t\t<li>\n",
    "\t\t\t\t\tlabel 箱线图的标签（常配合legend）\n",
    "\t\t\t\t</li>\n",
    "\t\t\t</ul>\n",
    "\t\t</td>\n",
    "\t</tr>\n",
    "\t<tr>\n",
    "\t\t<td style=\"padding-right: 3pt; padding-left: 3pt;\">\n",
    "\t\t\tplt.fill_between()&nbsp;\n",
    "\t\t</td>\n",
    "\t\t<td style=\"padding-right: 3pt; padding-left: 3pt;\">\n",
    "\t\t\t面积图、填充图\n",
    "\t\t</td>\n",
    "\t\t<td style=\"padding-right: 3pt; padding-left: 3pt;\">\n",
    "\t\t\t<ul>\n",
    "\t\t\t\t<li>\n",
    "\t\t\t\t\tx\n",
    "\t\t\t\t</li>\n",
    "\t\t\t\t<li>\n",
    "\t\t\t\t\ty\n",
    "\t\t\t\t</li>\n",
    "\t\t\t\t<li>\n",
    "\t\t\t\t\tfacecolor 填充颜色\n",
    "\t\t\t\t</li>\n",
    "\t\t\t\t<li>\n",
    "\t\t\t\t\tedgecolor 边缘线条颜色\n",
    "\t\t\t\t</li>\n",
    "\t\t\t\t<li>\n",
    "\t\t\t\t\tlinewidth 边缘线宽度\n",
    "\t\t\t\t</li>\n",
    "\t\t\t\t<li>\n",
    "\t\t\t\t\twhere 填充的范围\n",
    "\t\t\t\t</li>\n",
    "\t\t\t\t<li>\n",
    "\t\t\t\t\tinterpolate&nbsp;interpolate只有在使用了where参数同时两条曲线交叉时才有效, 使用这个参数会把曲线交叉处也填充使得填充的更完整\n",
    "\t\t\t\t</li>\n",
    "\t\t\t\t<li>\n",
    "\t\t\t\t\talpha 透明度\n",
    "\t\t\t\t</li>\n",
    "\t\t\t\t<li>\n",
    "\t\t\t\t\tlabel 面积图的标签（常配合legend）<wbr>\n",
    "\t\t\t\t</li>\n",
    "\t\t\t</ul>\n",
    "\t\t</td>\n",
    "\t</tr>\n",
    "\t<tr>\n",
    "\t\t<td style=\"padding-right: 3pt; padding-left: 3pt;\">\n",
    "\t\t\tplt.stackplot()&nbsp;\n",
    "\t\t</td>\n",
    "\t\t<td style=\"padding-right: 3pt; padding-left: 3pt;\">\n",
    "\t\t\t堆叠面积图、河流图\n",
    "\t\t</td>\n",
    "\t\t<td style=\"padding-right: 3pt; padding-left: 3pt;\">\n",
    "\t\t\t<ul>\n",
    "\t\t\t\t<li>\n",
    "\t\t\t\t\tx&nbsp;尺寸为N的一维数组&nbsp;\n",
    "\t\t\t\t</li>\n",
    "\t\t\t\t<li>\n",
    "\t\t\t\t\ty&nbsp;尺寸为(M,N)的二维数组&nbsp;\n",
    "\t\t\t\t</li>\n",
    "\t\t\t\t<li>\n",
    "\t\t\t\t\tbaseline 基线，取值范围为{'zero', 'sym', 'wiggle', 'weighted_wiggle'}：'zero'：以0为基线，比如绘制简单的堆积面积图；'sym'：以0上下对称，有时被称为主题河流图；'wiggle'：所有序列的斜率平方和最小；'weighted_wiggle'： 类似于'wiggle'，但是增加各层的大小作为权重。绘制出的图形也被称为流图（streamgraph）。\n",
    "\t\t\t\t</li>\n",
    "\t\t\t\t<li>\n",
    "\t\t\t\t\t堆叠面积图的标签（常配合legend）\n",
    "\t\t\t\t</li>\n",
    "\t\t\t</ul>\n",
    "\t\t\t<wbr>\n",
    "\t\t</td>\n",
    "\t</tr>\n",
    "\t<tr>\n",
    "\t\t<td style=\"padding-right: 3pt; padding-left: 3pt;\">\n",
    "\t\t\tplt.pie()&nbsp;<wbr>\n",
    "\t\t</td>\n",
    "\t\t<td style=\"padding-right: 3pt; padding-left: 3pt;\">\n",
    "\t\t\t饼状图<wbr>\n",
    "\t\t</td>\n",
    "\t\t<td style=\"padding-right: 3pt; padding-left: 3pt;\">\n",
    "\t\t\t<ul>\n",
    "\t\t\t\t<li>\n",
    "\t\t\t\t\t<font><b>x&nbsp;</b> (每一块)的比例，如果sum(x) &gt; 1会使用sum(x)归一化</font><wbr>\n",
    "\t\t\t\t</li>\n",
    "\t\t\t\t<li>\n",
    "\t\t\t\t\t<font>colors 填充的颜色</font>\n",
    "\t\t\t\t</li>\n",
    "\t\t\t\t<li>\n",
    "\t\t\t\t\t<font>labels&nbsp;</font><font>(每一块)饼图外侧显示的说明文字</font>\n",
    "\t\t\t\t</li>\n",
    "\t\t\t\t<li>\n",
    "\t\t\t\t\t<font>radius&nbsp;控制饼图半径</font>\n",
    "\t\t\t\t</li>\n",
    "\t\t\t</ul>\n",
    "\t\t</td>\n",
    "\t</tr>\n",
    "\t<tr>\n",
    "\t\t<td style=\"padding-right: 3pt; padding-left: 3pt;\">\n",
    "\t\t\tplt.errorbar()&nbsp;\n",
    "\t\t</td>\n",
    "\t\t<td style=\"padding-right: 3pt; padding-left: 3pt;\">\n",
    "\t\t\t误差折线图&nbsp;\n",
    "\t\t</td>\n",
    "\t\t<td style=\"padding-right: 3pt; padding-left: 3pt;\">\n",
    "\t\t\t<ul>\n",
    "\t\t\t\t<li>\n",
    "\t\t\t\t\tx\n",
    "\t\t\t\t</li>\n",
    "\t\t\t\t<li>\n",
    "\t\t\t\t\ty\n",
    "\t\t\t\t</li>\n",
    "\t\t\t\t<li>\n",
    "\t\t\t\t\tyerr y轴的误差范围\n",
    "\t\t\t\t</li>\n",
    "\t\t\t\t<li>\n",
    "\t\t\t\t\txerr x轴的误差范围\n",
    "\t\t\t\t</li>\n",
    "\t\t\t\t<li>\n",
    "\t\t\t\t\tfmt fmt参数的值和plot方法中指定点的颜色，形状，线条风格的缩写方式相同，如：<font>fmt='co--'</font><wbr>\n",
    "\t\t\t\t</li>\n",
    "\t\t\t\t<li>\n",
    "\t\t\t\t\t<font>ecolor 误差线的颜色</font>\n",
    "\t\t\t\t</li>\n",
    "\t\t\t\t<li>\n",
    "\t\t\t\t\t<font>elinewidth 误差线的宽度</font>\n",
    "\t\t\t\t</li>\n",
    "\t\t\t\t<li>\n",
    "\t\t\t\t\t<font>ms 数据点的大小</font>\n",
    "\t\t\t\t</li>\n",
    "\t\t\t\t<li>\n",
    "\t\t\t\t\t<font>mfc 数据点的填充颜色</font>\n",
    "\t\t\t\t</li>\n",
    "\t\t\t\t<li>\n",
    "\t\t\t\t\t<font>mec 数据点边缘颜色</font>\n",
    "\t\t\t\t</li>\n",
    "\t\t\t\t<li>\n",
    "\t\t\t\t\t<font>capthick 误差线的粗细</font>\n",
    "\t\t\t\t</li>\n",
    "\t\t\t</ul>\n",
    "\t\t</td>\n",
    "\t</tr>\n",
    "\t<tr>\n",
    "\t\t<td style=\"padding-right: 3pt; padding-left: 3pt;\">\n",
    "\t\t\tplt.axhline()&nbsp;\n",
    "\t\t</td>\n",
    "\t\t<td style=\"padding-right: 3pt; padding-left: 3pt;\">\n",
    "\t\t\t水平直线\n",
    "\t\t</td>\n",
    "\t\t<td style=\"padding-right: 3pt; padding-left: 3pt;\">\n",
    "\t\t\t<ul>\n",
    "\t\t\t\t<li>\n",
    "\t\t\t\t\ty\n",
    "\t\t\t\t</li>\n",
    "\t\t\t\t<li>\n",
    "\t\t\t\t\txmin&nbsp;取值位于[0,1]之间，取值0时在图的左边界，取值1时在图的右边界\n",
    "\t\t\t\t</li>\n",
    "\t\t\t\t<li>\n",
    "\t\t\t\t\txmax&nbsp;取值位于[0,1]之间，0取值时在图的左边界，取值1时在图的右边界\n",
    "\t\t\t\t</li>\n",
    "\t\t\t\t<li>\n",
    "\t\t\t\t\tcolor 线条颜色\n",
    "\t\t\t\t</li>\n",
    "\t\t\t\t<li>\n",
    "\t\t\t\t\tlinestyle 线条类型\n",
    "\t\t\t\t</li>\n",
    "\t\t\t\t<li>\n",
    "\t\t\t\t\tlinewidth 线条宽度\n",
    "\t\t\t\t</li>\n",
    "\t\t\t\t<li>\n",
    "\t\t\t\t\tlabel 线图的标签（常配合legend）\n",
    "\t\t\t\t</li>\n",
    "\t\t\t</ul>\n",
    "\t\t</td>\n",
    "\t</tr>\n",
    "\t<tr>\n",
    "\t\t<td style=\"padding-right: 3pt; padding-left: 3pt;\">\n",
    "\t\t\tplt.axvline()&nbsp;\n",
    "\t\t</td>\n",
    "\t\t<td style=\"padding-right: 3pt; padding-left: 3pt;\">\n",
    "\t\t\t竖向直线\n",
    "\t\t</td>\n",
    "\t\t<td style=\"padding-right: 3pt; padding-left: 3pt;\">\n",
    "\t\t\t<ul>\n",
    "\t\t\t\t<li>\n",
    "\t\t\t\t\tx\n",
    "\t\t\t\t</li>\n",
    "\t\t\t\t<li>\n",
    "\t\t\t\t\tymin&nbsp;取值位于[0,1]之间，取值0时在图的左边界，取值1时在图的右边界\n",
    "\t\t\t\t</li>\n",
    "\t\t\t\t<li>\n",
    "\t\t\t\t\tymax&nbsp;取值位于[0,1]之间，0取值时在图的左边界，取值1时在图的右边界\n",
    "\t\t\t\t</li>\n",
    "\t\t\t\t<li>\n",
    "\t\t\t\t\tcolor 线条颜色\n",
    "\t\t\t\t</li>\n",
    "\t\t\t\t<li>\n",
    "\t\t\t\t\tlinestyle 线条类型\n",
    "\t\t\t\t</li>\n",
    "\t\t\t\t<li>\n",
    "\t\t\t\t\tlinewidth 线条宽度\n",
    "\t\t\t\t</li>\n",
    "\t\t\t\t<li>\n",
    "\t\t\t\t\tlabel 线图的标签（常配合legend）\n",
    "\t\t\t\t</li>\n",
    "\t\t\t</ul>\n",
    "\t\t</td>\n",
    "\t</tr>\n",
    "\t<tr>\n",
    "\t\t<td style=\"padding-right: 3pt; padding-left: 3pt;\">\n",
    "\t\t\tplt.axhspan()&nbsp;\n",
    "\t\t</td>\n",
    "\t\t<td style=\"padding-right: 3pt; padding-left: 3pt;\">\n",
    "\t\t\t水平矩形带\n",
    "\t\t</td>\n",
    "\t\t<td style=\"padding-right: 3pt; padding-left: 3pt;\">\n",
    "\t\t\t<ul>\n",
    "\t\t\t\t<li>\n",
    "\t\t\t\t\tymin 矩形条带下边界的y坐标\n",
    "\t\t\t\t</li>\n",
    "\t\t\t\t<li>\n",
    "\t\t\t\t\tymax 矩形条带上边界的y坐标\n",
    "\t\t\t\t</li>\n",
    "\t\t\t\t<li>\n",
    "\t\t\t\t\tfacecolor 填充颜色\n",
    "\t\t\t\t</li>\n",
    "\t\t\t\t<li>\n",
    "\t\t\t\t\talpha 透明度\n",
    "\t\t\t\t</li>\n",
    "\t\t\t\t<li>\n",
    "\t\t\t\t\tedgecolor 边缘线条颜色\n",
    "\t\t\t\t</li>\n",
    "\t\t\t\t<li>\n",
    "\t\t\t\t\tlinestyle 线条类型\n",
    "\t\t\t\t</li>\n",
    "\t\t\t\t<li>\n",
    "\t\t\t\t\tlinewidth 线条宽度\n",
    "\t\t\t\t</li>\n",
    "\t\t\t\t<li>\n",
    "\t\t\t\t\tlabel 条带标签（常配合legend）\n",
    "\t\t\t\t</li>\n",
    "\t\t\t</ul>\n",
    "\t\t</td>\n",
    "\t</tr>\n",
    "\t<tr>\n",
    "\t\t<td style=\"padding-right: 3pt; padding-left: 3pt;\">\n",
    "\t\t\tplt.axvspan()&nbsp;\n",
    "\t\t</td>\n",
    "\t\t<td style=\"padding-right: 3pt; padding-left: 3pt;\">\n",
    "\t\t\t竖直矩形带\n",
    "\t\t</td>\n",
    "\t\t<td style=\"padding-right: 3pt; padding-left: 3pt;\">\n",
    "\t\t\t<ul>\n",
    "\t\t\t\t<li>\n",
    "\t\t\t\t\txmin 矩形条带左边界的x坐标\n",
    "\t\t\t\t</li>\n",
    "\t\t\t\t<li>\n",
    "\t\t\t\t\txmax 矩形条带右边界的x坐标\n",
    "\t\t\t\t</li>\n",
    "\t\t\t\t<li>\n",
    "\t\t\t\t\tfacecolor 填充颜色\n",
    "\t\t\t\t</li>\n",
    "\t\t\t\t<li>\n",
    "\t\t\t\t\talpha 透明度\n",
    "\t\t\t\t</li>\n",
    "\t\t\t\t<li>\n",
    "\t\t\t\t\tedgecolor 边缘线条颜色\n",
    "\t\t\t\t</li>\n",
    "\t\t\t\t<li>\n",
    "\t\t\t\t\tlinestyle 线条类型\n",
    "\t\t\t\t</li>\n",
    "\t\t\t\t<li>\n",
    "\t\t\t\t\tlinewidth 线条宽度\n",
    "\t\t\t\t</li>\n",
    "\t\t\t\t<li>\n",
    "\t\t\t\t\tlabel 条带标签（常配合legend）\n",
    "\t\t\t\t</li>\n",
    "\t\t\t</ul>\n",
    "\t\t</td>\n",
    "\t</tr>\n",
    "\t<tr>\n",
    "\t\t<td style=\"padding-right: 3pt; padding-left: 3pt;\">\n",
    "\t\t\tplt.text()&nbsp;\n",
    "\t\t</td>\n",
    "\t\t<td style=\"padding-right: 3pt; padding-left: 3pt;\">\n",
    "\t\t\t文本\n",
    "\t\t</td>\n",
    "\t\t<td style=\"padding-right: 3pt; padding-left: 3pt;\">\n",
    "\t\t\t<ul>\n",
    "\t\t\t\t<li>\n",
    "\t\t\t\t\tx 文本位置的x坐标\n",
    "\t\t\t\t</li>\n",
    "\t\t\t\t<li>\n",
    "\t\t\t\t\ty 文本位置的y坐标\n",
    "\t\t\t\t</li>\n",
    "\t\t\t\t<li>\n",
    "\t\t\t\t\ts 文本\n",
    "\t\t\t\t</li>\n",
    "\t\t\t\t<li>\n",
    "\t\t\t\t\tfontdict 使用字典dict形式定义文本的字体属性，如：\n",
    "\t\t\t\t</li>\n",
    "\t\t\t</ul>\n",
    "\t\t\tfontdict =&nbsp;\n",
    "\t\t\t<br>\n",
    "\t\t\tdict(\n",
    "\t\t\t<br>\n",
    "\t\t\tfontsize=12,\n",
    "\t\t\t<br>\n",
    "\t\t\tcolor='r',\n",
    "\t\t\t<br>\n",
    "\t\t\tfamily='monospace',<i>#字体,可选'serif', 'sans-serif', 'cursive', 'fantasy', 'monospace'</i>\n",
    "\t\t\t<br>\n",
    "\t\t\tweight='bold',<i>#磅值，可选'light', 'normal', 'medium', 'semibold', 'bold', 'heavy', 'black'</i>&nbsp;\n",
    "\t\t\t<br>\n",
    "\t\t\t)<wbr>\n",
    "\t\t</td>\n",
    "\t</tr>\n",
    "\t<tr>\n",
    "\t\t<td style=\"padding-right: 3pt; padding-left: 3pt;\">\n",
    "\t\t\tplt.annotate()&nbsp;\n",
    "\t\t</td>\n",
    "\t\t<td style=\"padding-right: 3pt; padding-left: 3pt;\">\n",
    "\t\t\t添加带箭头的文本标注\n",
    "\t\t</td>\n",
    "\t\t<td style=\"padding-right: 3pt; padding-left: 3pt;\">\n",
    "\t\t\t<ul>\n",
    "\t\t\t\t<li>\n",
    "\t\t\t\t\ts 标注的文本内容\n",
    "\t\t\t\t</li>\n",
    "\t\t\t\t<li>\n",
    "\t\t\t\t\txy 代表标注点的坐标位置\n",
    "\t\t\t\t</li>\n",
    "\t\t\t\t<li>\n",
    "\t\t\t\t\txytext 标注的文字的坐标<wbr>\n",
    "\t\t\t\t</li>\n",
    "\t\t\t\t<li>\n",
    "\t\t\t\t\tarrowprops 箭头参数,参数类型为字典dict，如：<wbr>\n",
    "\t\t\t\t</li>\n",
    "\t\t\t</ul>\n",
    "\t\t\tarrowprops=dict(\n",
    "\t\t\t<br>\n",
    "\t\t\tarrowstyle = '-&gt;',&nbsp; # 箭头的风格\n",
    "\t\t\t<br>\n",
    "\t\t\tconnectionstyle = 'arc3,&nbsp;# 连接方式\n",
    "\t\t\t<br>\n",
    "\t\t\trad=0.2' # 弯曲的角度\n",
    "\t\t\t<br>\n",
    "\t\t\t)<wbr>\n",
    "\t\t</td>\n",
    "\t</tr>\n",
    "</table>\n",
    "\n",
    "理论上，有了绘图的基本元素以及基本图表，就可以使用Matplotlib绘制绝大多数的图表，足够满足我们的需求了。现在，我们把目光放到另一种绘图体系中，即：以ggplot2体系为基础的Plotnine绘图工具包的基本使用上，对比两个绘图工具包之间有什么区别。"
   ]
  },
  {
   "cell_type": "markdown",
   "metadata": {},
   "source": [
    "## 4.Plotnine绘图基础"
   ]
  },
  {
   "cell_type": "markdown",
   "metadata": {},
   "source": [
    "众所周知，Plotnine是模仿R语言ggplot2工具包而诞生的Python工具库，那什么是gg呢？ggplot2中的gg代表Grammer of Graphics，这是一个关于绘图的概念，这个概念强调使用“语法Grammer”来绘图。Plotnine绘图的基本语法跟R语言的ggplot2基本一致，Plotnine绘图使用图层的概念，其中Plotnine中的图层可以分为：必备图层和可选图层。\n"
   ]
  },
  {
   "cell_type": "markdown",
   "metadata": {},
   "source": []
  },
  {
   "cell_type": "markdown",
   "metadata": {},
   "source": [
    "## 5.基本图表的Quick Start"
   ]
  },
  {
   "cell_type": "markdown",
   "metadata": {},
   "source": [
    "现在，我们秉承“能用Plotnine就用Plotnine，否则用Matplotlib和Seaborn”为原则，给大家介绍常见图表的绘制，包括："
   ]
  }
 ],
 "metadata": {
  "interpreter": {
   "hash": "fa0644d4ff03b53b3eca70762d54d5f9801048dce9b97b826add6022eee3af68"
  },
  "kernelspec": {
   "display_name": "Python 3.9.2 ('pytorch_env')",
   "language": "python",
   "name": "python3"
  },
  "language_info": {
   "codemirror_mode": {
    "name": "ipython",
    "version": 3
   },
   "file_extension": ".py",
   "mimetype": "text/x-python",
   "name": "python",
   "nbconvert_exporter": "python",
   "pygments_lexer": "ipython3",
   "version": "3.9.2"
  },
  "orig_nbformat": 4
 },
 "nbformat": 4,
 "nbformat_minor": 2
}
